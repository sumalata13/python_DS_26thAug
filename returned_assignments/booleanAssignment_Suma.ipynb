{
 "cells": [
  {
   "cell_type": "code",
   "execution_count": 19,
   "id": "67712983",
   "metadata": {},
   "outputs": [
    {
     "name": "stdout",
     "output_type": "stream",
     "text": [
      "1\n",
      "-1\n",
      "0\n",
      "0.0\n",
      "0\n",
      "0\n",
      "0\n",
      "1\n"
     ]
    }
   ],
   "source": [
    "a=True\n",
    "b=False\n",
    "c=a+b\n",
    "d=b-a\n",
    "print(c)\n",
    "print(d)\n",
    "print(a*b)\n",
    "print(b/a)\n",
    "print(b//a)\n",
    "print(b%a)\n",
    "print(b**a)\n",
    "print(a**b)\n",
    "\n",
    "\n",
    "\n",
    "\n"
   ]
  },
  {
   "cell_type": "code",
   "execution_count": 28,
   "id": "5120c2f8",
   "metadata": {},
   "outputs": [
    {
     "name": "stdout",
     "output_type": "stream",
     "text": [
      "True\n",
      "False\n",
      "False\n",
      "True\n",
      "True\n",
      "False\n",
      "False\n",
      "True\n"
     ]
    }
   ],
   "source": [
    "a=True\n",
    "b=False\n",
    "print(a>b)\n",
    "print(b>a)\n",
    "c=a<b\n",
    "d=b<a\n",
    "print(c)\n",
    "print(d)\n",
    "print(a>=b)\n",
    "print(b>=a)\n",
    "c1=a<=b\n",
    "d1=b<=a\n",
    "print(c1)\n",
    "print(d1)"
   ]
  },
  {
   "cell_type": "code",
   "execution_count": 30,
   "id": "c7758f35",
   "metadata": {},
   "outputs": [
    {
     "name": "stdout",
     "output_type": "stream",
     "text": [
      "False\n",
      "True\n"
     ]
    }
   ],
   "source": [
    "a=True\n",
    "b=False\n",
    "print(a==b)\n",
    "print(b!=a)"
   ]
  },
  {
   "cell_type": "code",
   "execution_count": 35,
   "id": "4c61c573",
   "metadata": {},
   "outputs": [
    {
     "name": "stdout",
     "output_type": "stream",
     "text": [
      "True\n",
      "False\n",
      "False\n",
      "False\n",
      "True\n",
      "True\n",
      "True\n",
      "False\n",
      "False\n",
      "True\n"
     ]
    }
   ],
   "source": [
    "print(True and True)\n",
    "print(False and True)\n",
    "print(True and False)\n",
    "print(False and False)\n",
    "print(True or True)\n",
    "print(False or True)\n",
    "print(True or False)\n",
    "print(False or False)\n",
    "print(not True)\n",
    "print(not False)"
   ]
  },
  {
   "cell_type": "code",
   "execution_count": 44,
   "id": "b7b63b32",
   "metadata": {},
   "outputs": [
    {
     "name": "stdout",
     "output_type": "stream",
     "text": [
      "True\n",
      "True\n",
      "True\n",
      "-2\n",
      "4\n",
      "0\n",
      "0b10\n",
      "0b100\n"
     ]
    }
   ],
   "source": [
    "print( True & True)\n",
    "print( True | False)\n",
    "print( True ^ False)\n",
    "print(~ True)\n",
    "print(True <<2) \n",
    "print(True  >> 2) \n",
    "print(bin(2))\n",
    "print(bin(4))\n"
   ]
  },
  {
   "cell_type": "code",
   "execution_count": 47,
   "id": "b027035d",
   "metadata": {},
   "outputs": [
    {
     "name": "stdout",
     "output_type": "stream",
     "text": [
      "True\n",
      "False\n",
      "True\n",
      "False\n"
     ]
    }
   ],
   "source": [
    "a=True \n",
    "b=True\n",
    "print(a is b)\n",
    "print(a is not b)\n",
    "a=False \n",
    "b=False\n",
    "print(a is b)\n",
    "print(a is not b)"
   ]
  },
  {
   "cell_type": "code",
   "execution_count": 52,
   "id": "329a783d",
   "metadata": {},
   "outputs": [
    {
     "name": "stdout",
     "output_type": "stream",
     "text": [
      "True\n",
      "False\n",
      "True\n",
      "True\n",
      "True\n"
     ]
    }
   ],
   "source": [
    "print(True in [10,10.2,10+20j,'Python',True])\n",
    "print(False in [10,10.2,10+20j,'Python',True])\n",
    "print(True in {1,2,3,True})\n",
    "print(True in {True:100,False:200,True:300})\n",
    "print(False in {True:100,False:200,True:300})"
   ]
  },
  {
   "cell_type": "code",
   "execution_count": 53,
   "id": "b2fad3e6",
   "metadata": {},
   "outputs": [
    {
     "name": "stdout",
     "output_type": "stream",
     "text": [
      " Value of bool1 is --- True--- \n",
      "Id of bool1 is --- 140728524592976\n",
      "boolean of check ---True---boolean of check1---True---id of check ---140728524876656---id of check1 ---140728524876656\n"
     ]
    }
   ],
   "source": [
    "bool1= True\n",
    "print (' Value of bool1 is ', bool1,'\\nId of bool1 is ' ,id(bool1), sep='--- ')\n",
    "check = 35\n",
    "check1 = 35\n",
    "print('boolean of check ', bool(check), 'boolean of check1',bool(check1),'id of check ',id(check),'id of check1 ',id(check1),sep='---')     "
   ]
  },
  {
   "cell_type": "code",
   "execution_count": null,
   "id": "175a7eef",
   "metadata": {},
   "outputs": [],
   "source": []
  }
 ],
 "metadata": {
  "kernelspec": {
   "display_name": "Python 3",
   "language": "python",
   "name": "python3"
  },
  "language_info": {
   "codemirror_mode": {
    "name": "ipython",
    "version": 3
   },
   "file_extension": ".py",
   "mimetype": "text/x-python",
   "name": "python",
   "nbconvert_exporter": "python",
   "pygments_lexer": "ipython3",
   "version": "3.8.8"
  }
 },
 "nbformat": 4,
 "nbformat_minor": 5
}
