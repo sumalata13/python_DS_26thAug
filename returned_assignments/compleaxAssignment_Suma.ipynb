{
 "cells": [
  {
   "cell_type": "code",
   "execution_count": 4,
   "id": "674d500d",
   "metadata": {},
   "outputs": [
    {
     "name": "stdout",
     "output_type": "stream",
     "text": [
      "(3+4j)\n",
      "(3+4j) <class 'complex'>\n",
      "3.0\n",
      "4.0\n"
     ]
    }
   ],
   "source": [
    "a=3+4j\n",
    "print(a)\n",
    "print(a,type(a))\n",
    "print(a.real)\n",
    "print(a.imag)"
   ]
  },
  {
   "cell_type": "code",
   "execution_count": 10,
   "id": "b3d2d169",
   "metadata": {},
   "outputs": [
    {
     "name": "stdout",
     "output_type": "stream",
     "text": [
      "a+b-->(12+20j)\n",
      "a-b-->(6+12j)\n",
      "a*b-->(-37+84j)\n",
      "a/b-->(3.64+0.48j)\n",
      "a**b-->(-56.279931737596705+69.85041356024036j)\n"
     ]
    }
   ],
   "source": [
    "a=9+16j\n",
    "b=3+4j\n",
    "print('a+b', a+b,sep = '-->' )\n",
    "print('a-b', a-b,sep = '-->' )\n",
    "print('a*b', a*b,sep = '-->' )\n",
    "print('a/b', a/b,sep = '-->' )\n",
    "print('a**b', a**b,sep = '-->' )"
   ]
  },
  {
   "cell_type": "code",
   "execution_count": 18,
   "id": "c2cce6bd",
   "metadata": {},
   "outputs": [
    {
     "name": "stdout",
     "output_type": "stream",
     "text": [
      "False\n",
      "True\n",
      "True\n",
      "True\n",
      "True\n",
      "True\n"
     ]
    }
   ],
   "source": [
    "a=9+16j\n",
    "b=3+4j\n",
    "c=34\n",
    "print(a==b)\n",
    "print(a!=b)\n",
    "print(c>b.real )\n",
    "print(c>b.imag )\n",
    "print(a.imag >b.imag )\n",
    "print(a.imag >b.real )\n",
    "#print(a < b) --Comparision not suported between instances of 'complex' and 'complex'"
   ]
  },
  {
   "cell_type": "code",
   "execution_count": 26,
   "id": "58b6bb6a",
   "metadata": {},
   "outputs": [
    {
     "name": "stdout",
     "output_type": "stream",
     "text": [
      "(20+30j)\n",
      "(10+20j)\n",
      "0j\n",
      "0j\n",
      "0j\n",
      "(10+20j)\n",
      "(20+30j)\n",
      "(10+20j)\n",
      "(10+20j)\n",
      "0j\n",
      "False\n",
      "True\n"
     ]
    }
   ],
   "source": [
    "a=10+20j\n",
    "b=20+30j\n",
    "c=0+0j\n",
    "print(a and b)\n",
    "print(b and a)\n",
    "print(a and c)\n",
    "print(c and a)\n",
    "print(c and c )\n",
    "print(a or b)\n",
    "print(b or a)\n",
    "print(a or c)\n",
    "print(c or a)\n",
    "print(c or c )\n",
    "print(not a)\n",
    "print(not c)\n"
   ]
  },
  {
   "cell_type": "code",
   "execution_count": 28,
   "id": "62d77107",
   "metadata": {},
   "outputs": [
    {
     "name": "stdout",
     "output_type": "stream",
     "text": [
      "False\n",
      "True\n"
     ]
    }
   ],
   "source": [
    "a=10+20j\n",
    "b=10+20j\n",
    "print(a is b)\n",
    "print(a is not b)"
   ]
  },
  {
   "cell_type": "code",
   "execution_count": 43,
   "id": "c0bac484",
   "metadata": {},
   "outputs": [
    {
     "name": "stdout",
     "output_type": "stream",
     "text": [
      "True\n",
      "True\n",
      "True\n",
      "True\n",
      "True\n",
      "False\n",
      "True\n",
      "True\n"
     ]
    }
   ],
   "source": [
    "print('2.7' in 'python2.7.8')\n",
    "print(10+20j in [10,10.20,10+20j,'python'])\n",
    "print(10+20j in (10,10.20,10+20j,'python'))\n",
    "print(30+40j in {1,20.30,30+40j})\n",
    "print(30+40j in {1:100,2.3:200,30+40j:300})\n",
    "print(60+40j in {1:100,2.3:200,30+40j:300,4:60+40j})\n",
    "dict={1:100,2.3:200,30+40j:300,4:60+40j}\n",
    "print(60+40j in dict.values())\n",
    "print(10 in range(20))"
   ]
  },
  {
   "cell_type": "code",
   "execution_count": null,
   "id": "5e12ddb9",
   "metadata": {},
   "outputs": [],
   "source": []
  }
 ],
 "metadata": {
  "kernelspec": {
   "display_name": "Python 3",
   "language": "python",
   "name": "python3"
  },
  "language_info": {
   "codemirror_mode": {
    "name": "ipython",
    "version": 3
   },
   "file_extension": ".py",
   "mimetype": "text/x-python",
   "name": "python",
   "nbconvert_exporter": "python",
   "pygments_lexer": "ipython3",
   "version": "3.8.8"
  }
 },
 "nbformat": 4,
 "nbformat_minor": 5
}
