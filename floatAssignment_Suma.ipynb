{
 "cells": [
  {
   "cell_type": "code",
   "execution_count": 2,
   "id": "9a1201ae",
   "metadata": {},
   "outputs": [
    {
     "name": "stdout",
     "output_type": "stream",
     "text": [
      "<class 'float'>\n",
      "2438859694800\n"
     ]
    }
   ],
   "source": [
    "a=3.5\n",
    "print(type(a))\n",
    "print(id(a))"
   ]
  },
  {
   "cell_type": "code",
   "execution_count": 12,
   "id": "1f87a0eb",
   "metadata": {},
   "outputs": [
    {
     "name": "stdout",
     "output_type": "stream",
     "text": [
      "sum-->5.9\n",
      "differnce-->1.48\n",
      "product-->8.1549\n",
      "division-->1.669683257918552\n",
      "reminder-->1.48\n",
      "quotient-->1.0\n",
      "exponent-->17.91134788967654\n"
     ]
    }
   ],
   "source": [
    "a=3.69\n",
    "b=2.21\n",
    "print('sum',a+b,sep='-->')\n",
    "print('differnce',a-b,sep='-->')\n",
    "print('product',a*b,sep='-->')\n",
    "print('division',a/b,sep='-->')\n",
    "print('reminder',a%b,sep='-->')\n",
    "print('quotient',a//b,sep='-->')\n",
    "print('exponent',a**b,sep='-->')\n",
    "\n"
   ]
  },
  {
   "cell_type": "code",
   "execution_count": 13,
   "id": "339dd6f3",
   "metadata": {},
   "outputs": [
    {
     "name": "stdout",
     "output_type": "stream",
     "text": [
      "True\n",
      "False\n",
      "False\n",
      "True\n",
      "True\n",
      "False\n",
      "False\n",
      "True\n"
     ]
    }
   ],
   "source": [
    "a=3.69\n",
    "b=2.21\n",
    "print(a>b)\n",
    "print(b>a)\n",
    "c=a<b\n",
    "d=b<a\n",
    "print(c)\n",
    "print(d)\n",
    "print(a>=b)\n",
    "print(b>=a)\n",
    "c1=a<=b\n",
    "d1=b<=a\n",
    "print(c1)\n",
    "print(d1)"
   ]
  },
  {
   "cell_type": "code",
   "execution_count": 14,
   "id": "73bbf25b",
   "metadata": {},
   "outputs": [
    {
     "name": "stdout",
     "output_type": "stream",
     "text": [
      "False\n",
      "True\n"
     ]
    }
   ],
   "source": [
    "a=3.69\n",
    "b=2.21\n",
    "print(a==b)\n",
    "print(b!=a)"
   ]
  },
  {
   "cell_type": "code",
   "execution_count": 17,
   "id": "940dd8e8",
   "metadata": {},
   "outputs": [
    {
     "name": "stdout",
     "output_type": "stream",
     "text": [
      "20.3\n",
      "10.2\n",
      "0.0\n",
      "0.0\n",
      "0.0\n",
      "10.2\n",
      "20.3\n",
      "10.2\n",
      "10.2\n",
      "0.0\n",
      "False\n",
      "True\n"
     ]
    }
   ],
   "source": [
    "a=10.20\n",
    "b=20.30\n",
    "c=0.0\n",
    "print(a and b)\n",
    "print(b and a)\n",
    "print(a and c)\n",
    "print(c and a)\n",
    "print(c and c )\n",
    "print(a or b)\n",
    "print(b or a)\n",
    "print(a or c)\n",
    "print(c or a)\n",
    "print(c or c )\n",
    "print(not a)\n",
    "print(not c)\n",
    "\n"
   ]
  },
  {
   "cell_type": "code",
   "execution_count": 21,
   "id": "fd3eda2d",
   "metadata": {},
   "outputs": [
    {
     "name": "stdout",
     "output_type": "stream",
     "text": [
      "False\n",
      "True\n",
      "2438859694544\n",
      "2438859694800\n",
      "2438859694544\n"
     ]
    }
   ],
   "source": [
    "a=10.20\n",
    "a1=10.20\n",
    "b=20.30\n",
    "a=c\n",
    "print(a is b)\n",
    "print(a is not b)\n",
    "print(id(a))\n",
    "print(id(a1))\n",
    "print(id(c))"
   ]
  },
  {
   "cell_type": "code",
   "execution_count": 24,
   "id": "e3b2fdfe",
   "metadata": {},
   "outputs": [
    {
     "name": "stdout",
     "output_type": "stream",
     "text": [
      "True\n",
      "True\n",
      "True\n",
      "True\n",
      "True\n",
      "False\n",
      "True\n",
      "True\n"
     ]
    }
   ],
   "source": [
    "print('2.7' in 'python2.7.8')\n",
    "print(10.20 in [10,10.20,10+20j,'python'])\n",
    "print(10.20 in (10,10.20,10+20j,'python'))\n",
    "print(20.30 in {1,20.30,30+40j})\n",
    "print(2.3 in {1:100,2.3:200,30+40j:300})\n",
    "print(2.35 in {1:100,2.3:200,30+40j:300,4:2.35})\n",
    "dict={1:100,2.3:200,30+40j:300,4:2.35}\n",
    "print(2.35 in dict.values())\n",
    "print(10 in range(20))"
   ]
  },
  {
   "cell_type": "code",
   "execution_count": null,
   "id": "39935ea8",
   "metadata": {},
   "outputs": [],
   "source": []
  }
 ],
 "metadata": {
  "kernelspec": {
   "display_name": "Python 3",
   "language": "python",
   "name": "python3"
  },
  "language_info": {
   "codemirror_mode": {
    "name": "ipython",
    "version": 3
   },
   "file_extension": ".py",
   "mimetype": "text/x-python",
   "name": "python",
   "nbconvert_exporter": "python",
   "pygments_lexer": "ipython3",
   "version": "3.8.8"
  }
 },
 "nbformat": 4,
 "nbformat_minor": 5
}
