{
 "cells": [
  {
   "cell_type": "code",
   "execution_count": 5,
   "id": "15f71231",
   "metadata": {},
   "outputs": [
    {
     "name": "stdout",
     "output_type": "stream",
     "text": [
      "<class 'int'>\n",
      "140728524875632\n",
      "140728524875632\n",
      "2547934991312\n",
      "2547934991152\n"
     ]
    }
   ],
   "source": [
    "a=3\n",
    "print(type(a))\n",
    "print(id(a))\n",
    "b=3\n",
    "print(id(b))\n",
    "c=-6\n",
    "d=-6\n",
    "print(id(c))\n",
    "print(id(d))"
   ]
  },
  {
   "cell_type": "code",
   "execution_count": 6,
   "id": "e2f6a037",
   "metadata": {},
   "outputs": [
    {
     "name": "stdout",
     "output_type": "stream",
     "text": [
      "sum-->360\n",
      "differnce-->352\n",
      "product-->1424\n",
      "division-->89.0\n",
      "reminder-->0\n",
      "quotient-->89\n",
      "exponent-->16062013696\n"
     ]
    }
   ],
   "source": [
    "a=356\n",
    "b=4\n",
    "print('sum',a+b,sep='-->')\n",
    "print('differnce',a-b,sep='-->')\n",
    "print('product',a*b,sep='-->')\n",
    "print('division',a/b,sep='-->')\n",
    "print('reminder',a%b,sep='-->')\n",
    "print('quotient',a//b,sep='-->')\n",
    "print('exponent',a**b,sep='-->')\n",
    "\n"
   ]
  },
  {
   "cell_type": "code",
   "execution_count": 7,
   "id": "9f976422",
   "metadata": {},
   "outputs": [
    {
     "name": "stdout",
     "output_type": "stream",
     "text": [
      "True\n",
      "False\n",
      "False\n",
      "True\n",
      "True\n",
      "False\n",
      "False\n",
      "True\n"
     ]
    }
   ],
   "source": [
    "a=356\n",
    "b=4\n",
    "print(a>b)\n",
    "print(b>a)\n",
    "c=a<b\n",
    "d=b<a\n",
    "print(c)\n",
    "print(d)\n",
    "print(a>=b)\n",
    "print(b>=a)\n",
    "c1=a<=b\n",
    "d1=b<=a\n",
    "print(c1)\n",
    "print(d1)"
   ]
  },
  {
   "cell_type": "code",
   "execution_count": 8,
   "id": "9b1d537e",
   "metadata": {},
   "outputs": [
    {
     "name": "stdout",
     "output_type": "stream",
     "text": [
      "False\n",
      "True\n"
     ]
    }
   ],
   "source": [
    "a=3\n",
    "b=2\n",
    "print(a==b)\n",
    "print(b!=a)"
   ]
  },
  {
   "cell_type": "code",
   "execution_count": 9,
   "id": "c0755f3d",
   "metadata": {},
   "outputs": [
    {
     "name": "stdout",
     "output_type": "stream",
     "text": [
      "20\n",
      "10\n",
      "0\n",
      "0\n",
      "0\n",
      "10\n",
      "20\n",
      "10\n",
      "10\n",
      "0\n",
      "False\n",
      "True\n"
     ]
    }
   ],
   "source": [
    "a=10\n",
    "b=20\n",
    "c=0\n",
    "print(a and b)\n",
    "print(b and a)\n",
    "print(a and c)\n",
    "print(c and a)\n",
    "print(c and c )\n",
    "print(a or b)\n",
    "print(b or a)\n",
    "print(a or c)\n",
    "print(c or a)\n",
    "print(c or c )\n",
    "print(not a)\n",
    "print(not c)\n",
    "\n"
   ]
  },
  {
   "cell_type": "code",
   "execution_count": 15,
   "id": "0ee7d9e1",
   "metadata": {},
   "outputs": [
    {
     "name": "stdout",
     "output_type": "stream",
     "text": [
      "True\n",
      "False\n",
      "140728524875856\n",
      "140728524875856\n",
      "False\n",
      "True\n",
      "2547950671024\n",
      "2547950671824\n",
      "20\n"
     ]
    }
   ],
   "source": [
    "a=10\n",
    "b=10\n",
    "print(a is b)\n",
    "print(a is not b)\n",
    "print(id(a))\n",
    "print(id(b))\n",
    "a=1000\n",
    "b=1000\n",
    "print(a is b)\n",
    "print(a is not b)\n",
    "print(id(a))\n",
    "print(id(b))\n",
    "print(10+(10*32)//2**5&20+(~(-10))<<2)"
   ]
  },
  {
   "cell_type": "code",
   "execution_count": 16,
   "id": "28daf170",
   "metadata": {},
   "outputs": [
    {
     "name": "stdout",
     "output_type": "stream",
     "text": [
      "True\n",
      "True\n",
      "True\n",
      "True\n",
      "True\n",
      "True\n",
      "True\n"
     ]
    }
   ],
   "source": [
    "print('2' in 'python2.7.8')\n",
    "print(10 in [10,10.20,10+20j,'python'])\n",
    "print(10 in (10,10.20,10+20j,'python'))\n",
    "print(20 in {1,20,30+40j})\n",
    "print(2 in {1:100,2:200,30+40j:300})\n",
    "dict={1:100,2.3:200,30+40j:300,4:2}\n",
    "print(2 in dict.values())\n",
    "print(10 in range(20))"
   ]
  },
  {
   "cell_type": "code",
   "execution_count": 11,
   "id": "a1f8b15a",
   "metadata": {},
   "outputs": [
    {
     "name": "stdout",
     "output_type": "stream",
     "text": [
      "0\n",
      "30\n",
      "30\n",
      "-11\n",
      "4\n",
      "0\n"
     ]
    }
   ],
   "source": [
    "a=10\n",
    "b=20\n",
    "print( a & b)\n",
    "print( a | b)\n",
    "print( a ^ b)\n",
    "print(~ a)\n",
    "print(10 <<2) \n",
    "print(10 >> 2)"
   ]
  },
  {
   "cell_type": "code",
   "execution_count": 28,
   "id": "755ba407",
   "metadata": {},
   "outputs": [
    {
     "name": "stdout",
     "output_type": "stream",
     "text": [
      "80\n",
      "3870\n",
      "64222\n",
      "0b1010000\n",
      "0o7436\n",
      "0xfade\n",
      "0b1010000\n",
      "0b1111101011011110\n",
      "0o175336\n",
      "0o7436\n",
      "0x50\n",
      "0xfade\n"
     ]
    }
   ],
   "source": [
    "a=0b1010000\n",
    "print(a)\n",
    "b=0o7436\n",
    "print(b)\n",
    "c=0xfade\n",
    "print(c)\n",
    "print(bin(80))\n",
    "print(oct(3870))\n",
    "print(hex(64222))\n",
    "print(bin(0b1010000))\n",
    "print(bin(0xfade))\n",
    "print(oct(0xfade))\n",
    "print(oct(0o7436))\n",
    "print(hex(0b1010000))\n",
    "print(hex(0xfade))"
   ]
  },
  {
   "cell_type": "code",
   "execution_count": null,
   "id": "61bd2dcf",
   "metadata": {},
   "outputs": [],
   "source": []
  }
 ],
 "metadata": {
  "kernelspec": {
   "display_name": "Python 3",
   "language": "python",
   "name": "python3"
  },
  "language_info": {
   "codemirror_mode": {
    "name": "ipython",
    "version": 3
   },
   "file_extension": ".py",
   "mimetype": "text/x-python",
   "name": "python",
   "nbconvert_exporter": "python",
   "pygments_lexer": "ipython3",
   "version": "3.8.8"
  }
 },
 "nbformat": 4,
 "nbformat_minor": 5
}
