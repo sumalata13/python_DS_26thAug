{
 "cells": [
  {
   "cell_type": "markdown",
   "metadata": {
    "id": "wNRNTbrsc53d"
   },
   "source": [
    "# If - elif - else statement"
   ]
  },
  {
   "cell_type": "code",
   "execution_count": null,
   "metadata": {
    "id": "MiPfTnBycxNa"
   },
   "outputs": [],
   "source": [
    "#W. A P. which takes one number from 0 to 9 from the user and prints it in the word. And if the word is not from 0 to 9 then\n",
    "#it should print that number is outside of the range and program should exit.\n",
    "# For exapmple:- \n",
    "# input = 1\n",
    "# output = one\n",
    "for i in range(9):\n",
    "    numb=int(input(\"Enter the number :\"))\n",
    "    if(numb==0):\n",
    "        print(\"Zero\")\n",
    "    elif(numb==1):\n",
    "        print(\"One\")\n",
    "    elif(numb==2):\n",
    "        print(\"Two\")\n",
    "    elif(numb==3):\n",
    "        print(\"Three\")\n",
    "    elif(numb==4):\n",
    "        print(\"Four\")\n",
    "    elif(numb==5):\n",
    "        print(\"Five\")\n",
    "    elif(numb==6):\n",
    "        print(\"Six\")\n",
    "    elif(numb==7):\n",
    "        print(\"Seven\")\n",
    "    elif(numb==8):\n",
    "        print(\"Eight\")\n",
    "    elif(numb==9):\n",
    "        print(\"Nine\")\n",
    "    else:\n",
    "        print(\"number is outside of the range\")\n",
    "        break\n",
    "        "
   ]
  },
  {
   "cell_type": "code",
   "execution_count": null,
   "metadata": {
    "id": "vEMNOv9zdA39"
   },
   "outputs": [],
   "source": [
    "#W. A P. to implement calculator but the operation to be done and two numbers will be taken as input from user:-\n",
    "#Operation console should show below:-\n",
    "#     Please select any one operation from below:-\n",
    "#         * To add enter 1\n",
    "#         * to subtract enter 2\n",
    "#         * To multiply enter 3\n",
    "#         * To divide enter 4\n",
    "#         * To divide and find quotient enter 5\n",
    "#         * To divide and find remainder enter 6\n",
    "#         * To divide and find num1 to the power of num2 enter 7\n",
    "#         * To Come out of the program enter 8\n",
    "\n",
    "a=int(input(\"Enter 1st number :\"))\n",
    "b=int(input(\"Enter 2nd number :\"))\n",
    "print(\"* To add enter 1\")\n",
    "print(\"* to subtract enter 2\")\n",
    "print(\"* To multiply enter 3\")\n",
    "print(\"* To divide enter 4\")\n",
    "print(\"* To divide and find quotient enter 5\")\n",
    "print(\"* To divide and find remainder enter 6\")\n",
    "print(\"* find num1 to the power of num2 enter 7\")\n",
    "print(\"* To Come out of the program enter 8\")\n",
    "op=int(input(\"Enter the required operation\"))\n",
    "if op==1:\n",
    "    print(f\"Summation of {a} and {b} is {a+b}\")\n",
    "elif op==2:\n",
    "     print(f\"differnce of {a} and {b} is {a-b if a>b else b-a}\")\n",
    "elif op==3:\n",
    "    print(f\"Product of {a} and {b} is {a*b}\")\n",
    "elif op==4:\n",
    "    print(f\"division of {a} and {b} is {a/b}\")\n",
    "elif op==5:\n",
    "     print(f\"division quotient of {a} and {b} is {a//b}\")\n",
    "elif op==6:\n",
    "     print(f\"Reminder of {a} and {b} is {a%b}\")\n",
    "elif op==7:\n",
    "     print(f\"power of {a} and {b} is {a^b}\")\n",
    "elif op==8:\n",
    "     print(\"Program ended\")\n",
    "else:\n",
    "    print(\"Invalid input\")"
   ]
  },
  {
   "cell_type": "code",
   "execution_count": 6,
   "metadata": {
    "id": "1e2gwYLqdC1s"
   },
   "outputs": [
    {
     "name": "stdout",
     "output_type": "stream",
     "text": [
      "Enter the year: 1900\n",
      "1900 is not a leap year\n"
     ]
    }
   ],
   "source": [
    "#W A P to check whether a year entered by user is an leap year or not?\n",
    "#Check with below input:-\n",
    "    #leap year:- 2012, 1968, 2004, 1200, 1600,2400\n",
    "    #Non-lear year:- 1971, 2006, 1700,1800,1900\n",
    "year=int(input(\"Enter the year: \"))\n",
    "if year%4==0 and year%400==0:\n",
    "    print(f\"{year} is a leap year\")\n",
    "else:\n",
    "     print(f\"{year} is not a leap year\")\n"
   ]
  },
  {
   "cell_type": "code",
   "execution_count": null,
   "metadata": {
    "id": "_tpXv1EtdEre"
   },
   "outputs": [],
   "source": [
    "#W A P which takes one number from the user and checks whether it is an even or odd number?, If it even then prints number is \n",
    "#even number else prints that number is odd number.\n",
    "\n",
    "num=int(input(\"Enter the number\"))\n",
    "if num%2==0 :\n",
    "    print(\"Entered number is even\")\n",
    "else:\n",
    "    print(\"Entered number is odd\")"
   ]
  },
  {
   "cell_type": "code",
   "execution_count": 13,
   "metadata": {
    "id": "Q1HumymCdG6i"
   },
   "outputs": [
    {
     "name": "stdout",
     "output_type": "stream",
     "text": [
      "Enter the 1st number: 7\n",
      "Enter the 2nd number: 80\n",
      "80 is greater than 7\n",
      "80 is greater than 7\n"
     ]
    }
   ],
   "source": [
    "#W A P which takes two numbers from the user and prints below output:-\n",
    "#     1. num1 is greater than num2 if num1 is greater than num2\n",
    "#     2. num1 is smaller than num2 if num1 is smaller than num2\n",
    "#     3. num1 is equal to num2 if num1 and num2 are equal\n",
    "\n",
    "#Note:- 1. Do this problem using if - else \n",
    "#       2. Do this using ternary operator\n",
    "num1=int(input(\"Enter the 1st number: \"))\n",
    "num2=int(input(\"Enter the 2nd number: \"))\n",
    "if num1 > num2:\n",
    "    print(f\"{num1} is greater than {num2}\")\n",
    "elif num1== num2 :\n",
    "    print(f\"{num1} is equal to {num2}\")\n",
    "else:\n",
    "    print(f\"{num2} is greater than {num1}\")\n",
    "print(f\"{num1} is greater than {num2}\")if num1> num2 else(print(\"num1 equal to numm2\") if num1==num2 else print(f\"{num2} is greater than {num1}\"))\n"
   ]
  },
  {
   "cell_type": "code",
   "execution_count": 18,
   "metadata": {
    "id": "LR6TVB-DdOPf"
   },
   "outputs": [
    {
     "name": "stdout",
     "output_type": "stream",
     "text": [
      "Enter 3 numbers: 3 50 7\n",
      "7 is greater than 3 and 50\n",
      "7 is greater than 3 and 50\n"
     ]
    }
   ],
   "source": [
    "#W A P which takes three numbers from the user and prints below output:-\n",
    "#     1. num1 is greater than num2 and num3 if num1 is greater than num2 and num3\n",
    "#     2. num2 is greater than num1 and num3 if num2 is greater than num1 and num3\n",
    "#     3. num3 is greater than num1 and num2 if num3 is greater than num1 and num2\n",
    "\n",
    "#Note:- 1. Do this problem using if - elif - else \n",
    "#       2. Do this using ternary operator\n",
    "\n",
    "# a = a if a>b else b\n",
    "a,b,c=input(\"Enter 3 numbers: \").split()\n",
    "if(a >b and a>c):\n",
    "    print(f\"{a} is greater than {b} and {c}\")\n",
    "elif(b > a and b > c):\n",
    "    print(f\"{b} is greater than {a} and {c}\")\n",
    "elif(c > a and c > b):\n",
    "    print(f\"{c} is greater than {a} and {b}\")\n",
    "print(f\"{a} is greater than {b} and {c}\") if (a >b and a>c) else (print(f\"{b} is greater than {a} and {c}\") if (b > a and b > c) else print(f\"{c} is greater than {a} and {b}\") ) \n"
   ]
  },
  {
   "cell_type": "markdown",
   "metadata": {
    "id": "IoOLQMUGdSox"
   },
   "source": [
    "##### Loops - for loop, while loop"
   ]
  },
  {
   "cell_type": "code",
   "execution_count": 19,
   "metadata": {
    "id": "9K23Uld8dQfA"
   },
   "outputs": [
    {
     "name": "stdout",
     "output_type": "stream",
     "text": [
      "55\n"
     ]
    }
   ],
   "source": [
    "#Write a Python program to find the length of the my_str using loop:-\n",
    "\n",
    "#Input:- 'Write a Python program to find the length of the my_str'\n",
    "#Output:- 55\n",
    "my_str='Write a Python program to find the length of the my_str'\n",
    "cnt=0\n",
    "for i in my_str:\n",
    "    cnt+=1\n",
    "print(cnt)\n"
   ]
  },
  {
   "cell_type": "code",
   "execution_count": 20,
   "metadata": {
    "id": "bp6AcqTsdYxy"
   },
   "outputs": [
    {
     "name": "stdout",
     "output_type": "stream",
     "text": [
      "9\n"
     ]
    }
   ],
   "source": [
    "#Write a Python program to find the total number of times letter 'p' is appeared in the below string using loop:-\n",
    "    \n",
    "#Input:- 'peter piper picked a peck of pickled peppers.\\n'\n",
    "#Output:- 9\n",
    "my_str='peter piper picked a peck of pickled peppers.\\n'\n",
    "cnt=0\n",
    "for ch in my_str:\n",
    "    if(ch==\"P\" or ch ==\"p\"):\n",
    "        cnt+=1\n",
    "print(cnt)"
   ]
  },
  {
   "cell_type": "code",
   "execution_count": 27,
   "metadata": {
    "id": "xvxSBhTJdav1"
   },
   "outputs": [
    {
     "name": "stdout",
     "output_type": "stream",
     "text": [
      "0\n",
      "6\n",
      "8\n",
      "12\n",
      "21\n",
      "29\n",
      "37\n",
      "39\n",
      "40\n"
     ]
    }
   ],
   "source": [
    "#Write a Python Program, to print all the indexes of all occurences of letter 'p' appeared in the string using loop:-\n",
    "    \n",
    "#Input:- 'peter piper picked a peck of pickled peppers.'\n",
    "#Output:- \n",
    "# 0\n",
    "# 6\n",
    "# 8\n",
    "# 12\n",
    "# 21\n",
    "# 29\n",
    "# 37\n",
    "# 39\n",
    "# 40\n",
    "my_str='peter piper picked a peck of pickled peppers.'\n",
    "for i in range(len(my_str)):\n",
    "    if(my_str[i]==\"P\" or my_str[i]==\"p\"):\n",
    "        print(i)"
   ]
  },
  {
   "cell_type": "code",
   "execution_count": 43,
   "metadata": {
    "id": "79L_feMadbmw"
   },
   "outputs": [
    {
     "name": "stdout",
     "output_type": "stream",
     "text": [
      "['peter', 'piper', 'picked', 'a', 'peck', 'of', 'pickled', 'peppers.']\n"
     ]
    }
   ],
   "source": [
    "#Write a python program to find below output using loop:-\n",
    "\n",
    "#Input:- 'peter piper picked a peck of pickled peppers.'\n",
    "#Output:- ['peter', 'piper', 'picked', 'a', 'peck', 'of', 'pickled', 'peppers']\n",
    "my_str='peter piper picked a peck of pickled peppers.'\n",
    "str=\"\"\n",
    "lst=[]\n",
    "for i in my_str:\n",
    "    if(i!=\" \"):\n",
    "        str=str+i\n",
    "    else:\n",
    "        lst.append(str)\n",
    "        str=\"\"\n",
    "lst.append(str)\n",
    "print(lst)\n",
    "my_str='peter piper picked a peck of pickled peppers.'\n",
    "str=\"\"\n",
    "lst=[]\n",
    "for i in my_str:\n",
    "    if(i!=\" \"):\n",
    "        str=str+i\n",
    "    else:\n",
    "        lst.append(str)\n",
    "        str=\"\"\n",
    "lst.append(str)\n",
    "print(lst)\n",
    "    \n",
    "    "
   ]
  },
  {
   "cell_type": "code",
   "execution_count": 64,
   "metadata": {
    "id": "vzs5AJ53deVS"
   },
   "outputs": [
    {
     "name": "stdout",
     "output_type": "stream",
     "text": [
      "peter piper picked a peck of pickled peppers \n"
     ]
    }
   ],
   "source": [
    "#Write a python program to find below output using loop:-\n",
    "\n",
    "#Input:- 'peter piper picked a peck of pickled peppers.'\n",
    "#Output:- 'peppers pickled of peck a picked piper peter'\n",
    "\n",
    "my_str='peter piper picked a peck of pickled peppers.'\n",
    "str=\"\"\n",
    "lst=[]\n",
    "for i in range(len(my_str)-1):\n",
    "#     print(my_str[i])\n",
    "    if(my_str[i]!=\" \"):\n",
    "        str=str+my_str[i]\n",
    "    else:\n",
    "        lst.append(str)\n",
    "        str=\"\"\n",
    "lst.append(str)\n",
    "# lstNew=lst.reverse()\n",
    "strNew=\"\"\n",
    "for each in lst:\n",
    "    strNew=strNew+each+\" \"\n",
    "print(strNew)"
   ]
  },
  {
   "cell_type": "code",
   "execution_count": 65,
   "metadata": {
    "id": "i-HP7DrCdhwS"
   },
   "outputs": [
    {
     "name": "stdout",
     "output_type": "stream",
     "text": [
      ".sreppep delkcip fo kcep a dekcip repip retep \n"
     ]
    }
   ],
   "source": [
    "#Write a python program to find below output using loop:-\n",
    "\n",
    "#Input:- 'peter piper picked a peck of pickled peppers.'\n",
    "#Output:- '.sreppep delkcip fo kcep a dekcip repip retep'\n",
    "\n",
    "my_str='peter piper picked a peck of pickled peppers.'\n",
    "str=\"\"\n",
    "lst=[]\n",
    "for i in range(len(my_str)-1,-1,-1):\n",
    "#     print(my_str[i])\n",
    "    if(my_str[i]!=\" \"):\n",
    "        str=str+my_str[i]\n",
    "    else:\n",
    "        lst.append(str)\n",
    "        str=\"\"\n",
    "lst.append(str)\n",
    "strNew=\"\"\n",
    "for each in lst:\n",
    "    strNew=strNew+each+\" \"\n",
    "print(strNew)"
   ]
  },
  {
   "cell_type": "code",
   "execution_count": 80,
   "metadata": {
    "id": "3rt6p0ytdkq0"
   },
   "outputs": [
    {
     "name": "stdout",
     "output_type": "stream",
     "text": [
      "['peter', 'piper', 'picked', 'a', 'peck', 'of', 'pickled', 'peppers']\n",
      "['peter', 'piper', 'picked', 'a', 'peck', 'of', 'pickled', 'peppers']\n",
      "retep repip dekcip a kcep fo delkcip sreppep \n"
     ]
    }
   ],
   "source": [
    "#Write a python program to find below output using loop:-\n",
    "\n",
    "#Input:- 'peter piper picked a peck of pickled peppers.'\n",
    "#Output:- 'retep repip dekcip a kcep fo delkcip sreppep'\n",
    "my_str='peter piper picked a peck of pickled peppers.'\n",
    "str=\"\"\n",
    "lst=[]\n",
    "for i in range(len(my_str)-1):\n",
    "#     print(my_str[i])\n",
    "    if(my_str[i]!=\" \"):\n",
    "        str=str+my_str[i]\n",
    "    else:\n",
    "        lst.append(str)\n",
    "        str=\"\"\n",
    "lst.append(str)\n",
    "strNew=\"\"\n",
    "for each in lst:\n",
    "    for i in range(len(each)-1,-1,-1):\n",
    "        strNew=strNew+each[i]\n",
    "    strNew=strNew+\" \"\n",
    "\n",
    "print(strNew)"
   ]
  },
  {
   "cell_type": "code",
   "execution_count": 81,
   "metadata": {
    "id": "HdlAWgT2dnKO"
   },
   "outputs": [
    {
     "name": "stdout",
     "output_type": "stream",
     "text": [
      "Peter Piper Picked A Peck Of Pickled Peppers.\n"
     ]
    }
   ],
   "source": [
    "#Write a python program to find below output using loop:-\n",
    "\n",
    "#Input:- 'peter piper picked a peck of pickled peppers.'\n",
    "#Output:- 'Peter Piper Picked A Peck Of Pickled Peppers'\n",
    "my_str='peter piper picked a peck of pickled peppers.'\n",
    "print(my_str.title())"
   ]
  },
  {
   "cell_type": "code",
   "execution_count": 84,
   "metadata": {
    "id": "OthUuacodrNl"
   },
   "outputs": [
    {
     "name": "stdout",
     "output_type": "stream",
     "text": [
      "Peter piper picked a peck of pickled peppers.\n"
     ]
    }
   ],
   "source": [
    "#Write a python program to find below output using loop:-\n",
    "\n",
    "#Input:- 'Peter Piper Picked A Peck Of Pickled Peppers.'\n",
    "#Output:- 'Peter piper picked a peck of pickled peppers'\n",
    "my_str='Peter Piper Picked A Peck Of Pickled Peppers.'\n",
    "new_str=my_str[0]\n",
    "for i in range(len(my_str)):\n",
    "    if i !=0:\n",
    "        new_str=new_str+my_str[i].lower()\n",
    "print(new_str)\n",
    "    "
   ]
  },
  {
   "cell_type": "code",
   "execution_count": 85,
   "metadata": {
    "colab": {
     "base_uri": "https://localhost:8080/",
     "height": 34
    },
    "id": "scmDJE-ldsI9",
    "outputId": "4b1d1979-9f4a-4bc6-c505-b88b1bbd4d5d"
   },
   "outputs": [
    {
     "name": "stdout",
     "output_type": "stream",
     "text": [
      "29\n"
     ]
    }
   ],
   "source": [
    "#Write a python program to implement index method using loop. If sub_str is found in my_str then it will print the index\n",
    "# of first occurrence of first character of matching string in my_str:-\n",
    "\n",
    "#Input:- my_str = 'Peter Piper Picked A Peck Of Pickled Peppers.', sub_str = 'Pickl'\n",
    "#Output:- 29\n",
    "my_str = 'Peter Piper Picked A Peck Of Pickled Peppers.'\n",
    "sub_str = 'Pickl'\n",
    "\n",
    "for i in range(len(my_str)):\n",
    "    if my_str[i:i+len(sub_str)] == sub_str:\n",
    "        print(i)\n",
    "    \n"
   ]
  },
  {
   "cell_type": "code",
   "execution_count": 104,
   "metadata": {
    "id": "Kq_fwdb_dvYE"
   },
   "outputs": [
    {
     "name": "stdout",
     "output_type": "stream",
     "text": [
      "Peter Piper Picked A Pack Of Pickled Peppers.\n",
      " Of Pickled Peppers.\n"
     ]
    }
   ],
   "source": [
    "#Write a python program to implement replace method using loop. If sub_str is found in my_str then it will replace the first \n",
    "#occurrence of sub_str with new_str else it will will print sub_str not found:-\n",
    "\n",
    "#Input:- my_str = 'Peter Piper Picked A Peck Of Pickled Peppers.', sub_str = 'Peck', new_str = 'Pack'\n",
    "#Output:- 'Peter Piper Picked A Pack Of Pickled Peppers.'\n",
    "my_str = 'Peter Piper Picked A Peck Of Pickled Peppers.'\n",
    "sub_str = 'Peck'\n",
    "new_str = 'Pack'\n",
    "str=\"\"\n",
    "for i in range(len(my_str)):\n",
    "    ind=0\n",
    "    if my_str[i:i+len(sub_str)] == sub_str:\n",
    "        str=str+new_str\n",
    "        ind=i\n",
    "        break\n",
    "    else:\n",
    "        str=str+my_str[i]\n",
    "     \n",
    "str=str+my_str[ind+len(sub_str):len(my_str)]\n",
    "print(str)\n",
    "print(my_str[ind+len(sub_str):len(my_str)])\n",
    "        \n",
    "\n"
   ]
  },
  {
   "cell_type": "code",
   "execution_count": 114,
   "metadata": {
    "id": "4Qes5D0cdyd1"
   },
   "outputs": [
    {
     "name": "stdout",
     "output_type": "stream",
     "text": [
      "*********************Peck********************\n"
     ]
    }
   ],
   "source": [
    "#Write a python program to find below output (implements rjust and ljust) using loop:-\n",
    "\n",
    "#Input:- 'Peter Piper Picked A Peck Of Pickled Peppers.', sub_str = 'Peck', \n",
    "#Output:- '*********************Peck********************'\n",
    "my_str = 'Peter Piper Picked A Peck Of Pickled Peppers.'\n",
    "sub_str = 'Peck'\n",
    "ind=0\n",
    "for i in range(len(my_str)):    \n",
    "    if my_str[i:i+len(sub_str)] == sub_str:\n",
    "        ind=i\n",
    "        break\n",
    "str=\"\"\n",
    "for i in range(ind):\n",
    "    str=str+\"*\"\n",
    "str=str+sub_str\n",
    "for i in range(ind+len(sub_str),len(my_str)) :\n",
    "    str=str+\"*\"\n",
    "print(str)\n",
    "\n"
   ]
  },
  {
   "cell_type": "code",
   "execution_count": 112,
   "metadata": {
    "id": "DsOrb07Od0lR"
   },
   "outputs": [
    {
     "name": "stdout",
     "output_type": "stream",
     "text": [
      "['This', 'is', 'Python class']\n"
     ]
    }
   ],
   "source": [
    "#Write a python program to find below output using loop:-\n",
    "\n",
    "#Input:- 'This is Python class', sep = ' is', \n",
    "#Output:- ['This', 'is', 'Python class']\n",
    "\n",
    "my_str = 'This is Python class'\n",
    "sub_str = ' is '\n",
    "str1=\"\"\n",
    "str2=\"\"\n",
    "lst=[]\n",
    "ind=0\n",
    "for i in range(len(my_str)):    \n",
    "    if my_str[i:i+len(sub_str)] == sub_str:\n",
    "        ind=i\n",
    "        break\n",
    "     \n",
    "str1=my_str[0:ind]\n",
    "str2=my_str[ind+4:len(my_str)]\n",
    "lst.append(str1)\n",
    "lst.append(\"is\")\n",
    "lst.append(str2)\n",
    "print(lst)\n",
    "# print(my_str[ind+len(sub_str):len(my_str)])\n",
    "        "
   ]
  },
  {
   "cell_type": "code",
   "execution_count": null,
   "metadata": {
    "id": "jRnBVufmd2Ay"
   },
   "outputs": [],
   "source": [
    "\n",
    "\n"
   ]
  }
 ],
 "metadata": {
  "colab": {
   "name": "Conditional_and_loop_assignment.ipynb",
   "provenance": []
  },
  "kernelspec": {
   "display_name": "Python 3",
   "language": "python",
   "name": "python3"
  },
  "language_info": {
   "codemirror_mode": {
    "name": "ipython",
    "version": 3
   },
   "file_extension": ".py",
   "mimetype": "text/x-python",
   "name": "python",
   "nbconvert_exporter": "python",
   "pygments_lexer": "ipython3",
   "version": "3.8.8"
  }
 },
 "nbformat": 4,
 "nbformat_minor": 1
}
