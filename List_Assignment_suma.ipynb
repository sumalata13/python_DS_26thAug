{
 "cells": [
  {
   "cell_type": "code",
   "execution_count": 3,
   "metadata": {
    "id": "gtlAv2oq9yzd"
   },
   "outputs": [
    {
     "name": "stdout",
     "output_type": "stream",
     "text": [
      "100\n"
     ]
    }
   ],
   "source": [
    "#Write a Python program to find the sum of all elements in a list using loop.\n",
    "#Input:- [10,20,30,40]\n",
    "#Output:- 100\n",
    "my_lst=[10,20,30,40]\n",
    "sum=0\n",
    "for ele in my_lst :\n",
    "    sum+=ele\n",
    "print(sum)\n",
    "\n",
    "\n"
   ]
  },
  {
   "cell_type": "code",
   "execution_count": 5,
   "metadata": {
    "id": "gTbA8psa93Y_"
   },
   "outputs": [
    {
     "name": "stdout",
     "output_type": "stream",
     "text": [
      "240000\n"
     ]
    }
   ],
   "source": [
    "#Write a Python program to find the multiplication of all elements in a list using loop.\n",
    "#Input:- [10,20,30,40]\n",
    "#Output:- 240000\n",
    "my_lst=[10,20,30,40]\n",
    "prod=1\n",
    "for ele in my_lst :\n",
    "    prod*=ele\n",
    "print(prod)\n",
    "\n",
    "\n"
   ]
  },
  {
   "cell_type": "code",
   "execution_count": 8,
   "metadata": {
    "id": "XBCrEtLN94Lj"
   },
   "outputs": [
    {
     "name": "stdout",
     "output_type": "stream",
     "text": [
      "2321\n"
     ]
    }
   ],
   "source": [
    "#Write a Python program to find the largest number from a list using loop.\n",
    "#Input:- [10,100,2321, 1,200,2]\n",
    "#Output:- 2321\n",
    "my_lst=[10,100,2321, 1,200,2]\n",
    "num=1\n",
    "for ele in my_lst :\n",
    "    if(ele > num):\n",
    "       num=ele\n",
    "print(num)\n",
    "\n",
    "\n"
   ]
  },
  {
   "cell_type": "code",
   "execution_count": 9,
   "metadata": {
    "id": "l3paUtbH94Vw"
   },
   "outputs": [
    {
     "name": "stdout",
     "output_type": "stream",
     "text": [
      "1\n"
     ]
    }
   ],
   "source": [
    "#Write a Python program to find the smallest number from a list using loop.\n",
    "#Input:- [10,100,2321, 1,200,2]\n",
    "#Output:- 1\n",
    "\n",
    "my_lst=[10,100,2321, 1,200,2]\n",
    "num=1\n",
    "for ele in my_lst :\n",
    "    if(ele < num):\n",
    "       num=ele\n",
    "print(num)\n",
    "\n"
   ]
  },
  {
   "cell_type": "code",
   "execution_count": 10,
   "metadata": {
    "id": "JTVgy5VD94cE"
   },
   "outputs": [
    {
     "name": "stdout",
     "output_type": "stream",
     "text": [
      "aba\n",
      "1991\n"
     ]
    }
   ],
   "source": [
    "#Write a Python program to count the number of strings having length more than 2 and are palindrome in a list using loop.\n",
    "#Input:- ['ab', 'abc', 'aba', 'xyz', '1991']\n",
    "#Output:- 2\n",
    "my_lst=['ab', 'abc', 'aba', 'xyz', '1991']\n",
    "for ele in my_lst:\n",
    "    if len(ele)>2 and ele==ele[::-1]:\n",
    "        print(ele)"
   ]
  },
  {
   "cell_type": "code",
   "execution_count": 14,
   "metadata": {
    "id": "xs-ZGJbJ94gr"
   },
   "outputs": [
    {
     "name": "stdout",
     "output_type": "stream",
     "text": [
      "[1, 2, 9, 10, 65, 80, 100, 298, 483, 9213, 49876]\n"
     ]
    }
   ],
   "source": [
    "    #Write a Python program to sort a list in ascending order using loop.\n",
    "    #Input:- [100,10,1,298,65,483,49876,2,80,9,9213]\n",
    "    #Output:- [1,2,9,10,65,80,100,298,483,9213,49876]\n",
    "\n",
    "    my_lst= [100,10,1,298,65,483,49876,2,80,9,9213]\n",
    "    i = 1\n",
    "    len1=len(my_lst)\n",
    "    sorted_lst=[]\n",
    "    while i <= len1:\n",
    "        small=my_lst[0]\n",
    "        for ele in my_lst :\n",
    "            if ele < small:\n",
    "                small=ele\n",
    "        my_lst.remove(small)\n",
    "        sorted_lst.append(small)\n",
    "        i+=1\n",
    "    print(sorted_lst)"
   ]
  },
  {
   "cell_type": "code",
   "execution_count": 27,
   "metadata": {
    "id": "VhKQJizZ94kg"
   },
   "outputs": [
    {
     "name": "stdout",
     "output_type": "stream",
     "text": [
      "small_tuple  (9, 1)\n",
      "[(5, 4), (2, 3), (5, 9), (7, 6), (5, 5)]\n",
      "small_tuple  (2, 3)\n",
      "[(5, 4), (5, 9), (7, 6), (5, 5)]\n",
      "small_tuple  (5, 4)\n",
      "[(5, 9), (7, 6), (5, 5)]\n",
      "small_tuple  (5, 5)\n",
      "[(5, 9), (7, 6)]\n",
      "small_tuple  (7, 6)\n",
      "[(5, 9)]\n",
      "small_tuple  (5, 9)\n",
      "[]\n",
      "[(9, 1), (2, 3), (5, 4), (5, 5), (7, 6), (5, 9)]\n"
     ]
    }
   ],
   "source": [
    "#Write a Python program to get a sorted list in increasing order of last element in each tuple in a given list using loop.\n",
    "#Input:- [(5,4),(9,1),(2,3),(5,9),(7,6),(5,5)]\n",
    "#output:- [(9,1),(2,3),(5,4),(5,5),(7,6),(5,9)]\n",
    "my_lst=[(5,4),(9,1),(2,3),(5,9),(7,6),(5,5)]\n",
    "i = 0\n",
    "len1=len(my_lst)\n",
    "sorted_lst=[]\n",
    "while i < len1:    \n",
    "    small_tuple=my_lst[0]\n",
    "    small=my_lst[0][1]\n",
    "    for ele in my_lst :\n",
    "        \n",
    "#         small_tuple=ele\n",
    "        if ele[1] < small:\n",
    "            small=ele[1]\n",
    "            small_tuple=ele\n",
    "    print(\"small_tuple \",small_tuple)\n",
    "    my_lst.remove(small_tuple)\n",
    "    sorted_lst.append(small_tuple)\n",
    "    print(my_lst)\n",
    "    i+=1\n",
    "print(sorted_lst)\n",
    "#     print(ele[1])\n",
    "#       small=ele[1]\n",
    "\n"
   ]
  },
  {
   "cell_type": "code",
   "execution_count": 34,
   "metadata": {
    "id": "YJrCLYp694n_"
   },
   "outputs": [
    {
     "name": "stdout",
     "output_type": "stream",
     "text": [
      "2\n",
      "[876, 768, 92, 876, 10, 11, 29, 1]\n"
     ]
    }
   ],
   "source": [
    "#Write a Python program to remove fuplicate element from a list using loop.\n",
    "#Input:- [10,1,11,1,29,876,768,10,11,1,92,29,876]\n",
    "#Output:- [10,1,11,29,876,768,92]\n",
    "\n",
    "my_lst=[10,1,11,1,29,876,768,10,11,1,92,29,876]\n",
    "# print(my_lst.count(10))\n",
    "for ele in my_lst :\n",
    "        if my_lst.count(ele)>1:\n",
    "            cnt=my_lst.count(ele)\n",
    "            i=1\n",
    "            while i <= cnt:\n",
    "                my_lst.remove(ele)\n",
    "                i+=1\n",
    "            my_lst.append(ele)\n",
    "print(my_lst)"
   ]
  },
  {
   "cell_type": "code",
   "execution_count": 39,
   "metadata": {
    "id": "koYe4YCu94rh"
   },
   "outputs": [
    {
     "name": "stdout",
     "output_type": "stream",
     "text": [
      "Enter the list items : 10 3 2 4\n",
      "[10, 3, 2, 4]\n"
     ]
    }
   ],
   "source": [
    "#Write a Python program to check a list is empty or not?\n",
    "#Input:- []\n",
    "#Output:- List is empty\n",
    "#Input:- [10,20,30]\n",
    "#Output:- List is not empty\n",
    "my_lst=[int(item) for item in input(\"Enter the list items : \").split()]\n",
    "if len(my_lst)==0 :\n",
    "    print(\"List is empty\")\n",
    "else :\n",
    "    print(my_lst)\n",
    "\n"
   ]
  },
  {
   "cell_type": "code",
   "execution_count": 41,
   "metadata": {
    "id": "mES1WANa94u5"
   },
   "outputs": [
    {
     "name": "stdout",
     "output_type": "stream",
     "text": [
      "[10, 10.2, (10+20j), 'Python', [10, 20], (10, 20)]\n"
     ]
    }
   ],
   "source": [
    "#Write a Python program to copy a list using loop.\n",
    "#inp_lst = [10,10.20,10+20j, 'Python', [10,20], (10,20)]\n",
    "#out_lst = [10,10.20,10+20j, 'Python', [10,20], (10,20)]\n",
    "inp_lst=[10,10.20,10+20j, 'Python', [10,20], (10,20)]\n",
    "out_lst=[]\n",
    "for ele in inp_lst :\n",
    "     out_lst.append(ele)\n",
    "     \n",
    "print(out_lst)\n"
   ]
  },
  {
   "cell_type": "code",
   "execution_count": 44,
   "metadata": {
    "id": "CpBh31WO94yi"
   },
   "outputs": [
    {
     "name": "stdout",
     "output_type": "stream",
     "text": [
      "['How', 'much', 'wood', 'would', 'a', 'woodchuck', 'chuck', 'if', 'a', 'woodchuck', 'could', 'chuck', 'wood']\n",
      "Output :- ['much', 'would', 'could', 'wood', 'woodchuck', 'chuck']\n"
     ]
    }
   ],
   "source": [
    "    #Write a Python program to find the list of words that are longer than or equal to 4 from a given string.\n",
    "    #Input:- 'How much wood would a woodchuck chuck if a woodchuck could chuck wood'\n",
    "    #Output:- ['much', 'wood', 'would', 'woodchuck', 'chuck', 'could']\n",
    "    #Note:- Duplicate should be avoided.\n",
    "    my_str='How much wood would a woodchuck chuck if a woodchuck could chuck wood'\n",
    "    my_lst=my_str.split()\n",
    "    print(my_lst)\n",
    "    out_lst=[]\n",
    "    for ele in my_lst:\n",
    "         if len(ele) >= 4 :\n",
    "                out_lst.append(ele)\n",
    "    for ele in out_lst :\n",
    "            if out_lst.count(ele)>1:\n",
    "                cnt=out_lst.count(ele)\n",
    "                i=1\n",
    "                while i <= cnt:\n",
    "                    out_lst.remove(ele)\n",
    "                    i+=1\n",
    "                out_lst.append(ele)\n",
    "    print(\"Output :-\",out_lst)  \n"
   ]
  },
  {
   "cell_type": "code",
   "execution_count": 50,
   "metadata": {
    "id": "YVfj0fgZ9416"
   },
   "outputs": [
    {
     "name": "stdout",
     "output_type": "stream",
     "text": [
      "True\n"
     ]
    }
   ],
   "source": [
    "#Write a Python program which takes two list as input and returns True if they have at least 3 common elements.\n",
    "#inp_lst1 = [10,20,'Python', 10.20, 10+20j, [10,20,30], (10,20,30)]\n",
    "#inp_lst2 = [(10,20,30),1,20+3j,100.2, 10+20j, [10,20,30],'Python']\n",
    "#Output:- True\n",
    "inp_lst1 = [10,20,'Python', 10.20, 10+20j, [10,20,30], (10,20,30)]\n",
    "inp_lst2 = [(10,20,30),1,20+3j,100.2, 10+20j, [10,20,30],'Python']\n",
    "\n",
    "cnt=0\n",
    "for i in inp_lst1 :\n",
    "    if inp_lst2.count(i)>0 :\n",
    "         cnt+=1 \n",
    "    if(cnt >=3) :\n",
    "        print(True)\n",
    "        break\n",
    "\n"
   ]
  },
  {
   "cell_type": "code",
   "execution_count": 65,
   "metadata": {
    "id": "7vwc3pjR945O"
   },
   "outputs": [
    {
     "name": "stdout",
     "output_type": "stream",
     "text": [
      "[[0, 0, 0, 0], [0, 1, 2, 3], [0, 2, 4, 6], [0, 3, 6, 9]]\n",
      "[[0, 0, 0, 0], [0, 1, 2, 3], [0, 2, 4, 6], [0, 3, 6, 9]]\n"
     ]
    }
   ],
   "source": [
    "#Write a Python program to create a 4X4 2D matrix with below elements using loop and list comprehension both.\n",
    "#Output:- [[0,0,0,0],[0,1,2,3],[0,2,4,6],[0,3,6,9]]\n",
    "\n",
    "matrix = []\n",
    "  \n",
    "for i in range(4):\n",
    "      \n",
    "    # Append an empty sublist inside the list\n",
    "    matrix.append([])\n",
    "      \n",
    "    for j in range(4):\n",
    "        matrix[i].append(j*i)\n",
    "          \n",
    "print(matrix)\n",
    "\n",
    "matrix = [[i*j for j in range(4)] for i in range(4)]\n",
    "  \n",
    "print(matrix)\n",
    "\n"
   ]
  },
  {
   "cell_type": "code",
   "execution_count": 68,
   "metadata": {
    "id": "Pxafor84948b"
   },
   "outputs": [
    {
     "name": "stdout",
     "output_type": "stream",
     "text": [
      "[[[0, 0, 0, 0, 0, 0], [0, 0, 0, 0, 0, 0], [0, 0, 0, 0, 0, 0], [0, 0, 0, 0, 0, 0]], [[0, 0, 0, 0, 0, 0], [1, 1, 1, 1, 1, 1], [2, 2, 2, 2, 2, 2], [3, 3, 3, 3, 3, 3]], [[0, 0, 0, 0, 0, 0], [2, 2, 2, 2, 2, 2], [4, 4, 4, 4, 4, 4], [6, 6, 6, 6, 6, 6]]]\n"
     ]
    }
   ],
   "source": [
    "#Write a Python program to create a 3X4X6 3D matrix wiith below elements using loop\n",
    "#Output:- \n",
    "# [\n",
    "#     [[0,0,0,0,0,0],[0,0,0,0,0,0],[0,0,0,0,0,0],[0,0,0,0,0,0]],\n",
    "#     [[0,0,0,0,0,0],[1,1,1,1,1,1],[2,2,2,2,2,2],[3,3,3,3,3,3]],\n",
    "#     [[0,0,0,0,0,0],[2,2,2,2,2,2],[4,4,4,4,4,4],[6,6,6,6,6,6]]\n",
    "# ]\n",
    "\n",
    "array = [[ [col*row for col1 in range(6)] for col in range(4)] for row in range(3)]\n",
    "print(array)\n"
   ]
  },
  {
   "cell_type": "code",
   "execution_count": 53,
   "metadata": {
    "id": "lYNv8gk794_p"
   },
   "outputs": [
    {
     "name": "stdout",
     "output_type": "stream",
     "text": [
      "[21, 87, 45, 33, 1]\n"
     ]
    }
   ],
   "source": [
    "#Write a Python program which takes a list of numbers as input and prints a new list after removing even numbers from it.\n",
    "#Input:- [10,21,22,98,87,45,33,1,2,100]\n",
    "#Output:- [21,87,45,33,1]\n",
    "inp_lst=[10,21,22,98,87,45,33,1,2,100]\n",
    "output_lst=[]\n",
    "for ele in inp_lst:    \n",
    "      if ele%2!=0 :\n",
    "            output_lst.append(ele)\n",
    "print(output_lst)\n",
    "\n"
   ]
  },
  {
   "cell_type": "code",
   "execution_count": 61,
   "metadata": {
    "id": "3BaCb-rB95B7"
   },
   "outputs": [
    {
     "name": "stdout",
     "output_type": "stream",
     "text": [
      "[21, 22, 98, 87, 45, 33, 1, 2, 100, 10]\n"
     ]
    }
   ],
   "source": [
    "#Write a Python program which takes a list from the user and prints it after reshuffling the elements of the list.\n",
    "#Input:- [10,21,22,98,87,45,33,1,2,100]\n",
    "#Output:- [1,87,21,10,33,2,100,45,98,22] (It may be any randon list but with same elements)\n",
    "in_lst=[10,21,22,98,87,45,33,1,2,100]\n",
    "leng=len(in_lst)\n",
    "i=0\n",
    "while i < leng:\n",
    "    t1=in_lst[i]\n",
    "    t2=in_lst[i+1]\n",
    "    in_lst[i]=t2\n",
    "    in_lst[i+1]=t1\n",
    "    i+=1\n",
    "    if(i==leng-1):\n",
    "        break\n",
    "print(in_lst)  \n"
   ]
  },
  {
   "cell_type": "code",
   "execution_count": null,
   "metadata": {},
   "outputs": [],
   "source": []
  }
 ],
 "metadata": {
  "colab": {
   "name": "List_Assignment.ipynb",
   "provenance": []
  },
  "kernelspec": {
   "display_name": "Python 3",
   "language": "python",
   "name": "python3"
  },
  "language_info": {
   "codemirror_mode": {
    "name": "ipython",
    "version": 3
   },
   "file_extension": ".py",
   "mimetype": "text/x-python",
   "name": "python",
   "nbconvert_exporter": "python",
   "pygments_lexer": "ipython3",
   "version": "3.8.8"
  }
 },
 "nbformat": 4,
 "nbformat_minor": 1
}
