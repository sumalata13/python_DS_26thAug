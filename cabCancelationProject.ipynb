{
 "cells": [
  {
   "cell_type": "markdown",
   "id": "e1b1b748",
   "metadata": {},
   "source": [
    "# Importing Required Libraries"
   ]
  },
  {
   "cell_type": "code",
   "execution_count": 528,
   "id": "805b5508",
   "metadata": {},
   "outputs": [],
   "source": [
    "import pandas as pd\n",
    "import numpy as np\n",
    "import  haversine as hs\n",
    "from sklearn.model_selection import train_test_split\n",
    "from sklearn import tree\n",
    "from sklearn.model_selection import GridSearchCV\n",
    "from IPython.display import Image \n",
    "from sklearn.tree import export_graphviz\n",
    "import pydotplus\n",
    "import graphviz\n",
    "import os\n",
    "from io import StringIO\n",
    "from sklearn import metrics\n",
    "from sklearn.metrics import confusion_matrix\n",
    "from sklearn.ensemble import RandomForestClassifier\n",
    "import matplotlib.pyplot as plt\n",
    "import seaborn as sns"
   ]
  },
  {
   "cell_type": "markdown",
   "id": "aaa4a377",
   "metadata": {},
   "source": [
    "# Importing csv files to Panda's DataFrame"
   ]
  },
  {
   "cell_type": "code",
   "execution_count": 529,
   "id": "05edc8fd",
   "metadata": {},
   "outputs": [
    {
     "data": {
      "text/html": [
       "<div>\n",
       "<style scoped>\n",
       "    .dataframe tbody tr th:only-of-type {\n",
       "        vertical-align: middle;\n",
       "    }\n",
       "\n",
       "    .dataframe tbody tr th {\n",
       "        vertical-align: top;\n",
       "    }\n",
       "\n",
       "    .dataframe thead th {\n",
       "        text-align: right;\n",
       "    }\n",
       "</style>\n",
       "<table border=\"1\" class=\"dataframe\">\n",
       "  <thead>\n",
       "    <tr style=\"text-align: right;\">\n",
       "      <th></th>\n",
       "      <th>id</th>\n",
       "      <th>user_id</th>\n",
       "      <th>vehicle_model_id</th>\n",
       "      <th>package_id</th>\n",
       "      <th>travel_type_id</th>\n",
       "      <th>from_area_id</th>\n",
       "      <th>to_area_id</th>\n",
       "      <th>from_city_id</th>\n",
       "      <th>to_city_id</th>\n",
       "      <th>from_date</th>\n",
       "      <th>to_date</th>\n",
       "      <th>online_booking</th>\n",
       "      <th>mobile_site_booking</th>\n",
       "      <th>booking_created</th>\n",
       "      <th>from_lat</th>\n",
       "      <th>from_long</th>\n",
       "      <th>to_lat</th>\n",
       "      <th>to_long</th>\n",
       "      <th>Car_Cancellation</th>\n",
       "      <th>Cost_of_error</th>\n",
       "    </tr>\n",
       "  </thead>\n",
       "  <tbody>\n",
       "    <tr>\n",
       "      <th>0</th>\n",
       "      <td>132512</td>\n",
       "      <td>22177</td>\n",
       "      <td>28</td>\n",
       "      <td>NaN</td>\n",
       "      <td>2</td>\n",
       "      <td>83.0</td>\n",
       "      <td>448.0</td>\n",
       "      <td>NaN</td>\n",
       "      <td>NaN</td>\n",
       "      <td>01-01-2013 02:00</td>\n",
       "      <td>NaN</td>\n",
       "      <td>0</td>\n",
       "      <td>0</td>\n",
       "      <td>01-01-2013 01:39</td>\n",
       "      <td>12.924150</td>\n",
       "      <td>77.672290</td>\n",
       "      <td>12.927320</td>\n",
       "      <td>77.635750</td>\n",
       "      <td>0</td>\n",
       "      <td>1.0</td>\n",
       "    </tr>\n",
       "    <tr>\n",
       "      <th>1</th>\n",
       "      <td>132513</td>\n",
       "      <td>21413</td>\n",
       "      <td>12</td>\n",
       "      <td>NaN</td>\n",
       "      <td>2</td>\n",
       "      <td>1010.0</td>\n",
       "      <td>540.0</td>\n",
       "      <td>NaN</td>\n",
       "      <td>NaN</td>\n",
       "      <td>01-01-2013 09:00</td>\n",
       "      <td>NaN</td>\n",
       "      <td>0</td>\n",
       "      <td>0</td>\n",
       "      <td>01-01-2013 02:25</td>\n",
       "      <td>12.966910</td>\n",
       "      <td>77.749350</td>\n",
       "      <td>12.927680</td>\n",
       "      <td>77.626640</td>\n",
       "      <td>0</td>\n",
       "      <td>1.0</td>\n",
       "    </tr>\n",
       "    <tr>\n",
       "      <th>2</th>\n",
       "      <td>132514</td>\n",
       "      <td>22178</td>\n",
       "      <td>12</td>\n",
       "      <td>NaN</td>\n",
       "      <td>2</td>\n",
       "      <td>1301.0</td>\n",
       "      <td>1034.0</td>\n",
       "      <td>NaN</td>\n",
       "      <td>NaN</td>\n",
       "      <td>01-01-2013 03:30</td>\n",
       "      <td>NaN</td>\n",
       "      <td>0</td>\n",
       "      <td>0</td>\n",
       "      <td>01-01-2013 03:08</td>\n",
       "      <td>12.937222</td>\n",
       "      <td>77.626915</td>\n",
       "      <td>13.047926</td>\n",
       "      <td>77.597766</td>\n",
       "      <td>0</td>\n",
       "      <td>1.0</td>\n",
       "    </tr>\n",
       "    <tr>\n",
       "      <th>3</th>\n",
       "      <td>132515</td>\n",
       "      <td>13034</td>\n",
       "      <td>12</td>\n",
       "      <td>NaN</td>\n",
       "      <td>2</td>\n",
       "      <td>768.0</td>\n",
       "      <td>398.0</td>\n",
       "      <td>NaN</td>\n",
       "      <td>NaN</td>\n",
       "      <td>01-01-2013 05:45</td>\n",
       "      <td>NaN</td>\n",
       "      <td>0</td>\n",
       "      <td>0</td>\n",
       "      <td>01-01-2013 04:39</td>\n",
       "      <td>12.989990</td>\n",
       "      <td>77.553320</td>\n",
       "      <td>12.971430</td>\n",
       "      <td>77.639140</td>\n",
       "      <td>0</td>\n",
       "      <td>1.0</td>\n",
       "    </tr>\n",
       "    <tr>\n",
       "      <th>4</th>\n",
       "      <td>132517</td>\n",
       "      <td>22180</td>\n",
       "      <td>12</td>\n",
       "      <td>NaN</td>\n",
       "      <td>2</td>\n",
       "      <td>1365.0</td>\n",
       "      <td>849.0</td>\n",
       "      <td>NaN</td>\n",
       "      <td>NaN</td>\n",
       "      <td>01-01-2013 09:00</td>\n",
       "      <td>NaN</td>\n",
       "      <td>0</td>\n",
       "      <td>0</td>\n",
       "      <td>01-01-2013 07:53</td>\n",
       "      <td>12.845653</td>\n",
       "      <td>77.677925</td>\n",
       "      <td>12.954340</td>\n",
       "      <td>77.600720</td>\n",
       "      <td>0</td>\n",
       "      <td>1.0</td>\n",
       "    </tr>\n",
       "  </tbody>\n",
       "</table>\n",
       "</div>"
      ],
      "text/plain": [
       "       id  user_id  vehicle_model_id  package_id  travel_type_id  \\\n",
       "0  132512    22177                28         NaN               2   \n",
       "1  132513    21413                12         NaN               2   \n",
       "2  132514    22178                12         NaN               2   \n",
       "3  132515    13034                12         NaN               2   \n",
       "4  132517    22180                12         NaN               2   \n",
       "\n",
       "   from_area_id  to_area_id  from_city_id  to_city_id         from_date  \\\n",
       "0          83.0       448.0           NaN         NaN  01-01-2013 02:00   \n",
       "1        1010.0       540.0           NaN         NaN  01-01-2013 09:00   \n",
       "2        1301.0      1034.0           NaN         NaN  01-01-2013 03:30   \n",
       "3         768.0       398.0           NaN         NaN  01-01-2013 05:45   \n",
       "4        1365.0       849.0           NaN         NaN  01-01-2013 09:00   \n",
       "\n",
       "   to_date  online_booking  mobile_site_booking   booking_created   from_lat  \\\n",
       "0      NaN               0                    0  01-01-2013 01:39  12.924150   \n",
       "1      NaN               0                    0  01-01-2013 02:25  12.966910   \n",
       "2      NaN               0                    0  01-01-2013 03:08  12.937222   \n",
       "3      NaN               0                    0  01-01-2013 04:39  12.989990   \n",
       "4      NaN               0                    0  01-01-2013 07:53  12.845653   \n",
       "\n",
       "   from_long     to_lat    to_long  Car_Cancellation  Cost_of_error  \n",
       "0  77.672290  12.927320  77.635750                 0            1.0  \n",
       "1  77.749350  12.927680  77.626640                 0            1.0  \n",
       "2  77.626915  13.047926  77.597766                 0            1.0  \n",
       "3  77.553320  12.971430  77.639140                 0            1.0  \n",
       "4  77.677925  12.954340  77.600720                 0            1.0  "
      ]
     },
     "execution_count": 529,
     "metadata": {},
     "output_type": "execute_result"
    }
   ],
   "source": [
    "df=pd.read_csv(r'YourCabs_training.csv')\n",
    "df.head(5)"
   ]
  },
  {
   "cell_type": "markdown",
   "id": "8b64f5aa",
   "metadata": {},
   "source": [
    "# Dropping the columns not required for analysis"
   ]
  },
  {
   "cell_type": "code",
   "execution_count": 530,
   "id": "b325b55f",
   "metadata": {},
   "outputs": [
    {
     "data": {
      "text/html": [
       "<div>\n",
       "<style scoped>\n",
       "    .dataframe tbody tr th:only-of-type {\n",
       "        vertical-align: middle;\n",
       "    }\n",
       "\n",
       "    .dataframe tbody tr th {\n",
       "        vertical-align: top;\n",
       "    }\n",
       "\n",
       "    .dataframe thead th {\n",
       "        text-align: right;\n",
       "    }\n",
       "</style>\n",
       "<table border=\"1\" class=\"dataframe\">\n",
       "  <thead>\n",
       "    <tr style=\"text-align: right;\">\n",
       "      <th></th>\n",
       "      <th>travel_type_id</th>\n",
       "      <th>from_area_id</th>\n",
       "      <th>to_area_id</th>\n",
       "      <th>from_date</th>\n",
       "      <th>online_booking</th>\n",
       "      <th>mobile_site_booking</th>\n",
       "      <th>booking_created</th>\n",
       "      <th>from_lat</th>\n",
       "      <th>from_long</th>\n",
       "      <th>to_lat</th>\n",
       "      <th>to_long</th>\n",
       "      <th>Car_Cancellation</th>\n",
       "    </tr>\n",
       "  </thead>\n",
       "  <tbody>\n",
       "    <tr>\n",
       "      <th>0</th>\n",
       "      <td>2</td>\n",
       "      <td>83.0</td>\n",
       "      <td>448.0</td>\n",
       "      <td>01-01-2013 02:00</td>\n",
       "      <td>0</td>\n",
       "      <td>0</td>\n",
       "      <td>01-01-2013 01:39</td>\n",
       "      <td>12.924150</td>\n",
       "      <td>77.672290</td>\n",
       "      <td>12.927320</td>\n",
       "      <td>77.635750</td>\n",
       "      <td>0</td>\n",
       "    </tr>\n",
       "    <tr>\n",
       "      <th>1</th>\n",
       "      <td>2</td>\n",
       "      <td>1010.0</td>\n",
       "      <td>540.0</td>\n",
       "      <td>01-01-2013 09:00</td>\n",
       "      <td>0</td>\n",
       "      <td>0</td>\n",
       "      <td>01-01-2013 02:25</td>\n",
       "      <td>12.966910</td>\n",
       "      <td>77.749350</td>\n",
       "      <td>12.927680</td>\n",
       "      <td>77.626640</td>\n",
       "      <td>0</td>\n",
       "    </tr>\n",
       "    <tr>\n",
       "      <th>2</th>\n",
       "      <td>2</td>\n",
       "      <td>1301.0</td>\n",
       "      <td>1034.0</td>\n",
       "      <td>01-01-2013 03:30</td>\n",
       "      <td>0</td>\n",
       "      <td>0</td>\n",
       "      <td>01-01-2013 03:08</td>\n",
       "      <td>12.937222</td>\n",
       "      <td>77.626915</td>\n",
       "      <td>13.047926</td>\n",
       "      <td>77.597766</td>\n",
       "      <td>0</td>\n",
       "    </tr>\n",
       "  </tbody>\n",
       "</table>\n",
       "</div>"
      ],
      "text/plain": [
       "   travel_type_id  from_area_id  to_area_id         from_date  online_booking  \\\n",
       "0               2          83.0       448.0  01-01-2013 02:00               0   \n",
       "1               2        1010.0       540.0  01-01-2013 09:00               0   \n",
       "2               2        1301.0      1034.0  01-01-2013 03:30               0   \n",
       "\n",
       "   mobile_site_booking   booking_created   from_lat  from_long     to_lat  \\\n",
       "0                    0  01-01-2013 01:39  12.924150  77.672290  12.927320   \n",
       "1                    0  01-01-2013 02:25  12.966910  77.749350  12.927680   \n",
       "2                    0  01-01-2013 03:08  12.937222  77.626915  13.047926   \n",
       "\n",
       "     to_long  Car_Cancellation  \n",
       "0  77.635750                 0  \n",
       "1  77.626640                 0  \n",
       "2  77.597766                 0  "
      ]
     },
     "execution_count": 530,
     "metadata": {},
     "output_type": "execute_result"
    }
   ],
   "source": [
    "#Dropping as single value has more percentage for vehicle_model_id\n",
    "df=df.drop([\"id\",\"user_id\",\"vehicle_model_id\",\"package_id\",\"from_city_id\",\"to_city_id\",\"to_date\",\"Cost_of_error\"],axis=1)\n",
    "df.head(3)"
   ]
  },
  {
   "cell_type": "markdown",
   "id": "f45842c1",
   "metadata": {},
   "source": [
    "# Data Transformation"
   ]
  },
  {
   "cell_type": "code",
   "execution_count": 531,
   "id": "9bf9aa38",
   "metadata": {},
   "outputs": [],
   "source": [
    "df[\"from_area_id\"].fillna(int(df[\"from_area_id\"].median()),inplace=True)"
   ]
  },
  {
   "cell_type": "code",
   "execution_count": 532,
   "id": "a9d35b1b",
   "metadata": {},
   "outputs": [],
   "source": [
    "df[\"to_area_id\"].fillna(int(df[\"to_area_id\"].median()),inplace=True)"
   ]
  },
  {
   "cell_type": "code",
   "execution_count": 533,
   "id": "9c0b93f6",
   "metadata": {},
   "outputs": [
    {
     "data": {
      "text/plain": [
       "travel_type_id            0\n",
       "from_area_id              0\n",
       "to_area_id                0\n",
       "from_date                 0\n",
       "online_booking            0\n",
       "mobile_site_booking       0\n",
       "booking_created           0\n",
       "from_lat                 93\n",
       "from_long                93\n",
       "to_lat                 9138\n",
       "to_long                9138\n",
       "Car_Cancellation          0\n",
       "dtype: int64"
      ]
     },
     "execution_count": 533,
     "metadata": {},
     "output_type": "execute_result"
    }
   ],
   "source": [
    "df.isnull().sum()"
   ]
  },
  {
   "cell_type": "code",
   "execution_count": 534,
   "id": "402c2acf",
   "metadata": {},
   "outputs": [],
   "source": [
    "df['to_lat_temp']=df['to_lat'].fillna(df.groupby('to_area_id')['to_lat'].transform('median'))"
   ]
  },
  {
   "cell_type": "code",
   "execution_count": 535,
   "id": "0c007865",
   "metadata": {},
   "outputs": [],
   "source": [
    "df['to_long_temp']=df['to_long'].fillna(df.groupby('to_area_id')['to_long'].transform('median'))"
   ]
  },
  {
   "cell_type": "code",
   "execution_count": 536,
   "id": "3280c4a3",
   "metadata": {},
   "outputs": [],
   "source": [
    "df['from_lat_temp']=df['from_lat'].fillna(df.groupby('from_area_id')['from_lat'].transform('median'))"
   ]
  },
  {
   "cell_type": "code",
   "execution_count": 537,
   "id": "32cac82d",
   "metadata": {},
   "outputs": [],
   "source": [
    "df['from_long_temp']=df['from_long'].fillna(df.groupby('from_area_id')['from_long'].transform('median'))"
   ]
  },
  {
   "cell_type": "code",
   "execution_count": 538,
   "id": "41a3a2f9",
   "metadata": {},
   "outputs": [],
   "source": [
    "df['fromDay'] = pd.DatetimeIndex(df['from_date']).day_name()"
   ]
  },
  {
   "cell_type": "code",
   "execution_count": 539,
   "id": "685c2e3a",
   "metadata": {},
   "outputs": [],
   "source": [
    "df['from_date'] = pd.to_datetime(df['from_date'])"
   ]
  },
  {
   "cell_type": "code",
   "execution_count": 540,
   "id": "2b5f55dd",
   "metadata": {},
   "outputs": [],
   "source": [
    "df['fromTiming']=(df['from_date'].dt.hour%24+4)//4     #to use dt we have to change it to datetime field\n",
    "df['fromTiming'].replace({1: 'Late Night',\n",
    "                      2: 'Early Morning',\n",
    "                      3: 'Morning',\n",
    "                      4: 'Noon',\n",
    "                      5: 'Evening',\n",
    "                      6: 'Night'}, inplace=True)"
   ]
  },
  {
   "cell_type": "code",
   "execution_count": 541,
   "id": "4d6a24fa",
   "metadata": {},
   "outputs": [
    {
     "name": "stdout",
     "output_type": "stream",
     "text": [
      "The distance is 278 km\n"
     ]
    }
   ],
   "source": [
    "lat1 = 52.2296756\n",
    "lon1 = 21.0122287\n",
    "lat2 = 52.406374\n",
    "lon2 = 16.9251681\n",
    "coord_1 = (lat1, lon1)\n",
    "coord_2 = (lat2, lon2)\n",
    "x = hs.haversine(coord_1,coord_2)\n",
    "print(f'The distance is {int(x)} km')"
   ]
  },
  {
   "cell_type": "code",
   "execution_count": 542,
   "id": "0720d881",
   "metadata": {},
   "outputs": [
    {
     "data": {
      "text/html": [
       "<div>\n",
       "<style scoped>\n",
       "    .dataframe tbody tr th:only-of-type {\n",
       "        vertical-align: middle;\n",
       "    }\n",
       "\n",
       "    .dataframe tbody tr th {\n",
       "        vertical-align: top;\n",
       "    }\n",
       "\n",
       "    .dataframe thead th {\n",
       "        text-align: right;\n",
       "    }\n",
       "</style>\n",
       "<table border=\"1\" class=\"dataframe\">\n",
       "  <thead>\n",
       "    <tr style=\"text-align: right;\">\n",
       "      <th></th>\n",
       "      <th>from_lat_temp</th>\n",
       "      <th>from_long_temp</th>\n",
       "      <th>to_lat_temp</th>\n",
       "      <th>to_long_temp</th>\n",
       "    </tr>\n",
       "  </thead>\n",
       "  <tbody>\n",
       "    <tr>\n",
       "      <th>0</th>\n",
       "      <td>12.924150</td>\n",
       "      <td>77.672290</td>\n",
       "      <td>12.927320</td>\n",
       "      <td>77.635750</td>\n",
       "    </tr>\n",
       "    <tr>\n",
       "      <th>1</th>\n",
       "      <td>12.966910</td>\n",
       "      <td>77.749350</td>\n",
       "      <td>12.927680</td>\n",
       "      <td>77.626640</td>\n",
       "    </tr>\n",
       "    <tr>\n",
       "      <th>2</th>\n",
       "      <td>12.937222</td>\n",
       "      <td>77.626915</td>\n",
       "      <td>13.047926</td>\n",
       "      <td>77.597766</td>\n",
       "    </tr>\n",
       "    <tr>\n",
       "      <th>3</th>\n",
       "      <td>12.989990</td>\n",
       "      <td>77.553320</td>\n",
       "      <td>12.971430</td>\n",
       "      <td>77.639140</td>\n",
       "    </tr>\n",
       "    <tr>\n",
       "      <th>4</th>\n",
       "      <td>12.845653</td>\n",
       "      <td>77.677925</td>\n",
       "      <td>12.954340</td>\n",
       "      <td>77.600720</td>\n",
       "    </tr>\n",
       "  </tbody>\n",
       "</table>\n",
       "</div>"
      ],
      "text/plain": [
       "   from_lat_temp  from_long_temp  to_lat_temp  to_long_temp\n",
       "0      12.924150       77.672290    12.927320     77.635750\n",
       "1      12.966910       77.749350    12.927680     77.626640\n",
       "2      12.937222       77.626915    13.047926     77.597766\n",
       "3      12.989990       77.553320    12.971430     77.639140\n",
       "4      12.845653       77.677925    12.954340     77.600720"
      ]
     },
     "execution_count": 542,
     "metadata": {},
     "output_type": "execute_result"
    }
   ],
   "source": [
    "df[['from_lat_temp','from_long_temp','to_lat_temp','to_long_temp']].head(5)"
   ]
  },
  {
   "cell_type": "code",
   "execution_count": 543,
   "id": "300b9f5c",
   "metadata": {},
   "outputs": [],
   "source": [
    "for i in df.index:\n",
    "    lon1 = df[\"from_lat_temp\"].iloc[i]\n",
    "    lat1 = df[\"from_long_temp\"].iloc[i]\n",
    "    lon2 = df[\"to_lat_temp\"].iloc[i]\n",
    "    lat2 = df[\"to_long_temp\"].iloc[i]\n",
    "    df.loc[i, 'haversine_dist'] = hs.haversine((lon1,lat1),(lon2,lat2))"
   ]
  },
  {
   "cell_type": "code",
   "execution_count": 544,
   "id": "8b6101a6",
   "metadata": {},
   "outputs": [],
   "source": [
    "df['distance']=df.apply(lambda x : hs.haversine((x['from_lat_temp'],x['from_long_temp'])\n",
    "                            ,(x['to_lat_temp'],x['to_long_temp'])),axis=1)"
   ]
  },
  {
   "cell_type": "code",
   "execution_count": 545,
   "id": "6066accd",
   "metadata": {},
   "outputs": [
    {
     "data": {
      "text/plain": [
       "7"
      ]
     },
     "execution_count": 545,
     "metadata": {},
     "output_type": "execute_result"
    }
   ],
   "source": [
    "df.loc[df['Car_Cancellation']==0].groupby('from_area_id')['Car_Cancellation'].count().iloc[1]"
   ]
  },
  {
   "cell_type": "code",
   "execution_count": 546,
   "id": "4e4ec55a",
   "metadata": {},
   "outputs": [],
   "source": [
    "df['areaIdWiseCancelation']=df.loc[df['Car_Cancellation']==1].groupby('from_area_id')['from_area_id'].transform('count')"
   ]
  },
  {
   "cell_type": "code",
   "execution_count": 547,
   "id": "6978a163",
   "metadata": {},
   "outputs": [],
   "source": [
    "df['areaIdWiseTranscations']=df.groupby('from_area_id')['from_area_id'].transform('count')"
   ]
  },
  {
   "cell_type": "code",
   "execution_count": 548,
   "id": "85f07f40",
   "metadata": {},
   "outputs": [
    {
     "data": {
      "text/plain": [
       "21        37\n",
       "64        33\n",
       "281       39\n",
       "361       39\n",
       "523       11\n",
       "        ... \n",
       "43406     20\n",
       "43408     20\n",
       "43411      9\n",
       "43414      9\n",
       "43422    116\n",
       "Name: from_area_id, Length: 3132, dtype: int64"
      ]
     },
     "execution_count": 548,
     "metadata": {},
     "output_type": "execute_result"
    }
   ],
   "source": [
    "df.loc[df['Car_Cancellation']==1].groupby('from_area_id')['from_area_id'].transform('count')"
   ]
  },
  {
   "cell_type": "code",
   "execution_count": 549,
   "id": "9fc67f10",
   "metadata": {},
   "outputs": [
    {
     "data": {
      "text/plain": [
       "40299"
      ]
     },
     "execution_count": 549,
     "metadata": {},
     "output_type": "execute_result"
    }
   ],
   "source": [
    "df['areaIdWiseCancelation'].isnull().sum()"
   ]
  },
  {
   "cell_type": "code",
   "execution_count": 550,
   "id": "c4b4ae9c",
   "metadata": {},
   "outputs": [],
   "source": [
    "df['areaIdWiseCancelation'].replace(np.nan,0,inplace=True) #not canceled transactions are converted to low "
   ]
  },
  {
   "cell_type": "code",
   "execution_count": 551,
   "id": "e6551cea",
   "metadata": {},
   "outputs": [],
   "source": [
    "#df['areaIdWiseCancelation%']=round((df['areaIdWiseCancelation']/len(df))*100,2)\n",
    "df['areaIdWiseCancelation%']=round((df['areaIdWiseCancelation']/df['areaIdWiseTranscations'])*100,2)"
   ]
  },
  {
   "cell_type": "code",
   "execution_count": 552,
   "id": "3052e730",
   "metadata": {},
   "outputs": [
    {
     "data": {
      "text/plain": [
       "53"
      ]
     },
     "execution_count": 552,
     "metadata": {},
     "output_type": "execute_result"
    }
   ],
   "source": [
    "df.loc[(df['from_area_id']==1010.0) & (df['Car_Cancellation']==1),'from_area_id'].count()"
   ]
  },
  {
   "cell_type": "code",
   "execution_count": 553,
   "id": "0829f479",
   "metadata": {},
   "outputs": [],
   "source": [
    "df['areaIdWiseCancelationGD']=df['areaIdWiseCancelation%'].apply(lambda x :'Low' if x < 33.3 \n",
    "                                                                                 else ('Medium' if x < 66.6  else 'High'))"
   ]
  },
  {
   "cell_type": "code",
   "execution_count": 554,
   "id": "10bbff44",
   "metadata": {},
   "outputs": [],
   "source": [
    "df['difference']=pd.to_datetime(df['from_date'])-pd.to_datetime(df['booking_created'])"
   ]
  },
  {
   "cell_type": "code",
   "execution_count": 555,
   "id": "8c62f940",
   "metadata": {},
   "outputs": [],
   "source": [
    "df['differenceMinutes']=df['difference']/np.timedelta64(1,'m')"
   ]
  },
  {
   "cell_type": "code",
   "execution_count": 556,
   "id": "8508b8de",
   "metadata": {},
   "outputs": [
    {
     "data": {
      "text/html": [
       "<div>\n",
       "<style scoped>\n",
       "    .dataframe tbody tr th:only-of-type {\n",
       "        vertical-align: middle;\n",
       "    }\n",
       "\n",
       "    .dataframe tbody tr th {\n",
       "        vertical-align: top;\n",
       "    }\n",
       "\n",
       "    .dataframe thead th {\n",
       "        text-align: right;\n",
       "    }\n",
       "</style>\n",
       "<table border=\"1\" class=\"dataframe\">\n",
       "  <thead>\n",
       "    <tr style=\"text-align: right;\">\n",
       "      <th></th>\n",
       "      <th>travel_type_id</th>\n",
       "      <th>from_area_id</th>\n",
       "      <th>to_area_id</th>\n",
       "      <th>from_date</th>\n",
       "      <th>online_booking</th>\n",
       "      <th>mobile_site_booking</th>\n",
       "      <th>booking_created</th>\n",
       "      <th>from_lat</th>\n",
       "      <th>from_long</th>\n",
       "      <th>to_lat</th>\n",
       "      <th>...</th>\n",
       "      <th>fromDay</th>\n",
       "      <th>fromTiming</th>\n",
       "      <th>haversine_dist</th>\n",
       "      <th>distance</th>\n",
       "      <th>areaIdWiseCancelation</th>\n",
       "      <th>areaIdWiseTranscations</th>\n",
       "      <th>areaIdWiseCancelation%</th>\n",
       "      <th>areaIdWiseCancelationGD</th>\n",
       "      <th>difference</th>\n",
       "      <th>differenceMinutes</th>\n",
       "    </tr>\n",
       "  </thead>\n",
       "  <tbody>\n",
       "    <tr>\n",
       "      <th>2252</th>\n",
       "      <td>2</td>\n",
       "      <td>130.0</td>\n",
       "      <td>625.0</td>\n",
       "      <td>2013-01-28 06:00:00</td>\n",
       "      <td>1</td>\n",
       "      <td>0</td>\n",
       "      <td>1/25/2013 13:55</td>\n",
       "      <td>12.79665</td>\n",
       "      <td>77.38693</td>\n",
       "      <td>12.95431</td>\n",
       "      <td>...</td>\n",
       "      <td>Monday</td>\n",
       "      <td>Early Morning</td>\n",
       "      <td>33.965108</td>\n",
       "      <td>33.965108</td>\n",
       "      <td>4.0</td>\n",
       "      <td>5</td>\n",
       "      <td>80.00</td>\n",
       "      <td>High</td>\n",
       "      <td>2 days 16:05:00</td>\n",
       "      <td>3845.0</td>\n",
       "    </tr>\n",
       "    <tr>\n",
       "      <th>12938</th>\n",
       "      <td>2</td>\n",
       "      <td>130.0</td>\n",
       "      <td>393.0</td>\n",
       "      <td>2013-05-11 04:30:00</td>\n",
       "      <td>0</td>\n",
       "      <td>0</td>\n",
       "      <td>05-10-2013 09:46</td>\n",
       "      <td>12.79665</td>\n",
       "      <td>77.38693</td>\n",
       "      <td>13.19956</td>\n",
       "      <td>...</td>\n",
       "      <td>Saturday</td>\n",
       "      <td>Early Morning</td>\n",
       "      <td>56.646811</td>\n",
       "      <td>56.646811</td>\n",
       "      <td>4.0</td>\n",
       "      <td>5</td>\n",
       "      <td>80.00</td>\n",
       "      <td>High</td>\n",
       "      <td>0 days 18:44:00</td>\n",
       "      <td>1124.0</td>\n",
       "    </tr>\n",
       "    <tr>\n",
       "      <th>14433</th>\n",
       "      <td>2</td>\n",
       "      <td>130.0</td>\n",
       "      <td>1247.0</td>\n",
       "      <td>2013-05-21 16:30:00</td>\n",
       "      <td>1</td>\n",
       "      <td>0</td>\n",
       "      <td>5/20/2013 15:42</td>\n",
       "      <td>12.79665</td>\n",
       "      <td>77.38693</td>\n",
       "      <td>12.96691</td>\n",
       "      <td>...</td>\n",
       "      <td>Tuesday</td>\n",
       "      <td>Evening</td>\n",
       "      <td>43.608931</td>\n",
       "      <td>43.608931</td>\n",
       "      <td>4.0</td>\n",
       "      <td>5</td>\n",
       "      <td>80.00</td>\n",
       "      <td>High</td>\n",
       "      <td>1 days 00:48:00</td>\n",
       "      <td>1488.0</td>\n",
       "    </tr>\n",
       "    <tr>\n",
       "      <th>15336</th>\n",
       "      <td>2</td>\n",
       "      <td>130.0</td>\n",
       "      <td>353.0</td>\n",
       "      <td>2013-05-26 23:30:00</td>\n",
       "      <td>1</td>\n",
       "      <td>0</td>\n",
       "      <td>5/26/2013 22:25</td>\n",
       "      <td>12.79665</td>\n",
       "      <td>77.38693</td>\n",
       "      <td>13.03241</td>\n",
       "      <td>...</td>\n",
       "      <td>Sunday</td>\n",
       "      <td>Night</td>\n",
       "      <td>34.874567</td>\n",
       "      <td>34.874567</td>\n",
       "      <td>4.0</td>\n",
       "      <td>5</td>\n",
       "      <td>80.00</td>\n",
       "      <td>High</td>\n",
       "      <td>0 days 01:05:00</td>\n",
       "      <td>65.0</td>\n",
       "    </tr>\n",
       "    <tr>\n",
       "      <th>15987</th>\n",
       "      <td>2</td>\n",
       "      <td>630.0</td>\n",
       "      <td>1384.0</td>\n",
       "      <td>2013-05-31 22:00:00</td>\n",
       "      <td>1</td>\n",
       "      <td>0</td>\n",
       "      <td>5/31/2013 14:57</td>\n",
       "      <td>12.91220</td>\n",
       "      <td>77.51043</td>\n",
       "      <td>13.02853</td>\n",
       "      <td>...</td>\n",
       "      <td>Friday</td>\n",
       "      <td>Night</td>\n",
       "      <td>13.505101</td>\n",
       "      <td>13.505101</td>\n",
       "      <td>2.0</td>\n",
       "      <td>3</td>\n",
       "      <td>66.67</td>\n",
       "      <td>High</td>\n",
       "      <td>0 days 07:03:00</td>\n",
       "      <td>423.0</td>\n",
       "    </tr>\n",
       "  </tbody>\n",
       "</table>\n",
       "<p>5 rows × 26 columns</p>\n",
       "</div>"
      ],
      "text/plain": [
       "       travel_type_id  from_area_id  to_area_id           from_date  \\\n",
       "2252                2         130.0       625.0 2013-01-28 06:00:00   \n",
       "12938               2         130.0       393.0 2013-05-11 04:30:00   \n",
       "14433               2         130.0      1247.0 2013-05-21 16:30:00   \n",
       "15336               2         130.0       353.0 2013-05-26 23:30:00   \n",
       "15987               2         630.0      1384.0 2013-05-31 22:00:00   \n",
       "\n",
       "       online_booking  mobile_site_booking   booking_created  from_lat  \\\n",
       "2252                1                    0   1/25/2013 13:55  12.79665   \n",
       "12938               0                    0  05-10-2013 09:46  12.79665   \n",
       "14433               1                    0   5/20/2013 15:42  12.79665   \n",
       "15336               1                    0   5/26/2013 22:25  12.79665   \n",
       "15987               1                    0   5/31/2013 14:57  12.91220   \n",
       "\n",
       "       from_long    to_lat  ...   fromDay     fromTiming  haversine_dist  \\\n",
       "2252    77.38693  12.95431  ...    Monday  Early Morning       33.965108   \n",
       "12938   77.38693  13.19956  ...  Saturday  Early Morning       56.646811   \n",
       "14433   77.38693  12.96691  ...   Tuesday        Evening       43.608931   \n",
       "15336   77.38693  13.03241  ...    Sunday          Night       34.874567   \n",
       "15987   77.51043  13.02853  ...    Friday          Night       13.505101   \n",
       "\n",
       "        distance  areaIdWiseCancelation  areaIdWiseTranscations  \\\n",
       "2252   33.965108                    4.0                       5   \n",
       "12938  56.646811                    4.0                       5   \n",
       "14433  43.608931                    4.0                       5   \n",
       "15336  34.874567                    4.0                       5   \n",
       "15987  13.505101                    2.0                       3   \n",
       "\n",
       "      areaIdWiseCancelation% areaIdWiseCancelationGD      difference  \\\n",
       "2252                   80.00                    High 2 days 16:05:00   \n",
       "12938                  80.00                    High 0 days 18:44:00   \n",
       "14433                  80.00                    High 1 days 00:48:00   \n",
       "15336                  80.00                    High 0 days 01:05:00   \n",
       "15987                  66.67                    High 0 days 07:03:00   \n",
       "\n",
       "       differenceMinutes  \n",
       "2252              3845.0  \n",
       "12938             1124.0  \n",
       "14433             1488.0  \n",
       "15336               65.0  \n",
       "15987              423.0  \n",
       "\n",
       "[5 rows x 26 columns]"
      ]
     },
     "execution_count": 556,
     "metadata": {},
     "output_type": "execute_result"
    }
   ],
   "source": [
    "df.loc[(df['areaIdWiseCancelationGD']=='High')&( df['Car_Cancellation']==1) ].head(5)"
   ]
  },
  {
   "cell_type": "markdown",
   "id": "b4207f22",
   "metadata": {},
   "source": [
    "# Encoding the data"
   ]
  },
  {
   "cell_type": "code",
   "execution_count": 557,
   "id": "332712b7",
   "metadata": {},
   "outputs": [],
   "source": [
    "one_hot_encoded_data=pd.get_dummies(df[\"travel_type_id\"],prefix='travel_tpe')"
   ]
  },
  {
   "cell_type": "code",
   "execution_count": 558,
   "id": "318c424b",
   "metadata": {},
   "outputs": [
    {
     "data": {
      "text/html": [
       "<div>\n",
       "<style scoped>\n",
       "    .dataframe tbody tr th:only-of-type {\n",
       "        vertical-align: middle;\n",
       "    }\n",
       "\n",
       "    .dataframe tbody tr th {\n",
       "        vertical-align: top;\n",
       "    }\n",
       "\n",
       "    .dataframe thead th {\n",
       "        text-align: right;\n",
       "    }\n",
       "</style>\n",
       "<table border=\"1\" class=\"dataframe\">\n",
       "  <thead>\n",
       "    <tr style=\"text-align: right;\">\n",
       "      <th></th>\n",
       "      <th>travel_tpe_1</th>\n",
       "      <th>travel_tpe_2</th>\n",
       "      <th>travel_tpe_3</th>\n",
       "    </tr>\n",
       "  </thead>\n",
       "  <tbody>\n",
       "    <tr>\n",
       "      <th>0</th>\n",
       "      <td>0</td>\n",
       "      <td>1</td>\n",
       "      <td>0</td>\n",
       "    </tr>\n",
       "    <tr>\n",
       "      <th>1</th>\n",
       "      <td>0</td>\n",
       "      <td>1</td>\n",
       "      <td>0</td>\n",
       "    </tr>\n",
       "    <tr>\n",
       "      <th>2</th>\n",
       "      <td>0</td>\n",
       "      <td>1</td>\n",
       "      <td>0</td>\n",
       "    </tr>\n",
       "    <tr>\n",
       "      <th>3</th>\n",
       "      <td>0</td>\n",
       "      <td>1</td>\n",
       "      <td>0</td>\n",
       "    </tr>\n",
       "    <tr>\n",
       "      <th>4</th>\n",
       "      <td>0</td>\n",
       "      <td>1</td>\n",
       "      <td>0</td>\n",
       "    </tr>\n",
       "    <tr>\n",
       "      <th>...</th>\n",
       "      <td>...</td>\n",
       "      <td>...</td>\n",
       "      <td>...</td>\n",
       "    </tr>\n",
       "    <tr>\n",
       "      <th>43426</th>\n",
       "      <td>0</td>\n",
       "      <td>1</td>\n",
       "      <td>0</td>\n",
       "    </tr>\n",
       "    <tr>\n",
       "      <th>43427</th>\n",
       "      <td>0</td>\n",
       "      <td>1</td>\n",
       "      <td>0</td>\n",
       "    </tr>\n",
       "    <tr>\n",
       "      <th>43428</th>\n",
       "      <td>0</td>\n",
       "      <td>0</td>\n",
       "      <td>1</td>\n",
       "    </tr>\n",
       "    <tr>\n",
       "      <th>43429</th>\n",
       "      <td>0</td>\n",
       "      <td>1</td>\n",
       "      <td>0</td>\n",
       "    </tr>\n",
       "    <tr>\n",
       "      <th>43430</th>\n",
       "      <td>0</td>\n",
       "      <td>1</td>\n",
       "      <td>0</td>\n",
       "    </tr>\n",
       "  </tbody>\n",
       "</table>\n",
       "<p>43431 rows × 3 columns</p>\n",
       "</div>"
      ],
      "text/plain": [
       "       travel_tpe_1  travel_tpe_2  travel_tpe_3\n",
       "0                 0             1             0\n",
       "1                 0             1             0\n",
       "2                 0             1             0\n",
       "3                 0             1             0\n",
       "4                 0             1             0\n",
       "...             ...           ...           ...\n",
       "43426             0             1             0\n",
       "43427             0             1             0\n",
       "43428             0             0             1\n",
       "43429             0             1             0\n",
       "43430             0             1             0\n",
       "\n",
       "[43431 rows x 3 columns]"
      ]
     },
     "execution_count": 558,
     "metadata": {},
     "output_type": "execute_result"
    }
   ],
   "source": [
    "one_hot_encoded_data"
   ]
  },
  {
   "cell_type": "code",
   "execution_count": 559,
   "id": "adf51d23",
   "metadata": {},
   "outputs": [
    {
     "data": {
      "text/html": [
       "<div>\n",
       "<style scoped>\n",
       "    .dataframe tbody tr th:only-of-type {\n",
       "        vertical-align: middle;\n",
       "    }\n",
       "\n",
       "    .dataframe tbody tr th {\n",
       "        vertical-align: top;\n",
       "    }\n",
       "\n",
       "    .dataframe thead th {\n",
       "        text-align: right;\n",
       "    }\n",
       "</style>\n",
       "<table border=\"1\" class=\"dataframe\">\n",
       "  <thead>\n",
       "    <tr style=\"text-align: right;\">\n",
       "      <th></th>\n",
       "      <th>travel_type_id</th>\n",
       "      <th>from_area_id</th>\n",
       "      <th>to_area_id</th>\n",
       "      <th>from_date</th>\n",
       "      <th>online_booking</th>\n",
       "      <th>mobile_site_booking</th>\n",
       "      <th>booking_created</th>\n",
       "      <th>from_lat</th>\n",
       "      <th>from_long</th>\n",
       "      <th>to_lat</th>\n",
       "      <th>...</th>\n",
       "      <th>distance</th>\n",
       "      <th>areaIdWiseCancelation</th>\n",
       "      <th>areaIdWiseTranscations</th>\n",
       "      <th>areaIdWiseCancelation%</th>\n",
       "      <th>areaIdWiseCancelationGD</th>\n",
       "      <th>difference</th>\n",
       "      <th>differenceMinutes</th>\n",
       "      <th>travel_tpe_1</th>\n",
       "      <th>travel_tpe_2</th>\n",
       "      <th>travel_tpe_3</th>\n",
       "    </tr>\n",
       "  </thead>\n",
       "  <tbody>\n",
       "    <tr>\n",
       "      <th>0</th>\n",
       "      <td>2</td>\n",
       "      <td>83.0</td>\n",
       "      <td>448.0</td>\n",
       "      <td>2013-01-01 02:00:00</td>\n",
       "      <td>0</td>\n",
       "      <td>0</td>\n",
       "      <td>01-01-2013 01:39</td>\n",
       "      <td>12.924150</td>\n",
       "      <td>77.672290</td>\n",
       "      <td>12.927320</td>\n",
       "      <td>...</td>\n",
       "      <td>3.975770</td>\n",
       "      <td>0.0</td>\n",
       "      <td>719</td>\n",
       "      <td>0.0</td>\n",
       "      <td>Low</td>\n",
       "      <td>0 days 00:21:00</td>\n",
       "      <td>21.0</td>\n",
       "      <td>0</td>\n",
       "      <td>1</td>\n",
       "      <td>0</td>\n",
       "    </tr>\n",
       "    <tr>\n",
       "      <th>1</th>\n",
       "      <td>2</td>\n",
       "      <td>1010.0</td>\n",
       "      <td>540.0</td>\n",
       "      <td>2013-01-01 09:00:00</td>\n",
       "      <td>0</td>\n",
       "      <td>0</td>\n",
       "      <td>01-01-2013 02:25</td>\n",
       "      <td>12.966910</td>\n",
       "      <td>77.749350</td>\n",
       "      <td>12.927680</td>\n",
       "      <td>...</td>\n",
       "      <td>13.995053</td>\n",
       "      <td>0.0</td>\n",
       "      <td>768</td>\n",
       "      <td>0.0</td>\n",
       "      <td>Low</td>\n",
       "      <td>0 days 06:35:00</td>\n",
       "      <td>395.0</td>\n",
       "      <td>0</td>\n",
       "      <td>1</td>\n",
       "      <td>0</td>\n",
       "    </tr>\n",
       "    <tr>\n",
       "      <th>2</th>\n",
       "      <td>2</td>\n",
       "      <td>1301.0</td>\n",
       "      <td>1034.0</td>\n",
       "      <td>2013-01-01 03:30:00</td>\n",
       "      <td>0</td>\n",
       "      <td>0</td>\n",
       "      <td>01-01-2013 03:08</td>\n",
       "      <td>12.937222</td>\n",
       "      <td>77.626915</td>\n",
       "      <td>13.047926</td>\n",
       "      <td>...</td>\n",
       "      <td>12.708431</td>\n",
       "      <td>0.0</td>\n",
       "      <td>125</td>\n",
       "      <td>0.0</td>\n",
       "      <td>Low</td>\n",
       "      <td>0 days 00:22:00</td>\n",
       "      <td>22.0</td>\n",
       "      <td>0</td>\n",
       "      <td>1</td>\n",
       "      <td>0</td>\n",
       "    </tr>\n",
       "  </tbody>\n",
       "</table>\n",
       "<p>3 rows × 29 columns</p>\n",
       "</div>"
      ],
      "text/plain": [
       "   travel_type_id  from_area_id  to_area_id           from_date  \\\n",
       "0               2          83.0       448.0 2013-01-01 02:00:00   \n",
       "1               2        1010.0       540.0 2013-01-01 09:00:00   \n",
       "2               2        1301.0      1034.0 2013-01-01 03:30:00   \n",
       "\n",
       "   online_booking  mobile_site_booking   booking_created   from_lat  \\\n",
       "0               0                    0  01-01-2013 01:39  12.924150   \n",
       "1               0                    0  01-01-2013 02:25  12.966910   \n",
       "2               0                    0  01-01-2013 03:08  12.937222   \n",
       "\n",
       "   from_long     to_lat  ...   distance  areaIdWiseCancelation  \\\n",
       "0  77.672290  12.927320  ...   3.975770                    0.0   \n",
       "1  77.749350  12.927680  ...  13.995053                    0.0   \n",
       "2  77.626915  13.047926  ...  12.708431                    0.0   \n",
       "\n",
       "   areaIdWiseTranscations  areaIdWiseCancelation%  areaIdWiseCancelationGD  \\\n",
       "0                     719                     0.0                      Low   \n",
       "1                     768                     0.0                      Low   \n",
       "2                     125                     0.0                      Low   \n",
       "\n",
       "       difference differenceMinutes travel_tpe_1  travel_tpe_2  travel_tpe_3  \n",
       "0 0 days 00:21:00              21.0            0             1             0  \n",
       "1 0 days 06:35:00             395.0            0             1             0  \n",
       "2 0 days 00:22:00              22.0            0             1             0  \n",
       "\n",
       "[3 rows x 29 columns]"
      ]
     },
     "execution_count": 559,
     "metadata": {},
     "output_type": "execute_result"
    }
   ],
   "source": [
    "df = pd.merge(\n",
    "    left=df,\n",
    "    right=one_hot_encoded_data,\n",
    "    left_index=True,\n",
    "    right_index=True)\n",
    "df.head(3)"
   ]
  },
  {
   "cell_type": "code",
   "execution_count": 573,
   "id": "9feaa021",
   "metadata": {},
   "outputs": [],
   "source": [
    "df2=df.drop(['travel_type_id','from_area_id','to_area_id','from_date','areaIdWiseCancelation','areaIdWiseTranscations','areaIdWiseCancelation%','travel_tpe_3',\n",
    "            'difference','from_lat','from_long','to_lat','to_long','booking_created'],axis=1)"
   ]
  },
  {
   "cell_type": "code",
   "execution_count": 574,
   "id": "eafa8b1e",
   "metadata": {},
   "outputs": [
    {
     "data": {
      "text/html": [
       "<div>\n",
       "<style scoped>\n",
       "    .dataframe tbody tr th:only-of-type {\n",
       "        vertical-align: middle;\n",
       "    }\n",
       "\n",
       "    .dataframe tbody tr th {\n",
       "        vertical-align: top;\n",
       "    }\n",
       "\n",
       "    .dataframe thead th {\n",
       "        text-align: right;\n",
       "    }\n",
       "</style>\n",
       "<table border=\"1\" class=\"dataframe\">\n",
       "  <thead>\n",
       "    <tr style=\"text-align: right;\">\n",
       "      <th></th>\n",
       "      <th>online_booking</th>\n",
       "      <th>mobile_site_booking</th>\n",
       "      <th>Car_Cancellation</th>\n",
       "      <th>to_lat_temp</th>\n",
       "      <th>to_long_temp</th>\n",
       "      <th>from_lat_temp</th>\n",
       "      <th>from_long_temp</th>\n",
       "      <th>fromDay</th>\n",
       "      <th>fromTiming</th>\n",
       "      <th>haversine_dist</th>\n",
       "      <th>distance</th>\n",
       "      <th>areaIdWiseCancelationGD</th>\n",
       "      <th>differenceMinutes</th>\n",
       "      <th>travel_tpe_1</th>\n",
       "      <th>travel_tpe_2</th>\n",
       "    </tr>\n",
       "  </thead>\n",
       "  <tbody>\n",
       "    <tr>\n",
       "      <th>0</th>\n",
       "      <td>0</td>\n",
       "      <td>0</td>\n",
       "      <td>0</td>\n",
       "      <td>12.927320</td>\n",
       "      <td>77.635750</td>\n",
       "      <td>12.924150</td>\n",
       "      <td>77.672290</td>\n",
       "      <td>Tuesday</td>\n",
       "      <td>Late Night</td>\n",
       "      <td>3.975770</td>\n",
       "      <td>3.975770</td>\n",
       "      <td>Low</td>\n",
       "      <td>21.0</td>\n",
       "      <td>0</td>\n",
       "      <td>1</td>\n",
       "    </tr>\n",
       "    <tr>\n",
       "      <th>1</th>\n",
       "      <td>0</td>\n",
       "      <td>0</td>\n",
       "      <td>0</td>\n",
       "      <td>12.927680</td>\n",
       "      <td>77.626640</td>\n",
       "      <td>12.966910</td>\n",
       "      <td>77.749350</td>\n",
       "      <td>Tuesday</td>\n",
       "      <td>Morning</td>\n",
       "      <td>13.995053</td>\n",
       "      <td>13.995053</td>\n",
       "      <td>Low</td>\n",
       "      <td>395.0</td>\n",
       "      <td>0</td>\n",
       "      <td>1</td>\n",
       "    </tr>\n",
       "    <tr>\n",
       "      <th>2</th>\n",
       "      <td>0</td>\n",
       "      <td>0</td>\n",
       "      <td>0</td>\n",
       "      <td>13.047926</td>\n",
       "      <td>77.597766</td>\n",
       "      <td>12.937222</td>\n",
       "      <td>77.626915</td>\n",
       "      <td>Tuesday</td>\n",
       "      <td>Late Night</td>\n",
       "      <td>12.708431</td>\n",
       "      <td>12.708431</td>\n",
       "      <td>Low</td>\n",
       "      <td>22.0</td>\n",
       "      <td>0</td>\n",
       "      <td>1</td>\n",
       "    </tr>\n",
       "  </tbody>\n",
       "</table>\n",
       "</div>"
      ],
      "text/plain": [
       "   online_booking  mobile_site_booking  Car_Cancellation  to_lat_temp  \\\n",
       "0               0                    0                 0    12.927320   \n",
       "1               0                    0                 0    12.927680   \n",
       "2               0                    0                 0    13.047926   \n",
       "\n",
       "   to_long_temp  from_lat_temp  from_long_temp  fromDay  fromTiming  \\\n",
       "0     77.635750      12.924150       77.672290  Tuesday  Late Night   \n",
       "1     77.626640      12.966910       77.749350  Tuesday     Morning   \n",
       "2     77.597766      12.937222       77.626915  Tuesday  Late Night   \n",
       "\n",
       "   haversine_dist   distance areaIdWiseCancelationGD  differenceMinutes  \\\n",
       "0        3.975770   3.975770                     Low               21.0   \n",
       "1       13.995053  13.995053                     Low              395.0   \n",
       "2       12.708431  12.708431                     Low               22.0   \n",
       "\n",
       "   travel_tpe_1  travel_tpe_2  \n",
       "0             0             1  \n",
       "1             0             1  \n",
       "2             0             1  "
      ]
     },
     "execution_count": 574,
     "metadata": {},
     "output_type": "execute_result"
    }
   ],
   "source": [
    "df2.head(3)"
   ]
  },
  {
   "cell_type": "code",
   "execution_count": 575,
   "id": "893c7baa",
   "metadata": {},
   "outputs": [],
   "source": [
    "num = df2.select_dtypes(include='number')\n",
    "char = df2.select_dtypes(include='object')"
   ]
  },
  {
   "cell_type": "code",
   "execution_count": 576,
   "id": "fd124c61",
   "metadata": {},
   "outputs": [
    {
     "data": {
      "text/html": [
       "<div>\n",
       "<style scoped>\n",
       "    .dataframe tbody tr th:only-of-type {\n",
       "        vertical-align: middle;\n",
       "    }\n",
       "\n",
       "    .dataframe tbody tr th {\n",
       "        vertical-align: top;\n",
       "    }\n",
       "\n",
       "    .dataframe thead th {\n",
       "        text-align: right;\n",
       "    }\n",
       "</style>\n",
       "<table border=\"1\" class=\"dataframe\">\n",
       "  <thead>\n",
       "    <tr style=\"text-align: right;\">\n",
       "      <th></th>\n",
       "      <th>online_booking</th>\n",
       "      <th>mobile_site_booking</th>\n",
       "      <th>Car_Cancellation</th>\n",
       "      <th>to_lat_temp</th>\n",
       "      <th>to_long_temp</th>\n",
       "      <th>from_lat_temp</th>\n",
       "      <th>from_long_temp</th>\n",
       "      <th>haversine_dist</th>\n",
       "      <th>distance</th>\n",
       "      <th>differenceMinutes</th>\n",
       "      <th>travel_tpe_1</th>\n",
       "      <th>travel_tpe_2</th>\n",
       "    </tr>\n",
       "  </thead>\n",
       "  <tbody>\n",
       "    <tr>\n",
       "      <th>0</th>\n",
       "      <td>0</td>\n",
       "      <td>0</td>\n",
       "      <td>0</td>\n",
       "      <td>12.927320</td>\n",
       "      <td>77.635750</td>\n",
       "      <td>12.924150</td>\n",
       "      <td>77.672290</td>\n",
       "      <td>3.975770</td>\n",
       "      <td>3.975770</td>\n",
       "      <td>21.0</td>\n",
       "      <td>0</td>\n",
       "      <td>1</td>\n",
       "    </tr>\n",
       "    <tr>\n",
       "      <th>1</th>\n",
       "      <td>0</td>\n",
       "      <td>0</td>\n",
       "      <td>0</td>\n",
       "      <td>12.927680</td>\n",
       "      <td>77.626640</td>\n",
       "      <td>12.966910</td>\n",
       "      <td>77.749350</td>\n",
       "      <td>13.995053</td>\n",
       "      <td>13.995053</td>\n",
       "      <td>395.0</td>\n",
       "      <td>0</td>\n",
       "      <td>1</td>\n",
       "    </tr>\n",
       "    <tr>\n",
       "      <th>2</th>\n",
       "      <td>0</td>\n",
       "      <td>0</td>\n",
       "      <td>0</td>\n",
       "      <td>13.047926</td>\n",
       "      <td>77.597766</td>\n",
       "      <td>12.937222</td>\n",
       "      <td>77.626915</td>\n",
       "      <td>12.708431</td>\n",
       "      <td>12.708431</td>\n",
       "      <td>22.0</td>\n",
       "      <td>0</td>\n",
       "      <td>1</td>\n",
       "    </tr>\n",
       "  </tbody>\n",
       "</table>\n",
       "</div>"
      ],
      "text/plain": [
       "   online_booking  mobile_site_booking  Car_Cancellation  to_lat_temp  \\\n",
       "0               0                    0                 0    12.927320   \n",
       "1               0                    0                 0    12.927680   \n",
       "2               0                    0                 0    13.047926   \n",
       "\n",
       "   to_long_temp  from_lat_temp  from_long_temp  haversine_dist   distance  \\\n",
       "0     77.635750      12.924150       77.672290        3.975770   3.975770   \n",
       "1     77.626640      12.966910       77.749350       13.995053  13.995053   \n",
       "2     77.597766      12.937222       77.626915       12.708431  12.708431   \n",
       "\n",
       "   differenceMinutes  travel_tpe_1  travel_tpe_2  \n",
       "0               21.0             0             1  \n",
       "1              395.0             0             1  \n",
       "2               22.0             0             1  "
      ]
     },
     "execution_count": 576,
     "metadata": {},
     "output_type": "execute_result"
    }
   ],
   "source": [
    "num.head(3)"
   ]
  },
  {
   "cell_type": "code",
   "execution_count": 577,
   "id": "b75099a6",
   "metadata": {},
   "outputs": [
    {
     "data": {
      "text/html": [
       "<div>\n",
       "<style scoped>\n",
       "    .dataframe tbody tr th:only-of-type {\n",
       "        vertical-align: middle;\n",
       "    }\n",
       "\n",
       "    .dataframe tbody tr th {\n",
       "        vertical-align: top;\n",
       "    }\n",
       "\n",
       "    .dataframe thead th {\n",
       "        text-align: right;\n",
       "    }\n",
       "</style>\n",
       "<table border=\"1\" class=\"dataframe\">\n",
       "  <thead>\n",
       "    <tr style=\"text-align: right;\">\n",
       "      <th></th>\n",
       "      <th>fromDay</th>\n",
       "      <th>fromTiming</th>\n",
       "      <th>areaIdWiseCancelationGD</th>\n",
       "    </tr>\n",
       "  </thead>\n",
       "  <tbody>\n",
       "    <tr>\n",
       "      <th>0</th>\n",
       "      <td>Tuesday</td>\n",
       "      <td>Late Night</td>\n",
       "      <td>Low</td>\n",
       "    </tr>\n",
       "    <tr>\n",
       "      <th>1</th>\n",
       "      <td>Tuesday</td>\n",
       "      <td>Morning</td>\n",
       "      <td>Low</td>\n",
       "    </tr>\n",
       "    <tr>\n",
       "      <th>2</th>\n",
       "      <td>Tuesday</td>\n",
       "      <td>Late Night</td>\n",
       "      <td>Low</td>\n",
       "    </tr>\n",
       "  </tbody>\n",
       "</table>\n",
       "</div>"
      ],
      "text/plain": [
       "   fromDay  fromTiming areaIdWiseCancelationGD\n",
       "0  Tuesday  Late Night                     Low\n",
       "1  Tuesday     Morning                     Low\n",
       "2  Tuesday  Late Night                     Low"
      ]
     },
     "execution_count": 577,
     "metadata": {},
     "output_type": "execute_result"
    }
   ],
   "source": [
    "char.head(3)"
   ]
  },
  {
   "cell_type": "code",
   "execution_count": 578,
   "id": "2c7ded6d",
   "metadata": {},
   "outputs": [
    {
     "data": {
      "text/plain": [
       "(43431, 13)"
      ]
     },
     "execution_count": 578,
     "metadata": {},
     "output_type": "execute_result"
    }
   ],
   "source": [
    "X_char_dum = pd.get_dummies(char, drop_first = True)\n",
    "X_char_dum.shape"
   ]
  },
  {
   "cell_type": "code",
   "execution_count": 579,
   "id": "de87a6aa",
   "metadata": {},
   "outputs": [],
   "source": [
    "df_final= pd.concat([num,X_char_dum],axis=1,join='inner')"
   ]
  },
  {
   "cell_type": "code",
   "execution_count": 580,
   "id": "a2b8edf7",
   "metadata": {},
   "outputs": [
    {
     "data": {
      "text/html": [
       "<div>\n",
       "<style scoped>\n",
       "    .dataframe tbody tr th:only-of-type {\n",
       "        vertical-align: middle;\n",
       "    }\n",
       "\n",
       "    .dataframe tbody tr th {\n",
       "        vertical-align: top;\n",
       "    }\n",
       "\n",
       "    .dataframe thead th {\n",
       "        text-align: right;\n",
       "    }\n",
       "</style>\n",
       "<table border=\"1\" class=\"dataframe\">\n",
       "  <thead>\n",
       "    <tr style=\"text-align: right;\">\n",
       "      <th></th>\n",
       "      <th>online_booking</th>\n",
       "      <th>mobile_site_booking</th>\n",
       "      <th>Car_Cancellation</th>\n",
       "      <th>to_lat_temp</th>\n",
       "      <th>to_long_temp</th>\n",
       "      <th>from_lat_temp</th>\n",
       "      <th>from_long_temp</th>\n",
       "      <th>haversine_dist</th>\n",
       "      <th>distance</th>\n",
       "      <th>differenceMinutes</th>\n",
       "      <th>...</th>\n",
       "      <th>fromDay_Thursday</th>\n",
       "      <th>fromDay_Tuesday</th>\n",
       "      <th>fromDay_Wednesday</th>\n",
       "      <th>fromTiming_Evening</th>\n",
       "      <th>fromTiming_Late Night</th>\n",
       "      <th>fromTiming_Morning</th>\n",
       "      <th>fromTiming_Night</th>\n",
       "      <th>fromTiming_Noon</th>\n",
       "      <th>areaIdWiseCancelationGD_Low</th>\n",
       "      <th>areaIdWiseCancelationGD_Medium</th>\n",
       "    </tr>\n",
       "  </thead>\n",
       "  <tbody>\n",
       "    <tr>\n",
       "      <th>0</th>\n",
       "      <td>0</td>\n",
       "      <td>0</td>\n",
       "      <td>0</td>\n",
       "      <td>12.927320</td>\n",
       "      <td>77.635750</td>\n",
       "      <td>12.924150</td>\n",
       "      <td>77.672290</td>\n",
       "      <td>3.975770</td>\n",
       "      <td>3.975770</td>\n",
       "      <td>21.0</td>\n",
       "      <td>...</td>\n",
       "      <td>0</td>\n",
       "      <td>1</td>\n",
       "      <td>0</td>\n",
       "      <td>0</td>\n",
       "      <td>1</td>\n",
       "      <td>0</td>\n",
       "      <td>0</td>\n",
       "      <td>0</td>\n",
       "      <td>1</td>\n",
       "      <td>0</td>\n",
       "    </tr>\n",
       "    <tr>\n",
       "      <th>1</th>\n",
       "      <td>0</td>\n",
       "      <td>0</td>\n",
       "      <td>0</td>\n",
       "      <td>12.927680</td>\n",
       "      <td>77.626640</td>\n",
       "      <td>12.966910</td>\n",
       "      <td>77.749350</td>\n",
       "      <td>13.995053</td>\n",
       "      <td>13.995053</td>\n",
       "      <td>395.0</td>\n",
       "      <td>...</td>\n",
       "      <td>0</td>\n",
       "      <td>1</td>\n",
       "      <td>0</td>\n",
       "      <td>0</td>\n",
       "      <td>0</td>\n",
       "      <td>1</td>\n",
       "      <td>0</td>\n",
       "      <td>0</td>\n",
       "      <td>1</td>\n",
       "      <td>0</td>\n",
       "    </tr>\n",
       "    <tr>\n",
       "      <th>2</th>\n",
       "      <td>0</td>\n",
       "      <td>0</td>\n",
       "      <td>0</td>\n",
       "      <td>13.047926</td>\n",
       "      <td>77.597766</td>\n",
       "      <td>12.937222</td>\n",
       "      <td>77.626915</td>\n",
       "      <td>12.708431</td>\n",
       "      <td>12.708431</td>\n",
       "      <td>22.0</td>\n",
       "      <td>...</td>\n",
       "      <td>0</td>\n",
       "      <td>1</td>\n",
       "      <td>0</td>\n",
       "      <td>0</td>\n",
       "      <td>1</td>\n",
       "      <td>0</td>\n",
       "      <td>0</td>\n",
       "      <td>0</td>\n",
       "      <td>1</td>\n",
       "      <td>0</td>\n",
       "    </tr>\n",
       "  </tbody>\n",
       "</table>\n",
       "<p>3 rows × 25 columns</p>\n",
       "</div>"
      ],
      "text/plain": [
       "   online_booking  mobile_site_booking  Car_Cancellation  to_lat_temp  \\\n",
       "0               0                    0                 0    12.927320   \n",
       "1               0                    0                 0    12.927680   \n",
       "2               0                    0                 0    13.047926   \n",
       "\n",
       "   to_long_temp  from_lat_temp  from_long_temp  haversine_dist   distance  \\\n",
       "0     77.635750      12.924150       77.672290        3.975770   3.975770   \n",
       "1     77.626640      12.966910       77.749350       13.995053  13.995053   \n",
       "2     77.597766      12.937222       77.626915       12.708431  12.708431   \n",
       "\n",
       "   differenceMinutes  ...  fromDay_Thursday  fromDay_Tuesday  \\\n",
       "0               21.0  ...                 0                1   \n",
       "1              395.0  ...                 0                1   \n",
       "2               22.0  ...                 0                1   \n",
       "\n",
       "   fromDay_Wednesday  fromTiming_Evening  fromTiming_Late Night  \\\n",
       "0                  0                   0                      1   \n",
       "1                  0                   0                      0   \n",
       "2                  0                   0                      1   \n",
       "\n",
       "   fromTiming_Morning  fromTiming_Night  fromTiming_Noon  \\\n",
       "0                   0                 0                0   \n",
       "1                   1                 0                0   \n",
       "2                   0                 0                0   \n",
       "\n",
       "   areaIdWiseCancelationGD_Low  areaIdWiseCancelationGD_Medium  \n",
       "0                            1                               0  \n",
       "1                            1                               0  \n",
       "2                            1                               0  \n",
       "\n",
       "[3 rows x 25 columns]"
      ]
     },
     "execution_count": 580,
     "metadata": {},
     "output_type": "execute_result"
    }
   ],
   "source": [
    "df_final.head(3)"
   ]
  },
  {
   "cell_type": "code",
   "execution_count": 581,
   "id": "29937da9",
   "metadata": {},
   "outputs": [
    {
     "data": {
      "text/plain": [
       "43431"
      ]
     },
     "execution_count": 581,
     "metadata": {},
     "output_type": "execute_result"
    }
   ],
   "source": [
    "len(df_final)"
   ]
  },
  {
   "cell_type": "code",
   "execution_count": 582,
   "id": "6981e7e8",
   "metadata": {},
   "outputs": [
    {
     "data": {
      "text/plain": [
       "online_booking                    0\n",
       "mobile_site_booking               0\n",
       "Car_Cancellation                  0\n",
       "to_lat_temp                       0\n",
       "to_long_temp                      0\n",
       "from_lat_temp                     5\n",
       "from_long_temp                    5\n",
       "haversine_dist                    5\n",
       "distance                          5\n",
       "differenceMinutes                 0\n",
       "travel_tpe_1                      0\n",
       "travel_tpe_2                      0\n",
       "fromDay_Monday                    0\n",
       "fromDay_Saturday                  0\n",
       "fromDay_Sunday                    0\n",
       "fromDay_Thursday                  0\n",
       "fromDay_Tuesday                   0\n",
       "fromDay_Wednesday                 0\n",
       "fromTiming_Evening                0\n",
       "fromTiming_Late Night             0\n",
       "fromTiming_Morning                0\n",
       "fromTiming_Night                  0\n",
       "fromTiming_Noon                   0\n",
       "areaIdWiseCancelationGD_Low       0\n",
       "areaIdWiseCancelationGD_Medium    0\n",
       "dtype: int64"
      ]
     },
     "execution_count": 582,
     "metadata": {},
     "output_type": "execute_result"
    }
   ],
   "source": [
    "df_final.isnull().sum()"
   ]
  },
  {
   "cell_type": "code",
   "execution_count": 583,
   "id": "f46b0cab",
   "metadata": {},
   "outputs": [],
   "source": [
    "df_final.dropna(inplace=True)"
   ]
  },
  {
   "cell_type": "markdown",
   "id": "6e8b4733",
   "metadata": {},
   "source": [
    "# Train and test data split"
   ]
  },
  {
   "cell_type": "code",
   "execution_count": 584,
   "id": "dbcfce70",
   "metadata": {},
   "outputs": [],
   "source": [
    "X=df_final.iloc[:,df_final.columns != \"Car_Cancellation\"]\n",
    "Y=df_final.iloc[:,df_final.columns == \"Car_Cancellation\"]\n",
    "Xtrain,Xtest,Ytrain,Ytest=train_test_split(X,Y,random_state=20,test_size=0.3)\n"
   ]
  },
  {
   "cell_type": "markdown",
   "id": "c1f199f1",
   "metadata": {},
   "source": [
    "# Decission Tree"
   ]
  },
  {
   "cell_type": "code",
   "execution_count": 503,
   "id": "e516f1eb",
   "metadata": {},
   "outputs": [
    {
     "data": {
      "text/plain": [
       "DecisionTreeClassifier()"
      ]
     },
     "execution_count": 503,
     "metadata": {},
     "output_type": "execute_result"
    }
   ],
   "source": [
    "modelDecTree=tree.DecisionTreeClassifier()\n",
    "modelDecTree.fit(Xtrain,ytrain)"
   ]
  },
  {
   "cell_type": "code",
   "execution_count": 504,
   "id": "b21ec898",
   "metadata": {},
   "outputs": [
    {
     "name": "stdout",
     "output_type": "stream",
     "text": [
      "Trining Score 0.9999342061977762\n",
      "Testing Score 0.8924623887012588\n"
     ]
    }
   ],
   "source": [
    "modelDecTree_tarin_score = modelDecTree.score(Xtrain,ytrain)\n",
    "\n",
    "modelDecTree_test_score = modelDecTree.score(Xtest,Ytest)\n",
    "\n",
    "print('Trining Score',modelDecTree_tarin_score)\n",
    "\n",
    "print('Testing Score',modelDecTree_test_score)"
   ]
  },
  {
   "cell_type": "code",
   "execution_count": 505,
   "id": "921bcad3",
   "metadata": {},
   "outputs": [
    {
     "data": {
      "text/plain": [
       "{'ccp_alpha': 0.0,\n",
       " 'class_weight': None,\n",
       " 'criterion': 'gini',\n",
       " 'max_depth': None,\n",
       " 'max_features': None,\n",
       " 'max_leaf_nodes': None,\n",
       " 'min_impurity_decrease': 0.0,\n",
       " 'min_impurity_split': None,\n",
       " 'min_samples_leaf': 1,\n",
       " 'min_samples_split': 2,\n",
       " 'min_weight_fraction_leaf': 0.0,\n",
       " 'random_state': None,\n",
       " 'splitter': 'best'}"
      ]
     },
     "execution_count": 505,
     "metadata": {},
     "output_type": "execute_result"
    }
   ],
   "source": [
    "modelDecTree.get_params()"
   ]
  },
  {
   "cell_type": "code",
   "execution_count": 506,
   "id": "8195453a",
   "metadata": {},
   "outputs": [
    {
     "data": {
      "text/plain": [
       "GridSearchCV(cv=10, estimator=DecisionTreeClassifier(), n_jobs=-1,\n",
       "             param_grid={'max_depth': [3, 5, 6, 7],\n",
       "                         'min_samples_split': [50, 100, 150, 200, 250]})"
      ]
     },
     "execution_count": 506,
     "metadata": {},
     "output_type": "execute_result"
    }
   ],
   "source": [
    "param_dist = {'max_depth': [3, 5, 6, 7], 'min_samples_split': [50, 100, 150, 200, 250]}\n",
    "gscv_dtc = GridSearchCV(modelDecTree, cv=10, param_grid=param_dist, n_jobs=-1)\n",
    "gscv_dtc.fit(Xtrain,ytrain)"
   ]
  },
  {
   "cell_type": "code",
   "execution_count": 507,
   "id": "a7889a80",
   "metadata": {},
   "outputs": [
    {
     "data": {
      "text/plain": [
       "{'max_depth': 3, 'min_samples_split': 50}"
      ]
     },
     "execution_count": 507,
     "metadata": {},
     "output_type": "execute_result"
    }
   ],
   "source": [
    "gscv_dtc.best_params_"
   ]
  },
  {
   "cell_type": "code",
   "execution_count": 508,
   "id": "c994ec7e",
   "metadata": {},
   "outputs": [
    {
     "data": {
      "text/plain": [
       "DecisionTreeClassifier(max_depth=3, min_samples_split=50, random_state=4)"
      ]
     },
     "execution_count": 508,
     "metadata": {},
     "output_type": "execute_result"
    }
   ],
   "source": [
    "modelDecTree=tree.DecisionTreeClassifier(criterion='gini',random_state=4,max_depth=3,min_samples_split=50)\n",
    "modelDecTree.fit(Xtrain,ytrain)"
   ]
  },
  {
   "cell_type": "code",
   "execution_count": 509,
   "id": "c4ad6c22",
   "metadata": {},
   "outputs": [
    {
     "name": "stdout",
     "output_type": "stream",
     "text": [
      "Trining Score 0.9300282913349562\n",
      "Testing Score 0.9303807184525638\n"
     ]
    }
   ],
   "source": [
    "modelDecTree_tarin_score3 = modelDecTree.score(Xtrain,Ytrain)\n",
    "\n",
    "modelDecTree_test_score3 = modelDecTree.score(Xtest,Ytest)\n",
    "\n",
    "print('Trining Score',modelDecTree_tarin_score3)\n",
    "\n",
    "print('Testing Score',modelDecTree_test_score3)"
   ]
  },
  {
   "cell_type": "code",
   "execution_count": 510,
   "id": "7523ba10",
   "metadata": {},
   "outputs": [
    {
     "data": {
      "image/png": "[encoded data removed]",
      "text/plain": [
       "<IPython.core.display.Image object>"
      ]
     },
     "execution_count": 510,
     "metadata": {},
     "output_type": "execute_result"
    }
   ],
   "source": [
    "dot_data = StringIO()\n",
    "export_graphviz(modelDecTree, out_file=dot_data, \n",
    " filled=True, rounded=True,\n",
    " special_characters=True)\n",
    "graph = pydotplus.graph_from_dot_data(dot_data.getvalue()) \n",
    "Image(graph.create_png())"
   ]
  },
  {
   "cell_type": "code",
   "execution_count": 511,
   "id": "43125630",
   "metadata": {},
   "outputs": [
    {
     "name": "stdout",
     "output_type": "stream",
     "text": [
      "Accuracy: 0.9303807184525638\n",
      "Precision 1.0\n",
      "Recall 0.03407880724174654\n",
      "f1_score 0.06591143151390319\n"
     ]
    }
   ],
   "source": [
    "Ypred=modelDecTree.predict(Xtest)\n",
    "print(\"Accuracy:\",metrics.accuracy_score(Ytest, Ypred))\n",
    "print(\"Precision\",metrics.precision_score(Ytest, Ypred))\n",
    "print(\"Recall\",metrics.recall_score(Ytest, Ypred))\n",
    "print(\"f1_score\",metrics.f1_score(Ytest, Ypred))"
   ]
  },
  {
   "cell_type": "code",
   "execution_count": 517,
   "id": "8f484fac",
   "metadata": {},
   "outputs": [
    {
     "data": {
      "text/plain": [
       "<sklearn.metrics._plot.confusion_matrix.ConfusionMatrixDisplay at 0x17f27bad6d0>"
      ]
     },
     "execution_count": 517,
     "metadata": {},
     "output_type": "execute_result"
    },
    {
     "data": {
      "image/png": "[encoded data removed]",
      "text/plain": [
       "<Figure size 432x288 with 2 Axes>"
      ]
     },
     "metadata": {
      "needs_background": "light"
     },
     "output_type": "display_data"
    }
   ],
   "source": [
    "metrics.plot_confusion_matrix(modelDecTree,Xtest,Ytest)"
   ]
  },
  {
   "cell_type": "markdown",
   "id": "6e041770",
   "metadata": {},
   "source": [
    "# Random Forest"
   ]
  },
  {
   "cell_type": "code",
   "execution_count": 596,
   "id": "6f13133e",
   "metadata": {},
   "outputs": [],
   "source": [
    "modelRandForest=RandomForestClassifier(random_state=5)"
   ]
  },
  {
   "cell_type": "code",
   "execution_count": 604,
   "id": "6e42b0d7",
   "metadata": {},
   "outputs": [
    {
     "name": "stdout",
     "output_type": "stream",
     "text": [
      "dict_keys(['bootstrap', 'ccp_alpha', 'class_weight', 'criterion', 'max_depth', 'max_features', 'max_leaf_nodes', 'max_samples', 'min_impurity_decrease', 'min_impurity_split', 'min_samples_leaf', 'min_samples_split', 'min_weight_fraction_leaf', 'n_estimators', 'n_jobs', 'oob_score', 'random_state', 'verbose', 'warm_start'])\n",
      "Best Parameters using grid search: \n",
      " {'bootstrap': True, 'criterion': 'gini', 'max_depth': 2, 'max_features': None}\n"
     ]
    }
   ],
   "source": [
    "np.random.seed(32)\n",
    "print(modelRandForest.get_params().keys()) #To know all the parameters of the randomForest\n",
    "hyp_params={'max_depth':[2,3,4,5],\n",
    "           \"bootstrap\":[True, False],#Whether bootstrap samples are used when building trees. If False, the whole dataset is used to build each tree.\n",
    "           \"max_features\":['auto','sqrt','log2',None],\n",
    "           'criterion': ['gini', 'entropy']}\n",
    "gridSearchCV=GridSearchCV(modelRandForest,cv = 10,   #Determines the cross-validation splitting strategy.default is 5\n",
    "                     param_grid=hyp_params,n_jobs=-1)\n",
    "gridSearchCV.fit(Xtrain,Ytrain.values.ravel())\n",
    "print('Best Parameters using grid search: \\n', gridSearchCV.best_params_)"
   ]
  },
  {
   "cell_type": "code",
   "execution_count": 597,
   "id": "b08b812b",
   "metadata": {},
   "outputs": [
    {
     "data": {
      "text/plain": [
       "RandomForestClassifier(max_depth=2, max_features=None, random_state=5)"
      ]
     },
     "execution_count": 597,
     "metadata": {},
     "output_type": "execute_result"
    }
   ],
   "source": [
    "modelRandForest.set_params(criterion='gini',max_depth=2,max_features=None,bootstrap=True)"
   ]
  },
  {
   "cell_type": "code",
   "execution_count": 598,
   "id": "75ace737",
   "metadata": {},
   "outputs": [
    {
     "data": {
      "text/plain": [
       "RandomForestClassifier(max_depth=2, max_features=None, random_state=5)"
      ]
     },
     "execution_count": 598,
     "metadata": {},
     "output_type": "execute_result"
    }
   ],
   "source": [
    "modelRandForest.fit(Xtrain,ytrain.values.ravel())"
   ]
  },
  {
   "cell_type": "code",
   "execution_count": 599,
   "id": "871fdde3",
   "metadata": {},
   "outputs": [
    {
     "data": {
      "text/plain": [
       "0.9303807184525638"
      ]
     },
     "execution_count": 599,
     "metadata": {},
     "output_type": "execute_result"
    }
   ],
   "source": [
    "modelRandForest.score(Xtest,Ytest)"
   ]
  },
  {
   "cell_type": "code",
   "execution_count": 590,
   "id": "c6b1d925",
   "metadata": {},
   "outputs": [
    {
     "data": {
      "text/plain": [
       "{'bootstrap': True,\n",
       " 'ccp_alpha': 0.0,\n",
       " 'class_weight': None,\n",
       " 'criterion': 'gini',\n",
       " 'max_depth': 2,\n",
       " 'max_features': None,\n",
       " 'max_leaf_nodes': None,\n",
       " 'max_samples': None,\n",
       " 'min_impurity_decrease': 0.0,\n",
       " 'min_impurity_split': None,\n",
       " 'min_samples_leaf': 1,\n",
       " 'min_samples_split': 2,\n",
       " 'min_weight_fraction_leaf': 0.0,\n",
       " 'n_estimators': 100,\n",
       " 'n_jobs': None,\n",
       " 'oob_score': False,\n",
       " 'random_state': 5,\n",
       " 'verbose': 0,\n",
       " 'warm_start': False}"
      ]
     },
     "execution_count": 590,
     "metadata": {},
     "output_type": "execute_result"
    }
   ],
   "source": [
    "modelRandForest.get_params()"
   ]
  },
  {
   "cell_type": "code",
   "execution_count": 591,
   "id": "ee53bea4",
   "metadata": {},
   "outputs": [],
   "source": [
    "modelRandForest.set_params(warm_start=True, \n",
    "                  oob_score=True)\n",
    "min_estimators = 101\n",
    "max_estimators = 500\n",
    "\n",
    "error_rate = {}\n",
    "for i in range(min_estimators, max_estimators + 1):\n",
    "#     print(f'working for{i}')\n",
    "    modelRandForest.set_params(n_estimators=i)\n",
    "    modelRandForest.fit(Xtrain, Ytrain.values.ravel())\n",
    "\n",
    "    oob_error = 1 - modelRandForest.oob_score_\n",
    "    error_rate[i] = oob_error"
   ]
  },
  {
   "cell_type": "code",
   "execution_count": 592,
   "id": "06b0d713",
   "metadata": {},
   "outputs": [],
   "source": [
    "oob_series = pd.Series(error_rate)"
   ]
  },
  {
   "cell_type": "code",
   "execution_count": 593,
   "id": "cee4718c",
   "metadata": {},
   "outputs": [
    {
     "data": {
      "text/plain": [
       "Text(0.5, 1.0, 'OOB Error Rate Across various Forest sizes \\n(From 101 to 500 trees)')"
      ]
     },
     "execution_count": 593,
     "metadata": {},
     "output_type": "execute_result"
    },
    {
     "data": {
      "image/png": "[encoded data removed]",
      "text/plain": [
       "<Figure size 720x720 with 1 Axes>"
      ]
     },
     "metadata": {
      "needs_background": "light"
     },
     "output_type": "display_data"
    }
   ],
   "source": [
    "fig, ax = plt.subplots(figsize=(10, 10))\n",
    "\n",
    "ax.set_facecolor('#fafafa')\n",
    "\n",
    "oob_series.plot(kind='line',color = 'red')\n",
    "plt.axhline(0.055, color='#875FDB',linestyle='--')\n",
    "plt.axhline(0.05, color='#875FDB',linestyle='--')\n",
    "plt.xlabel('n_estimators')\n",
    "plt.ylabel('OOB Error Rate')\n",
    "plt.title('OOB Error Rate Across various Forest sizes \\n(From 101 to 500 trees)')"
   ]
  },
  {
   "cell_type": "code",
   "execution_count": 600,
   "id": "4930edb6",
   "metadata": {},
   "outputs": [
    {
     "data": {
      "text/plain": [
       "0.9303807184525638"
      ]
     },
     "execution_count": 600,
     "metadata": {},
     "output_type": "execute_result"
    }
   ],
   "source": [
    "modelRandForest=RandomForestClassifier(random_state=5) #since oob error is same going with initial n_estimator\n",
    "modelRandForest.set_params(criterion='gini',max_depth=2,max_features=None,bootstrap=True)\n",
    "modelRandForest.fit(Xtrain,ytrain.values.ravel())\n",
    "modelRandForest.score(Xtest,Ytest)"
   ]
  },
  {
   "cell_type": "code",
   "execution_count": 607,
   "id": "388e846b",
   "metadata": {},
   "outputs": [
    {
     "name": "stdout",
     "output_type": "stream",
     "text": [
      "Accuracy: 0.9303807184525638\n",
      "Precision 1.0\n",
      "Recall 0.03407880724174654\n",
      "f1_score 0.06591143151390319\n"
     ]
    }
   ],
   "source": [
    "Ypred1=modelRandForest.predict(Xtest)\n",
    "print(\"Accuracy:\",metrics.accuracy_score(Ytest, Ypred1))\n",
    "print(\"Precision\",metrics.precision_score(Ytest, Ypred1))\n",
    "print(\"Recall\",metrics.recall_score(Ytest, Ypred1))\n",
    "print(\"f1_score\",metrics.f1_score(Ytest, Ypred1))"
   ]
  },
  {
   "cell_type": "code",
   "execution_count": 603,
   "id": "ea8a9016",
   "metadata": {},
   "outputs": [
    {
     "data": {
      "text/plain": [
       "<sklearn.metrics._plot.confusion_matrix.ConfusionMatrixDisplay at 0x17f2733da00>"
      ]
     },
     "execution_count": 603,
     "metadata": {},
     "output_type": "execute_result"
    },
    {
     "data": {
      "image/png": "[encoded data removed]",
      "text/plain": [
       "<Figure size 432x288 with 2 Axes>"
      ]
     },
     "metadata": {
      "needs_background": "light"
     },
     "output_type": "display_data"
    }
   ],
   "source": [
    "metrics.plot_confusion_matrix(modelRandForest,Xtest,Ytest)"
   ]
  },
  {
   "cell_type": "code",
   "execution_count": null,
   "id": "4a507939",
   "metadata": {},
   "outputs": [],
   "source": []
  }
 ],
 "metadata": {
  "kernelspec": {
   "display_name": "Python 3",
   "language": "python",
   "name": "python3"
  },
  "language_info": {
   "codemirror_mode": {
    "name": "ipython",
    "version": 3
   },
   "file_extension": ".py",
   "mimetype": "text/x-python",
   "name": "python",
   "nbconvert_exporter": "python",
   "pygments_lexer": "ipython3",
   "version": "3.8.8"
  }
 },
 "nbformat": 4,
 "nbformat_minor": 5
}
