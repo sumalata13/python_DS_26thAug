{
 "cells": [
  {
   "cell_type": "code",
   "execution_count": null,
   "id": "ca3186ab",
   "metadata": {},
   "outputs": [],
   "source": [
    "print(39 & 120)"
   ]
  },
  {
   "cell_type": "code",
   "execution_count": null,
   "id": "1682231b",
   "metadata": {},
   "outputs": [],
   "source": [
    "print(bin(39))"
   ]
  },
  {
   "cell_type": "code",
   "execution_count": null,
   "id": "eb854b37",
   "metadata": {},
   "outputs": [],
   "source": [
    "print(bin(120))"
   ]
  },
  {
   "cell_type": "code",
   "execution_count": null,
   "id": "20cba51b",
   "metadata": {},
   "outputs": [],
   "source": [
    "print(67<<5)\n"
   ]
  },
  {
   "cell_type": "code",
   "execution_count": null,
   "id": "e5e0cbca",
   "metadata": {},
   "outputs": [],
   "source": [
    "print(bin(67))"
   ]
  },
  {
   "cell_type": "code",
   "execution_count": null,
   "id": "5f015c1f",
   "metadata": {},
   "outputs": [],
   "source": [
    "a=9\n",
    "b=4\n",
    "print(a/b)"
   ]
  },
  {
   "cell_type": "code",
   "execution_count": null,
   "id": "dd1dacd6",
   "metadata": {},
   "outputs": [],
   "source": [
    "# my_str='python'\n",
    "# my_str1='klj'\n",
    "# print(my_str.center(90,'*'))\n",
    "\n",
    "my_str='peter piper picked a peck of pickled peppers'\n",
    "\n",
    "\n",
    "\n",
    "print(my_str.find('z',1,20))\n",
    "\n",
    "print(my_str.index('rs'))\n"
   ]
  },
  {
   "cell_type": "code",
   "execution_count": null,
   "id": "b060e7f2",
   "metadata": {},
   "outputs": [],
   "source": [
    "my_str='    This is python class '\n",
    "my_str.strip()\n",
    "my_str.lstrip()\n",
    "my_str.rstrip()\n",
    "#print(my_str)"
   ]
  },
  {
   "cell_type": "code",
   "execution_count": null,
   "id": "df566340",
   "metadata": {},
   "outputs": [],
   "source": [
    "marks= (int(input('Enter the marks')))\n",
    "if marks > 90 and marks < 100:\n",
    "    Print(\"Grade A\")\n",
    "elif marks > 80 and marks < 90:\n",
    "    Print(\"Grade B\")\n",
    "else :\n",
    "    Print(\"Grade C\")\n",
    "    "
   ]
  },
  {
   "cell_type": "raw",
   "id": "9c1f949c",
   "metadata": {},
   "source": [
    "my_str='    This is python class '\n",
    "my_str.split()"
   ]
  },
  {
   "cell_type": "code",
   "execution_count": null,
   "id": "c9e75962",
   "metadata": {},
   "outputs": [],
   "source": [
    "marks= (int(input('Enter the marks')))\n",
    "if marks > 90 and marks < 100:\n",
    "    print('Grade A')\n",
    "elif marks > 80 and marks < 90:\n",
    "    print('Grade B')\n",
    "elif marks > 70 and marks < 80:\n",
    "    print('Grade C')\n",
    "elif marks > 80 and marks < 90:\n",
    "    \n",
    "    "
   ]
  },
  {
   "cell_type": "code",
   "execution_count": null,
   "id": "dfab5fbb",
   "metadata": {},
   "outputs": [],
   "source": [
    "ch= (input('Enter the char'))\n",
    "if ch=='a' and ch=='e' and ch=='i' and ch=='o' and ch=='u':\n",
    "   print('Vowel')\n",
    "elif len(ch)>1:\n",
    "   print('Enter a single character')\n",
    "else : \n",
    "   print('consonent')"
   ]
  },
  {
   "cell_type": "code",
   "execution_count": null,
   "id": "c31405e8",
   "metadata": {},
   "outputs": [],
   "source": []
  },
  {
   "cell_type": "code",
   "execution_count": 1,
   "id": "4dddf370",
   "metadata": {},
   "outputs": [
    {
     "name": "stdout",
     "output_type": "stream",
     "text": [
      "Enter the number of calls101\n",
      "200.6\n"
     ]
    }
   ],
   "source": [
    "count=(int(input('Enter the number of calls')))\n",
    "if count <= 100 :\n",
    "    rate= 200\n",
    "elif count > 100 and count <= 150 :\n",
    "    rate =200+(count-100)*0.6\n",
    "elif count > 150 and count <= 200 :\n",
    "     rate =200+(count-100)*0.5\n",
    "elif count > 200  :\n",
    "     rate =200+(count-100)*0.4\n",
    "        \n",
    "print(rate)        \n",
    "  my_str\n",
    "\n"
   ]
  },
  {
   "cell_type": "code",
   "execution_count": 10,
   "id": "f2a7df9f",
   "metadata": {},
   "outputs": [
    {
     "name": "stdout",
     "output_type": "stream",
     "text": [
      "This is\n",
      "  Python \n",
      "   class\n"
     ]
    }
   ],
   "source": [
    "print(\"\"\"This is\n",
    "  Python \n",
    "   class\"\"\")"
   ]
  },
  {
   "cell_type": "code",
   "execution_count": 45,
   "id": "0a2209c8",
   "metadata": {},
   "outputs": [
    {
     "name": "stdout",
     "output_type": "stream",
     "text": [
      "count :- 44 \n",
      "\n",
      "count of p:-  9\n",
      "My list is :-  ['peter', 'piper', 'picked', 'a', 'peck', 'of', 'pickled']\n"
     ]
    }
   ],
   "source": [
    "my_str = 'peter piper picked a peck of pickled peppers'\n",
    "\n",
    "# Total lenght of this string - using loop\n",
    "# Total count of charcter 'p' - using loop\n",
    "# ['peter', 'piper', 'picked', 'a', 'peck', 'of', 'pickled', 'peppers']\n",
    "\n",
    "count1=0\n",
    "count2=0\n",
    "new_str=''\n",
    "out_list=[]\n",
    "for count in my_str:\n",
    " count1=count1+1\n",
    " if count == 'p' or count=='P' :\n",
    "   count2=count2+1\n",
    "\n",
    " if count != ' ':\n",
    "    new_str=new_str+count\n",
    "#     print(\"here \",new_str)\n",
    " else :\n",
    "#     print(\"here1 \")\n",
    "    out_list.append(new_str)\n",
    "    new_str=''\n",
    "\n",
    "    \n",
    "print(\"count :-\",count1,\"\\n\")\n",
    "print('count of p:- ',count2)\n",
    "my_str.split()\n",
    "print(\"My list is :- \", out_list)"
   ]
  },
  {
   "cell_type": "code",
   "execution_count": 48,
   "id": "852383e5",
   "metadata": {},
   "outputs": [
    {
     "name": "stdout",
     "output_type": "stream",
     "text": [
      "reverse string :-  sreppep delkcip fo kcep a dekcip repip retep\n",
      "count :- 44 \n",
      "\n",
      "count of p:-  9\n",
      "My list is :-  ['sreppep', 'delkcip', 'fo', 'kcep', 'a', 'dekcip', 'repip']\n"
     ]
    }
   ],
   "source": [
    "\n",
    "#['sreppep', 'delkcip', 'fo', 'kcep', 'a', 'dekcip', 'repip', 'retep']\n",
    "\n",
    "my_str = 'peter piper picked a peck of pickled peppers'\n",
    "      \n",
    "count1=0\n",
    "count2=0\n",
    "new_str=''\n",
    "out_list=[]\n",
    "reverse_string=my_str[::-1]\n",
    "print(\"reverse string :- \",reverse_string)\n",
    "for count in reverse_string:\n",
    " count1=count1+1\n",
    " if count == 'p' or count=='P' :\n",
    "   count2=count2+1\n",
    "\n",
    " if count != ' ':\n",
    "    new_str=new_str+count\n",
    "#     print(\"here \",new_str)\n",
    " else :\n",
    "#     print(\"here1 \")\n",
    "    out_list.append(new_str)\n",
    "    new_str=''\n",
    "\n",
    "    \n",
    "print(\"count :-\",count1,\"\\n\")\n",
    "print('count of p:- ',count2)\n",
    "my_str.split()\n",
    "print(\"My list is :- \", out_list)\n"
   ]
  },
  {
   "cell_type": "code",
   "execution_count": 3,
   "id": "c01d1a6c",
   "metadata": {},
   "outputs": [
    {
     "data": {
      "text/plain": [
       "[1, 4, 27, 16, 125, 36, 343, 64, 729]"
      ]
     },
     "execution_count": 3,
     "metadata": {},
     "output_type": "execute_result"
    }
   ],
   "source": [
    "[i**2 if i%2==0 else i**3 for i in range(1,10)]"
   ]
  },
  {
   "cell_type": "code",
   "execution_count": null,
   "id": "5a1bbf8d",
   "metadata": {},
   "outputs": [],
   "source": [
    "lst_email = ['abhishek@learnbay.co', 'rahul@learnbay.co', 'suresh@learnbay.co',\n",
    "            'Aditya@learnbay.co', 'manohar@learnbay.co', 'Ankit@learnbay.co']\n",
    "\n",
    "# give me a list of user names of all those email ids for which length of user name is more than 5\n",
    "lst=[]\n",
    "for i in lst_email :\n",
    "    j=i.index('@')\n",
    "#     print(j)\n",
    "    temp=i[0:i.index('@')]\n",
    "    if(len(temp)>5):\n",
    "        lst = lst + [temp]\n",
    "#     print(temp)\n",
    "print(\"list \", lst)"
   ]
  },
  {
   "cell_type": "code",
   "execution_count": null,
   "id": "aefe21f0",
   "metadata": {},
   "outputs": [],
   "source": [
    "a='10'\n",
    "b='10'\n",
    "a=input\n",
    "print(a==b)\n",
    "print(id(a))\n",
    "print(id(b))"
   ]
  },
  {
   "cell_type": "code",
   "execution_count": 4,
   "id": "7768020d",
   "metadata": {},
   "outputs": [
    {
     "data": {
      "text/plain": [
       "[[101, 'abhishek@learnbay.co'],\n",
       " [102, 'rahul@learnbay.co'],\n",
       " [103, 'suresh@learnbay.co'],\n",
       " [104, 'Aditya@learnbay.co'],\n",
       " [105, 'manohar@learnbay.co'],\n",
       " [106, 'Ankit@learnbay.co']]"
      ]
     },
     "execution_count": 4,
     "metadata": {},
     "output_type": "execute_result"
    }
   ],
   "source": [
    "out_lst = [[101,'abhishek@learnbay.co'], [102,'rahul@learnbay.co'], \n",
    "           [103, 'suresh@learnbay.co'], [104, 'Aditya@learnbay.co'], \n",
    "           [105, 'manohar@learnbay.co'], [106, 'Ankit@learnbay.co']]\n",
    "\n",
    "lst_email = ['abhishek@learnbay.co', 'rahul@learnbay.co', 'suresh@learnbay.co',\n",
    "            'Aditya@learnbay.co', 'manohar@learnbay.co', 'Ankit@learnbay.co']\n",
    "\n",
    "lst_id = [101, 102, 103, 104, 105, 106]\n",
    "[[lst_id[j], lst_email[i]] for j in range(len(lst_id)) for i in range(len(lst_email)) if i == j]\n"
   ]
  },
  {
   "cell_type": "code",
   "execution_count": 6,
   "id": "6849fd22",
   "metadata": {},
   "outputs": [
    {
     "data": {
      "text/plain": [
       "[('p', 'c'), ('y', 'l'), ('t', 'a'), ('h', 's'), ('o', 's')]"
      ]
     },
     "execution_count": 6,
     "metadata": {},
     "output_type": "execute_result"
    }
   ],
   "source": [
    "list(zip('python','class'))"
   ]
  },
  {
   "cell_type": "code",
   "execution_count": 3,
   "id": "0c80f942",
   "metadata": {},
   "outputs": [
    {
     "name": "stdout",
     "output_type": "stream",
     "text": [
      "['apples', 'Apples', 'custard apples', 'Custard Apples']\n"
     ]
    }
   ],
   "source": [
    "fruits=[\"apples\",\"\",\"mangoes\",\"custard apples\"]\n",
    "out_lst=[]\n",
    "for each in fruits:\n",
    "     if \"apples\" in each:\n",
    "            out_lst.append(each)\n",
    "            out_lst.append(each.u())\n",
    "print(out_lst)"
   ]
  },
  {
   "cell_type": "code",
   "execution_count": 8,
   "id": "24c1b2d3",
   "metadata": {},
   "outputs": [
    {
     "data": {
      "text/plain": [
       "['Apple ', '  Pineapple', 'ORANGE ', '   BANANA ', 'KIWI', 'Custard Apples   ']"
      ]
     },
     "execution_count": 8,
     "metadata": {},
     "output_type": "execute_result"
    }
   ],
   "source": [
    "fruits_ = ['apple ', \"  Pineapple\", 'Orange ', '   banana ', 'kiwI', 'cuSTArd Apples   ']\n",
    "[i for i in fruits_ if  'apple' in i.lower()]\n",
    "[i.title()  if 'apple' in i.lower() else i.upper() for i in fruits_]"
   ]
  },
  {
   "cell_type": "code",
   "execution_count": 13,
   "id": "5c3bd7af",
   "metadata": {},
   "outputs": [
    {
     "name": "stdout",
     "output_type": "stream",
     "text": [
      "[10, 1, 11, 29, 876, 768, 92]\n",
      "[10, 1, 11, 29, 876, 768, 92]\n"
     ]
    }
   ],
   "source": [
    "mlst=[10,1,11,1,29,876,768,10,11,1,92,29,876]  #remove duplicates\n",
    "rlst=[]\n",
    "for i in mlst:\n",
    "    if i not in rlst:\n",
    "        rlst.append(i)\n",
    "print(rlst)\n",
    "Output=[]\n",
    "[Output.append(i) for i in mlst if i not in Output]\n",
    "print(Output)"
   ]
  },
  {
   "cell_type": "code",
   "execution_count": 15,
   "id": "44211c9b",
   "metadata": {},
   "outputs": [
    {
     "name": "stdout",
     "output_type": "stream",
     "text": [
      "[(2, 3), (5, 4), (5, 9), (5, 5), (7, 6), (9, 1)]\n",
      "[(9, 1), (2, 3), (5, 4), (5, 5), (7, 6), (5, 9)]\n"
     ]
    }
   ],
   "source": [
    "input_list =  [(5,4),(9,1),(2,3),(5,9),(7,6),(5,5)]  # argument_ : (5, 4)\n",
    "\n",
    "input_list.sort(key = lambda argument_ : argument_[0])  # 2 5 5 7 9 \n",
    "print(input_list)\n",
    "\n",
    "input_list.sort(key = lambda argument_ : argument_[1])  # 1 3 4 5 6 9\n",
    "print(input_list)\n"
   ]
  },
  {
   "cell_type": "code",
   "execution_count": 33,
   "id": "82c61ed2",
   "metadata": {},
   "outputs": [
    {
     "name": "stdout",
     "output_type": "stream",
     "text": [
      "ssalc nohtyp a si sihT\n"
     ]
    }
   ],
   "source": [
    "str=\"This is a python class\"\n",
    "print(str[len(str):0:-1]+str[0])"
   ]
  },
  {
   "cell_type": "code",
   "execution_count": 24,
   "id": "78599c98",
   "metadata": {},
   "outputs": [
    {
     "data": {
      "text/plain": [
       "['could', 'would', 'chuck', 'wood', 'woodchuck', 'much']"
      ]
     },
     "execution_count": 24,
     "metadata": {},
     "output_type": "execute_result"
    }
   ],
   "source": [
    " #Write a Python program to find the list of words that are longer than or equal to 4 from a given string.\n",
    "    #Input:- 'How much wood would a woodchuck chuck if a woodchuck could chuck wood'\n",
    "    #Output:- ['much', 'wood', 'would', 'woodchuck', 'chuck', 'could']\n",
    "    #Note:- Duplicate should be avoided.\n",
    "inp_str='How much wood would a woodchuck chuck if a woodchuck could chuck wood'\n",
    "[each for each in set(inp_str.split(' ')) if len(each) >= 4]\n"
   ]
  },
  {
   "cell_type": "code",
   "execution_count": 34,
   "id": "6a4cadc3",
   "metadata": {},
   "outputs": [
    {
     "data": {
      "text/plain": [
       "{-5, 2, 5, 8.02, 'A', False, True, 'python'}"
      ]
     },
     "execution_count": 34,
     "metadata": {},
     "output_type": "execute_result"
    }
   ],
   "source": [
    "setA = {2, False, 8.02, -5, 'python', 5, 2, False, \"A\", True}\n",
    "setA\n"
   ]
  },
  {
   "cell_type": "code",
   "execution_count": 35,
   "id": "62772b2e",
   "metadata": {},
   "outputs": [
    {
     "ename": "TypeError",
     "evalue": "add() takes exactly one argument (2 given)",
     "output_type": "error",
     "traceback": [
      "\u001b[1;31m---------------------------------------------------------------------------\u001b[0m",
      "\u001b[1;31mTypeError\u001b[0m                                 Traceback (most recent call last)",
      "\u001b[1;32m<ipython-input-35-7f0ce801c220>\u001b[0m in \u001b[0;36m<module>\u001b[1;34m\u001b[0m\n\u001b[1;32m----> 1\u001b[1;33m \u001b[0msetA\u001b[0m\u001b[1;33m.\u001b[0m\u001b[0madd\u001b[0m\u001b[1;33m(\u001b[0m\u001b[1;34m'ghjk'\u001b[0m\u001b[1;33m,\u001b[0m\u001b[1;36m30.5\u001b[0m\u001b[1;33m)\u001b[0m\u001b[1;33m\u001b[0m\u001b[1;33m\u001b[0m\u001b[0m\n\u001b[0m",
      "\u001b[1;31mTypeError\u001b[0m: add() takes exactly one argument (2 given)"
     ]
    }
   ],
   "source": [
    "setA.add('ghjk',30.5)"
   ]
  },
  {
   "cell_type": "code",
   "execution_count": 36,
   "id": "21cbb8c1",
   "metadata": {},
   "outputs": [
    {
     "ename": "TypeError",
     "evalue": "pop() takes no arguments (1 given)",
     "output_type": "error",
     "traceback": [
      "\u001b[1;31m---------------------------------------------------------------------------\u001b[0m",
      "\u001b[1;31mTypeError\u001b[0m                                 Traceback (most recent call last)",
      "\u001b[1;32m<ipython-input-36-4118a92a764f>\u001b[0m in \u001b[0;36m<module>\u001b[1;34m\u001b[0m\n\u001b[1;32m----> 1\u001b[1;33m \u001b[0msetA\u001b[0m\u001b[1;33m.\u001b[0m\u001b[0mpop\u001b[0m\u001b[1;33m(\u001b[0m\u001b[1;34m'A'\u001b[0m\u001b[1;33m)\u001b[0m\u001b[1;33m\u001b[0m\u001b[1;33m\u001b[0m\u001b[0m\n\u001b[0m",
      "\u001b[1;31mTypeError\u001b[0m: pop() takes no arguments (1 given)"
     ]
    }
   ],
   "source": [
    "setA.pop('A')"
   ]
  },
  {
   "cell_type": "code",
   "execution_count": 37,
   "id": "2afff31b",
   "metadata": {},
   "outputs": [
    {
     "data": {
      "text/plain": [
       "{-5, 2, 5, 8.02, 'A', False, True, 'python'}"
      ]
     },
     "execution_count": 37,
     "metadata": {},
     "output_type": "execute_result"
    }
   ],
   "source": [
    "setA\n"
   ]
  },
  {
   "cell_type": "code",
   "execution_count": 38,
   "id": "8e21d3d1",
   "metadata": {},
   "outputs": [
    {
     "data": {
      "text/plain": [
       "{-5, 2, 5, 8.02, 'A', False, True, 'python'}"
      ]
     },
     "execution_count": 38,
     "metadata": {},
     "output_type": "execute_result"
    }
   ],
   "source": [
    "setA"
   ]
  },
  {
   "cell_type": "code",
   "execution_count": 39,
   "id": "0a22f0a7",
   "metadata": {},
   "outputs": [],
   "source": [
    "setA.add(\"open\")"
   ]
  },
  {
   "cell_type": "code",
   "execution_count": 40,
   "id": "90815472",
   "metadata": {},
   "outputs": [
    {
     "data": {
      "text/plain": [
       "{-5, 2, 5, 8.02, 'A', False, True, 'open', 'python'}"
      ]
     },
     "execution_count": 40,
     "metadata": {},
     "output_type": "execute_result"
    }
   ],
   "source": [
    "setA"
   ]
  },
  {
   "cell_type": "code",
   "execution_count": null,
   "id": "9e756295",
   "metadata": {},
   "outputs": [],
   "source": [
    "set2={1,2,3.4,(2,3,4),\"sameer\"}\n",
    "set2.update([6+3j,3.4],'kashif bilal khan',(9,0,45))\n",
    "len(set2)\n",
    "print(set2)\n"
   ]
  },
  {
   "cell_type": "code",
   "execution_count": 2,
   "id": "978a2c84",
   "metadata": {},
   "outputs": [
    {
     "name": "stdout",
     "output_type": "stream",
     "text": [
      "Entyer the number :-rty\n"
     ]
    },
    {
     "ename": "NameError",
     "evalue": "name 'rty' is not defined",
     "output_type": "error",
     "traceback": [
      "\u001b[1;31m---------------------------------------------------------------------------\u001b[0m",
      "\u001b[1;31mNameError\u001b[0m                                 Traceback (most recent call last)",
      "\u001b[1;32m<ipython-input-2-41d086af202e>\u001b[0m in \u001b[0;36m<module>\u001b[1;34m\u001b[0m\n\u001b[1;32m----> 1\u001b[1;33m \u001b[0mnp\u001b[0m\u001b[1;33m=\u001b[0m\u001b[0meval\u001b[0m\u001b[1;33m(\u001b[0m\u001b[0minput\u001b[0m\u001b[1;33m(\u001b[0m\u001b[1;34m\"Entyer the number :-\"\u001b[0m\u001b[1;33m)\u001b[0m\u001b[1;33m)\u001b[0m\u001b[1;33m\u001b[0m\u001b[1;33m\u001b[0m\u001b[0m\n\u001b[0m\u001b[0;32m      2\u001b[0m \u001b[1;33m\u001b[0m\u001b[0m\n\u001b[0;32m      3\u001b[0m \u001b[0msq_fun\u001b[0m\u001b[1;33m=\u001b[0m \u001b[1;32mlambda\u001b[0m \u001b[0mx\u001b[0m\u001b[1;33m:\u001b[0m\u001b[0mx\u001b[0m\u001b[1;33m*\u001b[0m\u001b[0mx\u001b[0m\u001b[1;33m\u001b[0m\u001b[1;33m\u001b[0m\u001b[0m\n\u001b[0;32m      4\u001b[0m \u001b[0mprint\u001b[0m\u001b[1;33m(\u001b[0m\u001b[0msq_fun\u001b[0m\u001b[1;33m(\u001b[0m\u001b[0mnp\u001b[0m\u001b[1;33m)\u001b[0m\u001b[1;33m)\u001b[0m\u001b[1;33m\u001b[0m\u001b[1;33m\u001b[0m\u001b[0m\n",
      "\u001b[1;32m<string>\u001b[0m in \u001b[0;36m<module>\u001b[1;34m\u001b[0m\n",
      "\u001b[1;31mNameError\u001b[0m: name 'rty' is not defined"
     ]
    }
   ],
   "source": [
    "np=eval(input(\"Entyer the number :-\"))\n",
    "\n",
    "sq_fun= lambda x:x*x\n",
    "print(sq_fun(np))"
   ]
  },
  {
   "cell_type": "code",
   "execution_count": null,
   "id": "3a69d028",
   "metadata": {},
   "outputs": [],
   "source": []
  },
  {
   "cell_type": "code",
   "execution_count": null,
   "id": "32664e97",
   "metadata": {},
   "outputs": [],
   "source": []
  }
 ],
 "metadata": {
  "kernelspec": {
   "display_name": "Python 3",
   "language": "python",
   "name": "python3"
  },
  "language_info": {
   "codemirror_mode": {
    "name": "ipython",
    "version": 3
   },
   "file_extension": ".py",
   "mimetype": "text/x-python",
   "name": "python",
   "nbconvert_exporter": "python",
   "pygments_lexer": "ipython3",
   "version": "3.8.8"
  }
 },
 "nbformat": 4,
 "nbformat_minor": 5
}
