{
 "cells": [
  {
   "cell_type": "code",
   "execution_count": null,
   "id": "ca3186ab",
   "metadata": {},
   "outputs": [],
   "source": [
    "print(39 & 120)"
   ]
  },
  {
   "cell_type": "code",
   "execution_count": null,
   "id": "1682231b",
   "metadata": {},
   "outputs": [],
   "source": [
    "print(bin(39))"
   ]
  },
  {
   "cell_type": "code",
   "execution_count": null,
   "id": "eb854b37",
   "metadata": {},
   "outputs": [],
   "source": [
    "print(bin(120))"
   ]
  },
  {
   "cell_type": "code",
   "execution_count": null,
   "id": "20cba51b",
   "metadata": {},
   "outputs": [],
   "source": [
    "print(67<<5)\n"
   ]
  },
  {
   "cell_type": "code",
   "execution_count": null,
   "id": "e5e0cbca",
   "metadata": {},
   "outputs": [],
   "source": [
    "print(bin(67))"
   ]
  },
  {
   "cell_type": "code",
   "execution_count": null,
   "id": "5f015c1f",
   "metadata": {},
   "outputs": [],
   "source": [
    "a=9\n",
    "b=4\n",
    "print(a/b)"
   ]
  },
  {
   "cell_type": "code",
   "execution_count": null,
   "id": "dd1dacd6",
   "metadata": {},
   "outputs": [],
   "source": [
    "# my_str='python'\n",
    "# my_str1='klj'\n",
    "# print(my_str.center(90,'*'))\n",
    "\n",
    "my_str='peter piper picked a peck of pickled peppers'\n",
    "\n",
    "\n",
    "\n",
    "print(my_str.find('z',1,20))\n",
    "\n",
    "print(my_str.index('rs'))\n"
   ]
  },
  {
   "cell_type": "code",
   "execution_count": null,
   "id": "b060e7f2",
   "metadata": {},
   "outputs": [],
   "source": [
    "my_str='    This is python class '\n",
    "my_str.strip()\n",
    "my_str.lstrip()\n",
    "my_str.rstrip()\n",
    "#print(my_str)"
   ]
  },
  {
   "cell_type": "code",
   "execution_count": null,
   "id": "df566340",
   "metadata": {},
   "outputs": [],
   "source": [
    "marks= (int(input('Enter the marks')))\n",
    "if marks > 90 and marks < 100:\n",
    "    Print(\"Grade A\")\n",
    "elif marks > 80 and marks < 90:\n",
    "    Print(\"Grade B\")\n",
    "else :\n",
    "    Print(\"Grade C\")\n",
    "    "
   ]
  },
  {
   "cell_type": "raw",
   "id": "9c1f949c",
   "metadata": {},
   "source": [
    "my_str='    This is python class '\n",
    "my_str.split()"
   ]
  },
  {
   "cell_type": "code",
   "execution_count": null,
   "id": "c9e75962",
   "metadata": {},
   "outputs": [],
   "source": [
    "marks= (int(input('Enter the marks')))\n",
    "if marks > 90 and marks < 100:\n",
    "    print('Grade A')\n",
    "elif marks > 80 and marks < 90:\n",
    "    print('Grade B')\n",
    "elif marks > 70 and marks < 80:\n",
    "    print('Grade C')\n",
    "elif marks > 80 and marks < 90:\n",
    "    \n",
    "    "
   ]
  },
  {
   "cell_type": "code",
   "execution_count": null,
   "id": "dfab5fbb",
   "metadata": {},
   "outputs": [],
   "source": [
    "ch= (input('Enter the char'))\n",
    "if ch=='a' and ch=='e' and ch=='i' and ch=='o' and ch=='u':\n",
    "   print('Vowel')\n",
    "elif len(ch)>1:\n",
    "   print('Enter a single character')\n",
    "else : \n",
    "   print('consonent')"
   ]
  },
  {
   "cell_type": "code",
   "execution_count": null,
   "id": "c31405e8",
   "metadata": {},
   "outputs": [],
   "source": []
  },
  {
   "cell_type": "code",
   "execution_count": null,
   "id": "4dddf370",
   "metadata": {},
   "outputs": [],
   "source": [
    "count=(int(input('Enter the number of calls')))\n",
    "if count <= 100 :\n",
    "    rate= 200\n",
    "elif count > 100 and count <= 150 :\n",
    "    rate =200+(count-100)*0.6\n",
    "elif count > 150 and count <= 200 :\n",
    "     rate =200+(count-100)*0.5\n",
    "elif count > 200  :\n",
    "     rate =200+(count-100)*0.4\n",
    "        \n",
    "print(rate)        \n",
    "  my_str\n",
    "\n"
   ]
  },
  {
   "cell_type": "code",
   "execution_count": null,
   "id": "f2a7df9f",
   "metadata": {},
   "outputs": [],
   "source": [
    "print(\"\"\"This is\n",
    "  Python \n",
    "   class\"\"\")"
   ]
  },
  {
   "cell_type": "code",
   "execution_count": null,
   "id": "0a2209c8",
   "metadata": {},
   "outputs": [],
   "source": [
    "my_str = 'peter piper picked a peck of pickled peppers'\n",
    "\n",
    "# Total lenght of this string - using loop\n",
    "# Total count of charcter 'p' - using loop\n",
    "# ['peter', 'piper', 'picked', 'a', 'peck', 'of', 'pickled', 'peppers']\n",
    "\n",
    "count1=0\n",
    "count2=0\n",
    "new_str=''\n",
    "out_list=[]\n",
    "for count in my_str:\n",
    " count1=count1+1\n",
    " if count == 'p' or count=='P' :\n",
    "   count2=count2+1\n",
    "\n",
    " if count != ' ':\n",
    "    new_str=new_str+count\n",
    "#     print(\"here \",new_str)\n",
    " else :\n",
    "#     print(\"here1 \")\n",
    "    out_list.append(new_str)\n",
    "    new_str=''\n",
    "\n",
    "    \n",
    "print(\"count :-\",count1,\"\\n\")\n",
    "print('count of p:- ',count2)\n",
    "my_str.split()\n",
    "print(\"My list is :- \", out_list)"
   ]
  },
  {
   "cell_type": "code",
   "execution_count": null,
   "id": "852383e5",
   "metadata": {},
   "outputs": [],
   "source": [
    "\n",
    "#['sreppep', 'delkcip', 'fo', 'kcep', 'a', 'dekcip', 'repip', 'retep']\n",
    "\n",
    "my_str = 'peter piper picked a peck of pickled peppers'\n",
    "      \n",
    "count1=0\n",
    "count2=0\n",
    "new_str=''\n",
    "out_list=[]\n",
    "reverse_string=my_str[::-1]\n",
    "print(\"reverse string :- \",reverse_string)\n",
    "for count in reverse_string:\n",
    " count1=count1+1\n",
    " if count == 'p' or count=='P' :\n",
    "   count2=count2+1\n",
    "\n",
    " if count != ' ':\n",
    "    new_str=new_str+count\n",
    "#     print(\"here \",new_str)\n",
    " else :\n",
    "#     print(\"here1 \")\n",
    "    out_list.append(new_str)\n",
    "    new_str=''\n",
    "\n",
    "    \n",
    "print(\"count :-\",count1,\"\\n\")\n",
    "print('count of p:- ',count2)\n",
    "my_str.split()\n",
    "print(\"My list is :- \", out_list)\n"
   ]
  },
  {
   "cell_type": "code",
   "execution_count": null,
   "id": "c01d1a6c",
   "metadata": {},
   "outputs": [],
   "source": [
    "[i**2 if i%2==0 else i**3 for i in range(1,10)]"
   ]
  },
  {
   "cell_type": "code",
   "execution_count": null,
   "id": "5a1bbf8d",
   "metadata": {},
   "outputs": [],
   "source": [
    "lst_email = ['abhishek@learnbay.co', 'rahul@learnbay.co', 'suresh@learnbay.co',\n",
    "            'Aditya@learnbay.co', 'manohar@learnbay.co', 'Ankit@learnbay.co']\n",
    "\n",
    "# give me a list of user names of all those email ids for which length of user name is more than 5\n",
    "lst=[]\n",
    "for i in lst_email :\n",
    "    j=i.index('@')\n",
    "#     print(j)\n",
    "    temp=i[0:i.index('@')]\n",
    "    if(len(temp)>5):\n",
    "        lst = lst + [temp]\n",
    "#     print(temp)\n",
    "print(\"list \", lst)"
   ]
  },
  {
   "cell_type": "code",
   "execution_count": null,
   "id": "aefe21f0",
   "metadata": {},
   "outputs": [],
   "source": [
    "a='10'\n",
    "b='10'\n",
    "a=input\n",
    "print(a==b)\n",
    "print(id(a))\n",
    "print(id(b))"
   ]
  },
  {
   "cell_type": "code",
   "execution_count": null,
   "id": "7768020d",
   "metadata": {},
   "outputs": [],
   "source": [
    "out_lst = [[101,'abhishek@learnbay.co'], [102,'rahul@learnbay.co'], \n",
    "           [103, 'suresh@learnbay.co'], [104, 'Aditya@learnbay.co'], \n",
    "           [105, 'manohar@learnbay.co'], [106, 'Ankit@learnbay.co']]\n",
    "\n",
    "lst_email = ['abhishek@learnbay.co', 'rahul@learnbay.co', 'suresh@learnbay.co',\n",
    "            'Aditya@learnbay.co', 'manohar@learnbay.co', 'Ankit@learnbay.co']\n",
    "\n",
    "lst_id = [101, 102, 103, 104, 105, 106]\n",
    "[[lst_id[j], lst_email[i]] for j in range(len(lst_id)) for i in range(len(lst_email)) if i == j]\n"
   ]
  },
  {
   "cell_type": "code",
   "execution_count": null,
   "id": "6849fd22",
   "metadata": {},
   "outputs": [],
   "source": [
    "list(zip('python','class'))"
   ]
  },
  {
   "cell_type": "code",
   "execution_count": null,
   "id": "0c80f942",
   "metadata": {},
   "outputs": [],
   "source": [
    "fruits=[\"apples\",\"\",\"mangoes\",\"custard apples\"]\n",
    "out_lst=[]\n",
    "for each in fruits:\n",
    "     if \"apples\" in each:\n",
    "            out_lst.append(each)\n",
    "            out_lst.append(each.u())\n",
    "print(out_lst)"
   ]
  },
  {
   "cell_type": "code",
   "execution_count": null,
   "id": "24c1b2d3",
   "metadata": {},
   "outputs": [],
   "source": [
    "fruits_ = ['apple ', \"  Pineapple\", 'Orange ', '   banana ', 'kiwI', 'cuSTArd Apples   ']\n",
    "[i for i in fruits_ if  'apple' in i.lower()]\n",
    "[i.title()  if 'apple' in i.lower() else i.upper() for i in fruits_]"
   ]
  },
  {
   "cell_type": "code",
   "execution_count": null,
   "id": "5c3bd7af",
   "metadata": {},
   "outputs": [],
   "source": [
    "mlst=[10,1,11,1,29,876,768,10,11,1,92,29,876]  #remove duplicates\n",
    "rlst=[]\n",
    "for i in mlst:\n",
    "    if i not in rlst:\n",
    "        rlst.append(i)\n",
    "print(rlst)\n",
    "Output=[]\n",
    "[Output.append(i) for i in mlst if i not in Output]\n",
    "print(Output)"
   ]
  },
  {
   "cell_type": "code",
   "execution_count": null,
   "id": "44211c9b",
   "metadata": {},
   "outputs": [],
   "source": [
    "input_list =  [(5,4),(9,1),(2,3),(5,9),(7,6),(5,5)]  # argument_ : (5, 4)\n",
    "\n",
    "input_list.sort(key = lambda argument_ : argument_[0])  # 2 5 5 7 9 \n",
    "print(input_list)\n",
    "\n",
    "input_list.sort(key = lambda argument_ : argument_[1])  # 1 3 4 5 6 9\n",
    "print(input_list)\n"
   ]
  },
  {
   "cell_type": "code",
   "execution_count": null,
   "id": "82c61ed2",
   "metadata": {},
   "outputs": [],
   "source": [
    "str=\"This is a python class\"\n",
    "print(str[len(str):0:-1]+str[0])"
   ]
  },
  {
   "cell_type": "code",
   "execution_count": null,
   "id": "78599c98",
   "metadata": {},
   "outputs": [],
   "source": [
    " #Write a Python program to find the list of words that are longer than or equal to 4 from a given string.\n",
    "    #Input:- 'How much wood would a woodchuck chuck if a woodchuck could chuck wood'\n",
    "    #Output:- ['much', 'wood', 'would', 'woodchuck', 'chuck', 'could']\n",
    "    #Note:- Duplicate should be avoided.\n",
    "inp_str='How much wood would a woodchuck chuck if a woodchuck could chuck wood'\n",
    "[each for each in set(inp_str.split(' ')) if len(each) >= 4]\n"
   ]
  },
  {
   "cell_type": "code",
   "execution_count": null,
   "id": "6a4cadc3",
   "metadata": {},
   "outputs": [],
   "source": [
    "setA = {2, False, 8.02, -5, 'python', 5, 2, False, \"A\", True}\n",
    "setA\n"
   ]
  },
  {
   "cell_type": "code",
   "execution_count": null,
   "id": "62772b2e",
   "metadata": {},
   "outputs": [],
   "source": [
    "setA.add('ghjk',30.5)"
   ]
  },
  {
   "cell_type": "code",
   "execution_count": null,
   "id": "21cbb8c1",
   "metadata": {},
   "outputs": [],
   "source": [
    "setA.pop('A')"
   ]
  },
  {
   "cell_type": "code",
   "execution_count": null,
   "id": "2afff31b",
   "metadata": {},
   "outputs": [],
   "source": [
    "setA\n"
   ]
  },
  {
   "cell_type": "code",
   "execution_count": null,
   "id": "8e21d3d1",
   "metadata": {},
   "outputs": [],
   "source": [
    "setA"
   ]
  },
  {
   "cell_type": "code",
   "execution_count": null,
   "id": "0a22f0a7",
   "metadata": {},
   "outputs": [],
   "source": [
    "setA.add(\"open\")"
   ]
  },
  {
   "cell_type": "code",
   "execution_count": null,
   "id": "90815472",
   "metadata": {},
   "outputs": [],
   "source": [
    "setA"
   ]
  },
  {
   "cell_type": "code",
   "execution_count": null,
   "id": "9e756295",
   "metadata": {},
   "outputs": [],
   "source": [
    "set2={1,2,3.4,(2,3,4),\"sameer\"}\n",
    "set2.update([6+3j,3.4],'kashif bilal khan',(9,0,45))\n",
    "len(set2)\n",
    "print(set2)\n"
   ]
  },
  {
   "cell_type": "code",
   "execution_count": null,
   "id": "3d1b58bb",
   "metadata": {},
   "outputs": [],
   "source": [
    "np=eval(input(\"Entyer the number :-\"))\n",
    "\n",
    "sq_fun= lambda x:x*x\n",
    "print(sq_fun(np))"
   ]
  },
  {
   "cell_type": "code",
   "execution_count": null,
   "id": "9472b3c4",
   "metadata": {},
   "outputs": [],
   "source": [
    "email=\"suma_l1@ygmail.com\"\n",
    "print(email[0:email.index('@')])\n",
    "X=lambda email:email[0:email.index('@')]\n",
    "print(x)"
   ]
  },
  {
   "cell_type": "code",
   "execution_count": null,
   "id": "dec74590",
   "metadata": {},
   "outputs": [],
   "source": [
    "lst=[10,11,12,13,14,15,16,17,18,19]\n",
    "x=list(filter(lambda num:num%2,lst))\n",
    "print(x)"
   ]
  },
  {
   "cell_type": "code",
   "execution_count": null,
   "id": "dc4359bf",
   "metadata": {},
   "outputs": [],
   "source": [
    "lst=[\"abc@gmail.com\",\"def@gmail.com\",\"abc@yahoo.com\",\"def@yahoo.com\"]\n",
    "lst = ['abhishek@learnbay.co', 'krishna@gmail.com', 'rahul@learnbay.co', 'neha@learnbay.co',\n",
    "       'manohar@learnbay.co', 'ravi@learnbay.co', 'aniket@yahoo.co.in', 'ankit@learnbay.in']\n",
    "x=list(filter(lambda num:len(num[0:num.index('@')])>5,lst))\n",
    "print(x)"
   ]
  },
  {
   "cell_type": "code",
   "execution_count": null,
   "id": "3e174128",
   "metadata": {},
   "outputs": [],
   "source": [
    "lst = [('Abhishek', 'M'), ('Rahul', 'M'), ('NehaM', 'F'), ('Anshu', 'F'), ('Lakshmi', 'F'),\n",
    "       ('Aniket', 'M'), ('Shweta', 'F')]\n",
    "x=list(filter(lambda num:'M' in num,lst))\n",
    "print(x)"
   ]
  },
  {
   "cell_type": "code",
   "execution_count": null,
   "id": "9d34b430",
   "metadata": {},
   "outputs": [],
   "source": [
    "lst=[10,11,12,13,14]\n",
    "list(map(lambda num:num**2 ,lst))"
   ]
  },
  {
   "cell_type": "code",
   "execution_count": null,
   "id": "c8649711",
   "metadata": {},
   "outputs": [],
   "source": [
    "lst=[10,11,12,13,14]\n",
    "list(map(lambda num:num**2 if num%2==0 else num**3,lst))"
   ]
  },
  {
   "cell_type": "code",
   "execution_count": null,
   "id": "fb8ba15c",
   "metadata": {},
   "outputs": [],
   "source": [
    "lst = ['abhishek@learnbay.co', 'krishna@gmail.com', 'rahul@learnbay.co', 'neha@learnbay.co',\n",
    "       'manohar@learnbay.co', 'ravi@learnbay.co', 'aniket@yahoo.co.in', 'ankit@learnbay.in']\n",
    "list(map(lambda num:num[0:num.index('@')] ,filter(lambda num:len(num[0:num.index('@')])>5,lst)))"
   ]
  },
  {
   "cell_type": "code",
   "execution_count": null,
   "id": "41b3a5f2",
   "metadata": {},
   "outputs": [],
   "source": [
    "lst = [('Abhishek', 'M'), ('Rahul', 'M'), ('NehaM', 'F'), ('Anshu', 'F'), ('Lakshmi', 'F'),\n",
    "       ('Aniket', 'M'), ('Shweta', 'F')]\n",
    "list(map(lambda num : 'T' if 'M' in num else 'F',lst))"
   ]
  },
  {
   "cell_type": "code",
   "execution_count": null,
   "id": "63f26931",
   "metadata": {},
   "outputs": [],
   "source": [
    "lst_email = ['abhishek@learnbay.co', 'krishna@gmail.com', 'rahul@learnbay.co', 'neha@learnbay.co',\n",
    "       'manohar@learnbay.co', 'ravi@learnbay.co', 'aniket@yahoo.co.in', 'ankit@learnbay.in']\n",
    "lst_gender = ['M', 'M', 'M', 'F', 'M', 'M', 'M', 'M']\n",
    "\n",
    "list(map(lambda val1, val2:(val1, val2), lst_email, lst_gender))\n"
   ]
  },
  {
   "cell_type": "code",
   "execution_count": null,
   "id": "f8a447e5",
   "metadata": {},
   "outputs": [],
   "source": [
    "# Write a Python program to create a lambda function that adds 15 to a given number passed in as an argument, \n",
    "# also create a lambda function that multiplies argument x with argument y and print the result. \n",
    "\n",
    "x,y = input(\"Enter two values: \").split()\n",
    "addfifteen = lambda x:int(x)+15\n",
    "print(addfifteen(x))\n",
    "\n",
    "z=lambda x,y :int(x)*int(y)\n",
    "print(z(x,y))"
   ]
  },
  {
   "cell_type": "code",
   "execution_count": null,
   "id": "57bbd1d1",
   "metadata": {},
   "outputs": [],
   "source": [
    "print(dir())"
   ]
  },
  {
   "cell_type": "code",
   "execution_count": null,
   "id": "764489fb",
   "metadata": {},
   "outputs": [],
   "source": [
    "print(dir(math))"
   ]
  },
  {
   "cell_type": "code",
   "execution_count": 1,
   "id": "74d008ef",
   "metadata": {},
   "outputs": [
    {
     "ename": "NameError",
     "evalue": "name 'math' is not defined",
     "output_type": "error",
     "traceback": [
      "\u001b[1;31m---------------------------------------------------------------------------\u001b[0m",
      "\u001b[1;31mNameError\u001b[0m                                 Traceback (most recent call last)",
      "\u001b[1;32m<ipython-input-1-829e73cee3de>\u001b[0m in \u001b[0;36m<module>\u001b[1;34m\u001b[0m\n\u001b[0;32m      1\u001b[0m \u001b[1;32mimport\u001b[0m \u001b[0mmath\u001b[0m \u001b[1;32mas\u001b[0m \u001b[0mm\u001b[0m\u001b[1;33m\u001b[0m\u001b[1;33m\u001b[0m\u001b[0m\n\u001b[1;32m----> 2\u001b[1;33m \u001b[0mpiVal\u001b[0m\u001b[1;33m=\u001b[0m\u001b[0mmath\u001b[0m\u001b[1;33m.\u001b[0m\u001b[0mpi\u001b[0m\u001b[1;33m\u001b[0m\u001b[1;33m\u001b[0m\u001b[0m\n\u001b[0m\u001b[0;32m      3\u001b[0m \u001b[0mprint\u001b[0m\u001b[1;33m(\u001b[0m\u001b[0mpiVal\u001b[0m\u001b[1;33m)\u001b[0m\u001b[1;33m\u001b[0m\u001b[1;33m\u001b[0m\u001b[0m\n",
      "\u001b[1;31mNameError\u001b[0m: name 'math' is not defined"
     ]
    }
   ],
   "source": [
    "import math as m\n",
    "piVal=math.pi\n",
    "print(piVal)"
   ]
  },
  {
   "cell_type": "code",
   "execution_count": 3,
   "id": "bf42c183",
   "metadata": {},
   "outputs": [
    {
     "name": "stdout",
     "output_type": "stream",
     "text": [
      "number of chars in file are : 1234\n",
      "number of words in file are : 200\n",
      "number of lines in file are : 10\n"
     ]
    }
   ],
   "source": [
    "f=open('my_mod.txt','r')\n",
    "content=f.read()\n",
    "print(\"number of chars in file are :\",len(content))\n",
    "f.close\n",
    "totWords=0\n",
    "totLines=0\n",
    "for char in content:\n",
    "    if(char==\" \"):\n",
    "        totWords+=1\n",
    "    if(char==\"\\n\"):\n",
    "        totLines+=1\n",
    "print(\"number of words in file are :\",totWords)\n",
    "print(\"number of lines in file are :\",totLines)"
   ]
  },
  {
   "cell_type": "code",
   "execution_count": 10,
   "id": "db2eced4",
   "metadata": {},
   "outputs": [
    {
     "data": {
      "text/plain": [
       "<function TextIOWrapper.close()>"
      ]
     },
     "execution_count": 10,
     "metadata": {},
     "output_type": "execute_result"
    }
   ],
   "source": [
    "# 1. Find the total no of charcters, words and lines from the file.\n",
    "# 2. Add a line \"Welcome to Python class at Learnbay conducted in Bengaluru\" at line no 5 in the file. Do not repace the content\n",
    "# 3. Copy the content of python.jpeg to new.png\n",
    "f=open('my_mod.txt','r+')\n",
    "content=f.readlines()\n",
    "content.insert(4,\"Welcome to Python class at Learnbay conducted in Bengaluru\\n\")\n",
    "f.seek(0)\n",
    "f.writelines(content)\n",
    "f.close\n",
    "\n",
    "\n"
   ]
  },
  {
   "cell_type": "code",
   "execution_count": 6,
   "id": "50cd1747",
   "metadata": {},
   "outputs": [],
   "source": [
    "f=open('pythonImage.jpeg','rb')\n",
    "content=f.read()\n",
    "f1=open('new.png','wb')\n",
    "f1.write(content)\n",
    "f.close()\n",
    "f1.close()"
   ]
  },
  {
   "cell_type": "code",
   "execution_count": null,
   "id": "7168ecb9",
   "metadata": {},
   "outputs": [],
   "source": [
    "with open('my_mod.txt', 'r+') as f:\n",
    "    content = f.readlines()\n",
    "    content.insert(4, \"Welcome to Python class at Learnbay conducted in Bengaluru\\n\")\n",
    "    f.seek(0)\n",
    "    f.writelines(content)\n"
   ]
  },
  {
   "cell_type": "code",
   "execution_count": 12,
   "id": "3074fd5b",
   "metadata": {},
   "outputs": [
    {
     "name": "stdout",
     "output_type": "stream",
     "text": [
      "5\n"
     ]
    }
   ],
   "source": [
    "import check\n",
    "print(check.summ(2,3))"
   ]
  },
  {
   "cell_type": "code",
   "execution_count": 13,
   "id": "4a2cca31",
   "metadata": {},
   "outputs": [
    {
     "data": {
      "text/plain": [
       "4"
      ]
     },
     "execution_count": 13,
     "metadata": {},
     "output_type": "execute_result"
    }
   ],
   "source": [
    "lst = [10,20,30,40]\n",
    "count = 0\n",
    "from functools import reduce\n",
    "reduce(lambda num1, num2:num1+num2, map(lambda num:1, lst))\n"
   ]
  },
  {
   "cell_type": "markdown",
   "id": "06296481",
   "metadata": {},
   "source": [
    "''\n",
    ".       - Any Character Except New Line\n",
    "\\d      - Digit (0-9)\n",
    "\\D      - Not a Digit (0-9)\n",
    "\\w      - Alphanumeric Character (a-z, A-Z, 0-9, _)\n",
    "\\W      - Non Alphanumeric Character\n",
    "\\s      - Whitespace (space, tab, newline)\n",
    "\\S      - Not Whitespace (space, tab, newline)\n",
    "\n",
    "\\b      - Word Boundary\n",
    "^       - Beginning of a String\n",
    "$       - End of a String\n",
    "\n",
    "[A-Z]   - Matches one Characters in brackets\n",
    "[^A-Z]  - Matches Characters NOT in brackets\n",
    "|       - Either Or\n",
    "(com|net)     - Group\n",
    "\n",
    "Quantifiers:\n",
    "*       - 0 or More\n",
    "+       - 1 or More\n",
    "?       - 0 or One\n",
    "{3}     - Exact Number\n",
    "{3,6}   - Range of Numbers (Minimum, Maximum)\n"
   ]
  },
  {
   "cell_type": "code",
   "execution_count": null,
   "id": "5c2f8663",
   "metadata": {},
   "outputs": [],
   "source": [
    "pattern=r'[\\w|-|\\.@[A=Z|a-z]*\\.[com|org|net]]"
   ]
  }
 ],
 "metadata": {
  "kernelspec": {
   "display_name": "Python 3",
   "language": "python",
   "name": "python3"
  },
  "language_info": {
   "codemirror_mode": {
    "name": "ipython",
    "version": 3
   },
   "file_extension": ".py",
   "mimetype": "text/x-python",
   "name": "python",
   "nbconvert_exporter": "python",
   "pygments_lexer": "ipython3",
   "version": "3.8.8"
  }
 },
 "nbformat": 4,
 "nbformat_minor": 5
}
