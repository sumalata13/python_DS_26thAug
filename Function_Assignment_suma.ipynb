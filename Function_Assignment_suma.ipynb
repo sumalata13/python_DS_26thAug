{
 "cells": [
  {
   "cell_type": "code",
   "execution_count": null,
   "metadata": {
    "id": "1YVTYu-CuCOO"
   },
   "outputs": [],
   "source": [
    "# Define a function calls addNumber(x, y) that takes in two number and returns the sum of the two numbers.\n",
    "\n",
    "def addNumber(x, y):\n",
    "    sum=x+y\n",
    "    return sum\n",
    "x,y=input(\"Enter 2 numbers :-\").split()\n",
    "print(addNumber(int(x),int(y)))\n"
   ]
  },
  {
   "cell_type": "code",
   "execution_count": null,
   "metadata": {
    "id": "1-gIq-Rju2i2"
   },
   "outputs": [],
   "source": [
    "# Define a function calls subtractNumber(x, y) that takes in two numbers and returns the difference of the two numbers.\n",
    "\n",
    "def subtractNumber(x, y):\n",
    "        return x-y if x>y else y-x\n",
    "x,y=input(\"Enter 2 numbers :-\").split()\n",
    "print(subtractNumber(int(x),int(y)))"
   ]
  },
  {
   "cell_type": "code",
   "execution_count": null,
   "metadata": {
    "id": "kiAE0iLbviG9"
   },
   "outputs": [],
   "source": [
    "# Write a function getBiggerNumber(x, y) that takes in two numbers as arguments and returns the bigger number.\n",
    "\n",
    "def getBiggerNumber(x, y):\n",
    "        return x if x>y else y\n",
    "x,y=input(\"Enter 2 numbers :-\").split()\n",
    "print(getBiggerNumber(int(x),int(y)))\n"
   ]
  },
  {
   "cell_type": "code",
   "execution_count": null,
   "metadata": {
    "id": "10B5oVcZh16d"
   },
   "outputs": [],
   "source": [
    "# Python provides many built-in modules with many useful functions. \n",
    "# One such module is the math module. The math module provides many useful functions such as sqrt(x), pow(x, y), ceil(x), floor(x) etc. \n",
    "# You will need to do a \"import math\" before you are allowed to use the functions within the math module.\n",
    "\n",
    "\n",
    "# Calculate the square root of 16 and stores it in the variable a\n",
    "\n",
    "\n",
    "# Calculate 3 to the power of 5 and stores it in the variable b\n",
    "\n",
    "\n",
    "# Calculate area of circle with radius = 3.0 by making use of the math.pi constant and store it in the variable c\n",
    "\n",
    "import math\n",
    "# print(dir(math))\n",
    "x=int(input(\"Enter the number :-\"))\n",
    "# lambda x:math.sqrt(x)\n",
    "a=lambda x:math.sqrt(x)\n",
    "print(\"Square root of the given number:-\",a(x))\n",
    "x,y=input(\"Enter 2 numbers:-\").split()\n",
    "b=math.pow(int(x),int(y))\n",
    "print(x,\"power of\",y,\" :-\",b)\n",
    "rad=eval(input(\"Enter the radius\"))\n",
    "c=math.pi*rad*rad\n",
    "print(\"area of the circle without trunc is \",c)\n",
    "print(\"area of the circle is \",math.trunc(c))"
   ]
  },
  {
   "cell_type": "code",
   "execution_count": null,
   "metadata": {
    "id": "Yado0B99h2E_"
   },
   "outputs": [],
   "source": [
    "# Write a function to convert temperature from Celsius to Fahrenheit scale.\n",
    "# oC to oF Conversion: Multipy by 9, then divide by 5, then add 32.\n",
    "\n",
    "# Note: Return a string of 2 decimal places.\n",
    "# In - Cel2Fah(28.0)\n",
    "# Out - '82.40'\n",
    "# In - Cel2Fah(0.00)\n",
    "# Out - '32.00'\n",
    "def Cel2Fah(tempInCel):\n",
    "    tempInFah=(tempInCel*9)/5+32\n",
    "    tempInFah= \"{:.2f}\".format(tempInFah)\n",
    "    return tempInFah\n",
    "tempInCel=eval(input(\"Enter temperature in celecius :-\"))\n",
    "print(tempInCel,\"degree celcius =\",Cel2Fah(tempInCel),\"degree Fahrenheit\")"
   ]
  },
  {
   "cell_type": "code",
   "execution_count": null,
   "metadata": {
    "id": "n7lsFol9h2ID"
   },
   "outputs": [],
   "source": [
    "# Write a function to compute the BMI of a person.\n",
    "#     BMI = weight(kg)  /  ( height(m)*height(m) )\n",
    "\n",
    "# Note: Return a string of 1 decimal place.\n",
    "# In - BMI(63, 1.7)\n",
    "# Out - '21.8'\n",
    "# In - BMI(110, 2)\n",
    "# Out - '27.5'\n",
    "w,h=input(\"Enter height in kgs and weight in metres :-\").split()\n",
    "bmi=lambda w,h:\"{:.1f}\".format(w/(h*h))\n",
    "print(\"bmi of the person is :-\",bmi(eval(w),eval(h)))\n"
   ]
  },
  {
   "cell_type": "code",
   "execution_count": null,
   "metadata": {
    "id": "f2tV1AU8h2LN"
   },
   "outputs": [],
   "source": [
    "# Write a function percent(value, total) that takes in two numbers as arguments, and returns the percentage value as an integer.\n",
    "# In - percent(46, 90)\n",
    "# Out - 51\n",
    "# In - percent(51, 51)\n",
    "# Out - 100\n",
    "# In - percent(63, 12)\n",
    "# Out - 525\n",
    "import math\n",
    "def percentage(val,tot) :\n",
    "    per=val/tot*100\n",
    "    return math.trunc(per)\n",
    "val=eval(input(\"Enter the value :-\"))\n",
    "tot=eval(input(\"Enter the Total :-\"))\n",
    "print(\"percentage is: \",percentage(val,tot))   \n"
   ]
  },
  {
   "cell_type": "code",
   "execution_count": null,
   "metadata": {
    "id": "QyoWR3dQh2OZ"
   },
   "outputs": [],
   "source": [
    "##### Write a function to compute the hypotenuse given sides a and b of the triangle.\n",
    "# Hint: You can use math.sqrt(x) to compute the square root of x.\n",
    "# In - hypotenuse(3, 4)\n",
    "# Out - 5\n",
    "# In - hypotenuse(5, 12)\n",
    "# Out - 13\n",
    "import math\n",
    "def hypotenuse(a,b):\n",
    "    return math.sqrt(a*a+b*b)\n",
    "a,b=input(\"Enter the 2 sides of a triangle :-\").split()\n",
    "print(\"hypotenuse of the triangle is : \",hypotenuse(eval(a),eval(b)))\n"
   ]
  },
  {
   "cell_type": "code",
   "execution_count": null,
   "metadata": {
    "id": "XthPUigkh2Ro"
   },
   "outputs": [],
   "source": [
    "# Write a function getSumOfLastDigits() that takes in a list of positive numbers and returns the sum of all the last digits in the list.\n",
    "# getSumOfLastDigits([2, 3, 4])\n",
    "# 9\n",
    "# getSumOfLastDigits([1, 23, 456])\n",
    "# 10\n",
    "import functools\n",
    "def getSumOfLastDigits(lst):\n",
    "    sum=0\n",
    "    for item in lst:\n",
    "        sum=sum+item%10\n",
    "    return sum\n",
    "x=int(input(\"Enter the count of numbers:-\"))\n",
    "lst=[]\n",
    "for i in range(x):\n",
    "    num=int(input())\n",
    "    lst.append(num)\n",
    "print(lst)\n",
    "print(\"Sum of last digits:-\",getSumOfLastDigits(lst))\n",
    "print(functools.reduce(lambda a, b: a+b, map(lambda x:x%10,lst))) #calculating using reduce"
   ]
  },
  {
   "cell_type": "code",
   "execution_count": null,
   "metadata": {
    "id": "T-uIqm9Mh2Un"
   },
   "outputs": [],
   "source": [
    "# Write a function that uses a default value.\n",
    "# In - introduce('Lim', 20)\n",
    "# Out - 'My name is Lim. I am 20 years old.'\n",
    "# In - introduce('Ahmad')\n",
    "# Out - 'My name is Ahmad. My age is secret.'\n",
    "def introduce(x,y='. My age is secret'):\n",
    "    return \"My name is \"+x+y\n",
    "name=input(\"Enter the name\")\n",
    "age=input(\"Enter the age \")\n",
    "if(age != \"\" ):\n",
    "    print(introduce(name,'. I am '+age+'years old.'))\n",
    "else:\n",
    "    print(introduce(name))\n"
   ]
  },
  {
   "cell_type": "code",
   "execution_count": null,
   "metadata": {
    "id": "h0pXo5vH6wA-"
   },
   "outputs": [],
   "source": [
    "# Write a function isEquilateral(x, y, z) that accepts the 3 sides of a triangle as arguments. \n",
    "# The program should return True if it is an equilateral triangle.\n",
    "\n",
    "# In - isEquilateral(2, 4, 3)\n",
    "# False - False\n",
    "# In - isEquilateral(3, 3, 3)\n",
    "# Out - True\n",
    "# In - isEquilateral(-3, -3, -3)\n",
    "# Out - False\n",
    "def isEquilateral(x, y, z):\n",
    "    if x==y==z :\n",
    "        return True\n",
    "    else:\n",
    "        return False\n",
    "       \n",
    "a,b,c=input(\"Enter the side of a triangle\").split()\n",
    "print('Traingle is Equilateral' if isEquilateral(eval(a), eval(b), eval(c)) == True else 'Triangle is not Equilateral')"
   ]
  },
  {
   "cell_type": "code",
   "execution_count": null,
   "metadata": {
    "id": "3NvcKCkn6wFy"
   },
   "outputs": [],
   "source": [
    "# For a quadratic equation in the form of ax2+bx+c, the discriminant, D is b2-4ac. Write a function to compute the discriminant, D.\n",
    "# In - quadratic(1, 2, 3)\n",
    "# Out - 'The discriminant is -8.'\n",
    "# In - quadratic(1, 3, 2)\n",
    "# Out - 'The discriminant is 1.'\n",
    "# In - quadratic(1, 4, 4)\n",
    "# Out - 'The discriminant is 0.'\n",
    "def quadratic(a, b, c):\n",
    "    disc=b*b-4*a*c\n",
    "    return disc\n",
    "a,b,c=input(\"Enter the coefficients a,b,c :-\").split()\n",
    "eq=a+'x2+'+b+'x+'+c\n",
    "print(\"Quadratic equation is :\" ,eq)\n",
    "print('The discriminant is ',quadratic(eval(a),eval(b),eval(c)))\n",
    "\n"
   ]
  },
  {
   "cell_type": "code",
   "execution_count": null,
   "metadata": {
    "colab": {
     "base_uri": "https://localhost:8080/",
     "height": 34
    },
    "id": "ihmuttBS6wJQ",
    "outputId": "0ef031e9-dec6-4ffe-b1ea-38d836dbcdcf"
   },
   "outputs": [],
   "source": [
    "# Define a function calls addFirstAndLast(x) that takes in a list of numbers and returns the sum of the first and last numbers.\n",
    "# In - addFirstAndLast([])\n",
    "# Out - 0\n",
    "# In - addFirstAndLast([2, 7, 3])\n",
    "# Out - 5\n",
    "# In - addFirstAndLast([10])\n",
    "# Out - 10\n",
    "\n",
    "def addFirstAndLast(lst):\n",
    "    firstVal=lst[0]\n",
    "    indx=0\n",
    "    for item in lst:\n",
    "        indx=lst.index(item)\n",
    "    lastVal=lst[indx]\n",
    "    return \n",
    "lst=input(\"enter the list values\").split()\n",
    "print(addFirstAndLast(lst)\n",
    "addFirstAndLast([2,7,3])\n",
    "addFirstAndLast([])\n",
    "addFirstAndLast([10])"
   ]
  },
  {
   "cell_type": "code",
   "execution_count": null,
   "metadata": {
    "colab": {
     "base_uri": "https://localhost:8080/",
     "height": 34
    },
    "id": "lEt9HNPI6wM0",
    "outputId": "b07e15c3-a864-454c-aef5-1f1f0e07b39a"
   },
   "outputs": [],
   "source": [
    "# Complete the 'lambda' expression so that it returns True if the argument is an even number, and False otherwise.\n",
    "\n",
    "(lambda num : True if num%2==0 else False )(9)"
   ]
  },
  {
   "cell_type": "code",
   "execution_count": null,
   "metadata": {
    "colab": {
     "base_uri": "https://localhost:8080/",
     "height": 35
    },
    "id": "JYWSZXPg6wQN",
    "outputId": "7b71e08d-573f-4d03-d5e3-e220df4c3b90"
   },
   "outputs": [],
   "source": [
    "\n",
    "# Get the documentation of below function\n",
    "\n",
    "def getScore():\n",
    "  ''''A function that computes and returns the final score.'''\n",
    "  pass\n"
   ]
  },
  {
   "cell_type": "code",
   "execution_count": null,
   "metadata": {
    "colab": {
     "base_uri": "https://localhost:8080/",
     "height": 34
    },
    "id": "zmi81hi76wTK",
    "outputId": "232b4456-63ad-4582-d2cd-d888952dc957"
   },
   "outputs": [],
   "source": [
    "# In Python, it is possible to pass a function as a argument to another function. \n",
    "# Write a function useFunction(func, num) that takes in a function and a number as arguments. \n",
    "# The useFunction should produce the output shown in the examples given below.\n",
    "\n",
    "# def addOne(x):\n",
    "#   return x + 1\n",
    "# useFunction(addOne, 4)\n",
    "# 25\n",
    "# useFunction(addOne, 9)\n",
    "# 100\n",
    "# useFunction(addOne, 0)\n",
    "# 1\n",
    "def addOne(num):\n",
    "    return num+1\n",
    "\n",
    "def useFunction(addOne, num):\n",
    "    return addOne(num)**2\n",
    "print(useFunction(addOne,4))\n",
    "print(useFunction(addOne,9))\n",
    "print(useFunction(addOne,0))"
   ]
  },
  {
   "cell_type": "code",
   "execution_count": null,
   "metadata": {
    "id": "JJm1zFMX6wWK"
   },
   "outputs": [],
   "source": [
    "# Write a function find_max that accepts three numbers as arguments and returns the largest number among three. \n",
    "# Write another function main, in main() function accept three numbers from user and call find_max.\n",
    "def find_max(a,b,c):\n",
    "    if(a>b):\n",
    "        if(a>c):\n",
    "            max=a\n",
    "        else:\n",
    "            max=c\n",
    "    else:\n",
    "        if(b>c):\n",
    "            max=b\n",
    "        else:\n",
    "            max=c\n",
    "    return max\n",
    "def accept_numbers():\n",
    "    a,b,c=input(\"Enter 3 numbers : \").split()\n",
    "    return find_max(a,b,c)\n",
    "print(\"Greatest of 3 numbers :-\",accept_numbers())"
   ]
  },
  {
   "cell_type": "code",
   "execution_count": null,
   "metadata": {
    "colab": {
     "base_uri": "https://localhost:8080/",
     "height": 34
    },
    "id": "PBvBwg0O6waD",
    "outputId": "57768b69-c749-4d88-be06-7a9d41a98de2"
   },
   "outputs": [],
   "source": [
    "# Write a function, is_vowel that returns the value true if a given character is a vowel, \n",
    "# and otherwise returns false. \n",
    "# Write another function main, in main() function accept a string from user and count number \n",
    "# of vowels in that string.\n",
    "def isVowel(chr):\n",
    "    if(chr=='A' or chr=='a' or\n",
    "      chr=='E' or chr=='e' or\n",
    "      chr=='I' or chr=='i' or\n",
    "      chr=='O' or chr=='o' or\n",
    "      chr=='U' or chr=='u' ):\n",
    "         return True \n",
    "    else:\n",
    "        return False\n",
    "def vowelCount(str):\n",
    "    cnt=0\n",
    "    for c in str:\n",
    "        if isVowel(c) == True:\n",
    "            cnt+=1\n",
    "    return cnt\n",
    "str=input(\"Enter the string :\")\n",
    "print(\"Number of vowels in the entered string are\",vowelCount(str))\n",
    "    "
   ]
  },
  {
   "cell_type": "code",
   "execution_count": null,
   "metadata": {},
   "outputs": [],
   "source": [
    "# Write a function named is_prime, which takes an integer as an argument and returns true \n",
    "# if the argument is a prime number, or false otherwise. \n",
    "# Also, write the main function that displays prime numbers between 1 to 500.\n",
    "def is_prime(num):\n",
    "    cnt=0\n",
    "    if(num>1):\n",
    "        for num1 in range(2,num):\n",
    "            if num%num1==0:\n",
    "                cnt=1\n",
    "                break\n",
    "    if(cnt==0):\n",
    "        return True\n",
    "    else:\n",
    "        return False\n",
    "# for num in range(1,50):\n",
    "#     if(is_prime(num)):\n",
    "#         print(num)\n",
    "print(list(filter(lambda num:is_prime(num),range(1,100))))\n"
   ]
  },
  {
   "cell_type": "code",
   "execution_count": null,
   "metadata": {},
   "outputs": [],
   "source": [
    "# Write a function in python to find the sum of the cube of elements in a list. \n",
    "# The list is received as an argument to the function, in turn, the function must return the sum. \n",
    "# Write the main function which invokes the above function.\n",
    "def sumofCubes(lst):\n",
    "    sum=0\n",
    "    for item in lst:\n",
    "        sum+=int(item)*int(item)*int(item)\n",
    "    return sum\n",
    "lst=input(\"Enter the list of numbers\").split()\n",
    "print(sumofCubes(lst))"
   ]
  },
  {
   "cell_type": "code",
   "execution_count": null,
   "metadata": {},
   "outputs": [],
   "source": [
    "# Write the definition of a function zero_ending(scores) to add all those values in the list of scores, \n",
    "# which are ending with zero and display the sum.\n",
    "# For example: If the scores contain [200, 456, 300, 100, 234, 678] The sum should be displayed as 600\n",
    "def zero_ending(lst):\n",
    "    sum=0\n",
    "    for item in lst:\n",
    "        if int(item)%10==0:\n",
    "            sum+=int(item)\n",
    "    return sum\n",
    "lst=input(\"Enter the list of scores:\").split()\n",
    "print(\"Sum ofzero ending scores :\",zero_ending(lst))"
   ]
  },
  {
   "cell_type": "code",
   "execution_count": null,
   "metadata": {},
   "outputs": [],
   "source": [
    "# Write a definition of a method count_now(places) to find and display those place names, \n",
    "# in which there are more than 5 characters.\n",
    "\n",
    "# For example :\n",
    "# If the list places contains\n",
    "# [\"DELHI\",\"LONDON\",\"PARIS\",\"NEW YORK\",\"DUBAI\"]\n",
    "# The following should get displayed :\n",
    "# LONDON\n",
    "# NEW YORK\n",
    "lst=input(\"Enter the list of cities :\").split()\n",
    "print(list(filter(lambda x:len(x)>5,lst)))"
   ]
  },
  {
   "cell_type": "code",
   "execution_count": null,
   "metadata": {},
   "outputs": [],
   "source": [
    "# Write a method in python to display the elements of list thrice if it is a number and display \n",
    "# the element terminated with ‘#’ if it is not a number.\n",
    "\n",
    "# For example, if the content of list is as follows :\n",
    "# ThisList=[‘41’,‘DROND’,‘GIRIRAJ’, ‘13’,‘ZARA’]\n",
    "# The output should be\n",
    "# 414141\n",
    "# DROND#\n",
    "# GIRIRAJ#\n",
    "# 131313\n",
    "# ZARA#\n",
    "lst=input(\"Enter the list elements :\").split()\n",
    "print(list(map(lambda x: x+x+x if x[0].isdigit() else x+\"#\",lst))"
   ]
  },
  {
   "cell_type": "code",
   "execution_count": 9,
   "metadata": {},
   "outputs": [
    {
     "name": "stdout",
     "output_type": "stream",
     "text": [
      "0\n"
     ]
    }
   ],
   "source": [
    "# For a given list of values in descending order, write a method in python to search \n",
    "# for a value with the help of Binary Search method. \n",
    "# The method should return position of the value and should return -1 if the value not present in the list.\n",
    "def binSearch(lst,low,high,num):\n",
    "    mid=int((low+high)/2)\n",
    "    if(num==lst[mid]):\n",
    "#         print(\"mid value\",mid)\n",
    "        return mid\n",
    "    elif(num>lst[mid]):\n",
    "        return binSearch(lst,low,mid-1,num)\n",
    "    elif(num<lst[mid]):\n",
    "        return binSearch(lst,mid+1,high,num)\n",
    "    if(low==high):\n",
    "        return -1\n",
    "    \n",
    "lst=[34,29,18,11,9]\n",
    "lenList=0s\n",
    "for i in lst:\n",
    "    lenList+=1\n",
    "print(binSearch(lst,0,lenList-1,34))"
   ]
  },
  {
   "cell_type": "code",
   "execution_count": null,
   "metadata": {},
   "outputs": [],
   "source": [
    "# Write a function half_and_half that takes in a list and change the list \n",
    "# such that the elements of the second half are now in the first half.\n",
    "\n",
    "# For example, if the size of list is even and content of list is as follows :\n",
    "# my_liist = [10,20,30,40,50,60]\n",
    "# The output should be\n",
    "# [40,50,60,10,20,30]\n",
    "# if the size of list is odd and content of list is as follows :\n",
    "# my_liist = [10,20,30,40,50,60,70]\n",
    "# The output should be\n",
    "# [50,60,70,40,10,20,30]\n",
    "import math as mt\n",
    "def half_and_half(lst):\n",
    "    i=0\n",
    "    lst1=[]\n",
    "    lst2=[]\n",
    "    for item in lst:\n",
    "        i+=1\n",
    "    if(i%2==0):\n",
    "        for x in range(0,int(i/2)):\n",
    "            lst1.append(lst[x])\n",
    "        for x in range(int(i/2),i):\n",
    "            lst2.append(lst[x])\n",
    "        return lst2+lst1\n",
    "    else:\n",
    "        mid=mt.ceil(i/2)\n",
    "        lst3=[lst[mid-1]]\n",
    "        for x in range(0,int((i-1)/2)):\n",
    "            lst1.append(lst[x])\n",
    "        for x in range(int((i+1)/2),i):\n",
    "            lst2.append(lst[x])\n",
    "        return lst2+lst3+lst1\n",
    "my_list=input(\"Enter the values of the list :\").split()\n",
    "print(half_and_half(my_list))"
   ]
  },
  {
   "cell_type": "code",
   "execution_count": null,
   "metadata": {
    "ExecuteTime": {
     "end_time": "2021-05-29T10:39:43.694779Z",
     "start_time": "2021-05-29T10:39:43.691446Z"
    }
   },
   "outputs": [],
   "source": [
    "# Write a function that accepts a dictionary as an argument. If the dictionary contains replicate values, \n",
    "# return an empty dictionary, otherwise, return a new dictionary whose values are now the keys and whose \n",
    "# keys are the values.\n",
    "def invertDictionary(d):\n",
    "    key_lst = list(d.keys())\n",
    "    val_lst = list(d.values())\n",
    "    out_dict = {}\n",
    "    \n",
    "    for item in val_lst  :\n",
    "        cnt=0\n",
    "        for item1 in key_lst :\n",
    "            if d[item1]==item:\n",
    "                cnt+=1\n",
    "                if (cnt>1):\n",
    "                    return {}\n",
    "        for item1 in key_lst :\n",
    "            if d[item1]==item:\n",
    "                out_dict[item]=item1\n",
    "    return out_dict    \n",
    "print(invertDictionary({'a':2, 'b':1, 'c':2, 'd':1}))\n",
    "print(invertDictionary({'a':2, 'b':1, 'c':3, 'd':4}))"
   ]
  },
  {
   "cell_type": "code",
   "execution_count": null,
   "metadata": {},
   "outputs": [],
   "source": []
  },
  {
   "cell_type": "code",
   "execution_count": null,
   "metadata": {},
   "outputs": [],
   "source": []
  },
  {
   "cell_type": "code",
   "execution_count": null,
   "metadata": {},
   "outputs": [],
   "source": []
  },
  {
   "cell_type": "code",
   "execution_count": null,
   "metadata": {},
   "outputs": [],
   "source": []
  }
 ],
 "metadata": {
  "colab": {
   "name": "Function_Assignment.ipynb",
   "provenance": []
  },
  "kernelspec": {
   "display_name": "Python 3",
   "language": "python",
   "name": "python3"
  },
  "language_info": {
   "codemirror_mode": {
    "name": "ipython",
    "version": 3
   },
   "file_extension": ".py",
   "mimetype": "text/x-python",
   "name": "python",
   "nbconvert_exporter": "python",
   "pygments_lexer": "ipython3",
   "version": "3.8.8"
  }
 },
 "nbformat": 4,
 "nbformat_minor": 1
}
