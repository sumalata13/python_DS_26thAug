{
 "cells": [
  {
   "cell_type": "code",
   "execution_count": 20,
   "id": "e5d2baae",
   "metadata": {},
   "outputs": [
    {
     "name": "stdout",
     "output_type": "stream",
     "text": [
      " Value of bool1 is --- True--- \n",
      "Id ofbool1 is --- 140728524592976\n"
     ]
    }
   ],
   "source": [
    "bool1= True\n",
    "print (' Value of bool1 is ', bool1,'\\nId of bool1 is ' ,id(bool1), sep='--- ')\n"
   ]
  },
  {
   "cell_type": "code",
   "execution_count": null,
   "id": "03180687",
   "metadata": {},
   "outputs": [],
   "source": []
  },
  {
   "cell_type": "code",
   "execution_count": null,
   "id": "3ae6470a",
   "metadata": {},
   "outputs": [],
   "source": []
  },
  {
   "cell_type": "code",
   "execution_count": null,
   "id": "cd30088f",
   "metadata": {},
   "outputs": [],
   "source": []
  }
 ],
 "metadata": {
  "kernelspec": {
   "display_name": "Python 3",
   "language": "python",
   "name": "python3"
  },
  "language_info": {
   "codemirror_mode": {
    "name": "ipython",
    "version": 3
   },
   "file_extension": ".py",
   "mimetype": "text/x-python",
   "name": "python",
   "nbconvert_exporter": "python",
   "pygments_lexer": "ipython3",
   "version": "3.8.8"
  }
 },
 "nbformat": 4,
 "nbformat_minor": 5
}
