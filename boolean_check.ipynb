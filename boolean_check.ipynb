{
 "cells": [
  {
   "cell_type": "code",
   "execution_count": 9,
   "id": "6ae2383c",
   "metadata": {},
   "outputs": [
    {
     "name": "stdout",
     "output_type": "stream",
     "text": [
      "boolean of check ---True---boolean of check1---True---id of check ---140728524876656---id of check1 ---140728524876656\n"
     ]
    }
   ],
   "source": [
    "check = 35\n",
    "check1 = 35\n",
    "print('boolean of check ', bool(check), 'boolean of check1',bool(check1),'id of check ',id(check),'id of check1 ',id(check1),sep='---')     "
   ]
  },
  {
   "cell_type": "markdown",
   "id": "bb676b19",
   "metadata": {},
   "source": [
    "Since for small integers (between -5 and 256) and interned strings, with a special length --usually less than 20 characters--* which are singletons and have the same id (actually one object with multiple pointers). "
   ]
  },
  {
   "cell_type": "code",
   "execution_count": null,
   "id": "96e4713f",
   "metadata": {},
   "outputs": [],
   "source": []
  },
  {
   "cell_type": "code",
   "execution_count": null,
   "id": "b1fe80e9",
   "metadata": {},
   "outputs": [],
   "source": []
  }
 ],
 "metadata": {
  "kernelspec": {
   "display_name": "Python 3",
   "language": "python",
   "name": "python3"
  },
  "language_info": {
   "codemirror_mode": {
    "name": "ipython",
    "version": 3
   },
   "file_extension": ".py",
   "mimetype": "text/x-python",
   "name": "python",
   "nbconvert_exporter": "python",
   "pygments_lexer": "ipython3",
   "version": "3.8.8"
  }
 },
 "nbformat": 4,
 "nbformat_minor": 5
}
